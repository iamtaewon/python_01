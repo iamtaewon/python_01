{
 "cells": [
  {
   "attachments": {},
   "cell_type": "markdown",
   "metadata": {},
   "source": [
    "# mongodb\n",
    "1. 라이브러리 설치\n",
    "2. 라이브러리 로드\n",
    "3. CRUD -> create r? update delete"
   ]
  },
  {
   "cell_type": "code",
   "execution_count": 89,
   "metadata": {},
   "outputs": [
    {
     "name": "stdout",
     "output_type": "stream",
     "text": [
      "Requirement already satisfied: pymongo in /Library/Frameworks/Python.framework/Versions/3.11/lib/python3.11/site-packages (4.3.3)\n",
      "Requirement already satisfied: dnspython<3.0.0,>=1.16.0 in /Library/Frameworks/Python.framework/Versions/3.11/lib/python3.11/site-packages (from pymongo) (2.3.0)\n"
     ]
    }
   ],
   "source": [
    "!pip3 install pymongo"
   ]
  },
  {
   "cell_type": "code",
   "execution_count": 90,
   "metadata": {},
   "outputs": [],
   "source": [
    "from pymongo import MongoClient"
   ]
  },
  {
   "cell_type": "code",
   "execution_count": 91,
   "metadata": {},
   "outputs": [],
   "source": [
    "client = MongoClient(\n",
    "    host = 'localhost',\n",
    "    port = 27017\n",
    ")"
   ]
  },
  {
   "cell_type": "code",
   "execution_count": 92,
   "metadata": {},
   "outputs": [
    {
     "data": {
      "text/plain": [
       "['admin', 'config', 'local', 'ubion']"
      ]
     },
     "execution_count": 92,
     "metadata": {},
     "output_type": "execute_result"
    }
   ],
   "source": [
    "# mongodb에 있는 데이터베이스의 목록 출력\n",
    "client.list_database_names()"
   ]
  },
  {
   "cell_type": "code",
   "execution_count": 93,
   "metadata": {},
   "outputs": [],
   "source": [
    "# 데이터베이스를 선택\n",
    "db = client['ubion']"
   ]
  },
  {
   "cell_type": "code",
   "execution_count": 94,
   "metadata": {},
   "outputs": [],
   "source": [
    "# collection 접근 (collection은 sql에서 table과 같은 의미)\n",
    "collection = db['test']"
   ]
  },
  {
   "cell_type": "code",
   "execution_count": 95,
   "metadata": {},
   "outputs": [
    {
     "data": {
      "text/plain": [
       "<pymongo.results.InsertOneResult at 0x10c33a650>"
      ]
     },
     "execution_count": 95,
     "metadata": {},
     "output_type": "execute_result"
    }
   ],
   "source": [
    "# CRUD -> C\n",
    "# create -> insert()\n",
    "# insert_one() / insert_many()\n",
    "data = {\n",
    "    'id' : 'test',\n",
    "    'pass' : '1234',\n",
    "}\n",
    "collection.insert_one(data)"
   ]
  },
  {
   "cell_type": "code",
   "execution_count": 96,
   "metadata": {},
   "outputs": [
    {
     "data": {
      "text/plain": [
       "{'_id': ObjectId('643f8cc53e5de3f745fb68d5'),\n",
       " 'name': 'test1',\n",
       " 'phone': '01011112222',\n",
       " 'gender': 'male'}"
      ]
     },
     "execution_count": 96,
     "metadata": {},
     "output_type": "execute_result"
    }
   ],
   "source": [
    "collection.find_one()"
   ]
  },
  {
   "cell_type": "code",
   "execution_count": 97,
   "metadata": {},
   "outputs": [],
   "source": [
    "\n",
    "# 해시값 : 암호화 된 데이터로 32자리 수"
   ]
  },
  {
   "cell_type": "code",
   "execution_count": 98,
   "metadata": {},
   "outputs": [
    {
     "data": {
      "text/plain": [
       "<pymongo.results.InsertManyResult at 0x10c33a7d0>"
      ]
     },
     "execution_count": 98,
     "metadata": {},
     "output_type": "execute_result"
    }
   ],
   "source": [
    "data = [\n",
    "    {\n",
    "        'name' : 'test1',\n",
    "        'phone' : '01011112222',\n",
    "        'gender' : 'male'\n",
    "    },\n",
    "    {\n",
    "        'loc' : 'seoul'\n",
    "    }\n",
    "]\n",
    "collection.insert_many(data)"
   ]
  },
  {
   "cell_type": "code",
   "execution_count": 99,
   "metadata": {},
   "outputs": [
    {
     "data": {
      "text/plain": [
       "[{'_id': ObjectId('643f8cc53e5de3f745fb68d5'),\n",
       "  'name': 'test1',\n",
       "  'phone': '01011112222',\n",
       "  'gender': 'male'},\n",
       " {'_id': ObjectId('643f8cc53e5de3f745fb68d6'), 'loc': 'seoul'},\n",
       " {'_id': ObjectId('643f96c63e5de3f745fb68d9'),\n",
       "  'name': 'test1',\n",
       "  'phone': '01011112222',\n",
       "  'gender': 'male'},\n",
       " {'_id': ObjectId('643f96c63e5de3f745fb68da'), 'loc': 'seoul'},\n",
       " {'_id': ObjectId('643f96d33e5de3f745fb68dd'),\n",
       "  'name': 'test1',\n",
       "  'phone': '01011112222',\n",
       "  'gender': 'male'},\n",
       " {'_id': ObjectId('643f96d33e5de3f745fb68de'), 'loc': 'seoul'},\n",
       " {'_id': ObjectId('643f96f93e5de3f745fb68e0'), 'id': 'test', 'pass': '0000'},\n",
       " {'_id': ObjectId('643f96fa3e5de3f745fb68e1'),\n",
       "  'name': 'test1',\n",
       "  'phone': '01011112222',\n",
       "  'gender': 'male'},\n",
       " {'_id': ObjectId('643f96fa3e5de3f745fb68e2'), 'loc': 'seoul'},\n",
       " {'_id': ObjectId('643f97143e5de3f745fb68e4'), 'id': 'test', 'pass': '1234'},\n",
       " {'_id': ObjectId('643f97143e5de3f745fb68e5'),\n",
       "  'name': 'test1',\n",
       "  'phone': '01011112222',\n",
       "  'gender': 'male'},\n",
       " {'_id': ObjectId('643f97143e5de3f745fb68e6'), 'loc': 'seoul'}]"
      ]
     },
     "execution_count": 99,
     "metadata": {},
     "output_type": "execute_result"
    }
   ],
   "source": [
    "list(collection.find())"
   ]
  },
  {
   "attachments": {},
   "cell_type": "markdown",
   "metadata": {},
   "source": [
    "1. sql에서 test table에서 name이 test1인 경우의 데이터를 출력\n",
    "    - select * from test where name = 'test1'"
   ]
  },
  {
   "cell_type": "code",
   "execution_count": 100,
   "metadata": {},
   "outputs": [
    {
     "data": {
      "text/plain": [
       "[{'_id': ObjectId('643f8cc53e5de3f745fb68d5'),\n",
       "  'name': 'test1',\n",
       "  'phone': '01011112222',\n",
       "  'gender': 'male'},\n",
       " {'_id': ObjectId('643f96c63e5de3f745fb68d9'),\n",
       "  'name': 'test1',\n",
       "  'phone': '01011112222',\n",
       "  'gender': 'male'},\n",
       " {'_id': ObjectId('643f96d33e5de3f745fb68dd'),\n",
       "  'name': 'test1',\n",
       "  'phone': '01011112222',\n",
       "  'gender': 'male'},\n",
       " {'_id': ObjectId('643f96fa3e5de3f745fb68e1'),\n",
       "  'name': 'test1',\n",
       "  'phone': '01011112222',\n",
       "  'gender': 'male'},\n",
       " {'_id': ObjectId('643f97143e5de3f745fb68e5'),\n",
       "  'name': 'test1',\n",
       "  'phone': '01011112222',\n",
       "  'gender': 'male'}]"
      ]
     },
     "execution_count": 100,
     "metadata": {},
     "output_type": "execute_result"
    }
   ],
   "source": [
    "list(collection.find({\"name\" : \"test1\"}))"
   ]
  },
  {
   "attachments": {},
   "cell_type": "markdown",
   "metadata": {},
   "source": [
    "1. 해당하는 컬럼의 데이터만 출력하려면\n",
    "    - select name from test"
   ]
  },
  {
   "cell_type": "code",
   "execution_count": 101,
   "metadata": {},
   "outputs": [
    {
     "data": {
      "text/plain": [
       "[{'_id': ObjectId('643f8cc53e5de3f745fb68d5'), 'name': 'test1'},\n",
       " {'_id': ObjectId('643f8cc53e5de3f745fb68d6')},\n",
       " {'_id': ObjectId('643f96c63e5de3f745fb68d9'), 'name': 'test1'},\n",
       " {'_id': ObjectId('643f96c63e5de3f745fb68da')},\n",
       " {'_id': ObjectId('643f96d33e5de3f745fb68dd'), 'name': 'test1'},\n",
       " {'_id': ObjectId('643f96d33e5de3f745fb68de')},\n",
       " {'_id': ObjectId('643f96f93e5de3f745fb68e0')},\n",
       " {'_id': ObjectId('643f96fa3e5de3f745fb68e1'), 'name': 'test1'},\n",
       " {'_id': ObjectId('643f96fa3e5de3f745fb68e2')},\n",
       " {'_id': ObjectId('643f97143e5de3f745fb68e4')},\n",
       " {'_id': ObjectId('643f97143e5de3f745fb68e5'), 'name': 'test1'},\n",
       " {'_id': ObjectId('643f97143e5de3f745fb68e6')}]"
      ]
     },
     "execution_count": 101,
     "metadata": {},
     "output_type": "execute_result"
    }
   ],
   "source": [
    "list(collection.find({}, {'name':1}))"
   ]
  },
  {
   "attachments": {},
   "cell_type": "markdown",
   "metadata": {},
   "source": [
    "1. 데이터의 수정\n",
    "    - update test set pass = '0000' where id = 'test'\n",
    "    - test 테이블의 id가 test인 데이터에서 pass의 값을 0000으로 수정하겠다"
   ]
  },
  {
   "cell_type": "code",
   "execution_count": 102,
   "metadata": {},
   "outputs": [
    {
     "data": {
      "text/plain": [
       "<pymongo.results.UpdateResult at 0x10c3c9480>"
      ]
     },
     "execution_count": 102,
     "metadata": {},
     "output_type": "execute_result"
    }
   ],
   "source": [
    "collection.update_one(\n",
    "    {\n",
    "        \"id\" : \"test\"\n",
    "    },\n",
    "    {\n",
    "        \"$set\" : {\n",
    "            'pass' : '0000'\n",
    "        }\n",
    "    }\n",
    ")"
   ]
  },
  {
   "cell_type": "code",
   "execution_count": 103,
   "metadata": {},
   "outputs": [
    {
     "data": {
      "text/plain": [
       "{'_id': ObjectId('643f8cc53e5de3f745fb68d5'),\n",
       " 'name': 'test1',\n",
       " 'phone': '01011112222',\n",
       " 'gender': 'male'}"
      ]
     },
     "execution_count": 103,
     "metadata": {},
     "output_type": "execute_result"
    }
   ],
   "source": [
    "collection.find_one()"
   ]
  },
  {
   "attachments": {},
   "cell_type": "markdown",
   "metadata": {},
   "source": [
    "1. 데이터의 삭제\n",
    "    - delete from test where id = 'test'\n",
    "    - test 테이블에서 id가 'test'인 데이터를 삭제"
   ]
  },
  {
   "cell_type": "code",
   "execution_count": 104,
   "metadata": {},
   "outputs": [
    {
     "data": {
      "text/plain": [
       "<pymongo.results.DeleteResult at 0x10c337e20>"
      ]
     },
     "execution_count": 104,
     "metadata": {},
     "output_type": "execute_result"
    }
   ],
   "source": [
    "collection.delete_one(\n",
    "    {\n",
    "        'id' : 'test'\n",
    "    }\n",
    ")"
   ]
  },
  {
   "cell_type": "code",
   "execution_count": 105,
   "metadata": {},
   "outputs": [
    {
     "data": {
      "text/plain": [
       "[{'_id': ObjectId('643f8cc53e5de3f745fb68d5'),\n",
       "  'name': 'test1',\n",
       "  'phone': '01011112222',\n",
       "  'gender': 'male'},\n",
       " {'_id': ObjectId('643f8cc53e5de3f745fb68d6'), 'loc': 'seoul'},\n",
       " {'_id': ObjectId('643f96c63e5de3f745fb68d9'),\n",
       "  'name': 'test1',\n",
       "  'phone': '01011112222',\n",
       "  'gender': 'male'},\n",
       " {'_id': ObjectId('643f96c63e5de3f745fb68da'), 'loc': 'seoul'},\n",
       " {'_id': ObjectId('643f96d33e5de3f745fb68dd'),\n",
       "  'name': 'test1',\n",
       "  'phone': '01011112222',\n",
       "  'gender': 'male'},\n",
       " {'_id': ObjectId('643f96d33e5de3f745fb68de'), 'loc': 'seoul'},\n",
       " {'_id': ObjectId('643f96fa3e5de3f745fb68e1'),\n",
       "  'name': 'test1',\n",
       "  'phone': '01011112222',\n",
       "  'gender': 'male'},\n",
       " {'_id': ObjectId('643f96fa3e5de3f745fb68e2'), 'loc': 'seoul'},\n",
       " {'_id': ObjectId('643f97143e5de3f745fb68e4'), 'id': 'test', 'pass': '1234'},\n",
       " {'_id': ObjectId('643f97143e5de3f745fb68e5'),\n",
       "  'name': 'test1',\n",
       "  'phone': '01011112222',\n",
       "  'gender': 'male'},\n",
       " {'_id': ObjectId('643f97143e5de3f745fb68e6'), 'loc': 'seoul'}]"
      ]
     },
     "execution_count": 105,
     "metadata": {},
     "output_type": "execute_result"
    }
   ],
   "source": [
    "list(collection.find())"
   ]
  },
  {
   "cell_type": "code",
   "execution_count": 106,
   "metadata": {},
   "outputs": [
    {
     "data": {
      "text/plain": [
       "[]"
      ]
     },
     "execution_count": 106,
     "metadata": {},
     "output_type": "execute_result"
    }
   ],
   "source": [
    "list(client['ubion']['test2'].find())"
   ]
  },
  {
   "attachments": {},
   "cell_type": "markdown",
   "metadata": {},
   "source": [
    "### mongodb select 조건식\n",
    "\n",
    "    - find(옵션1, 옵션2, 옵션3, ... , 컬럼 선택)\n",
    "        \n",
    "        1. db.collection.find() -> SELECT * FROM TABLE\n",
    "        2. db.collection.find({}, {\"id:1, \"pass\":1}) -> SELECT ID, PASS FROM TABLE\n",
    "        3. db.collection.find({}, {\"id\":1, \"pass\":1, \"_id\" :0}) -> 2번 과정과 같은 sql문이지만, _id를 보여주지 않겠다.\n",
    "        4. Db.collection.find({\"id\":\"test\"}) -> SELECT * FROM TABLE WHERE ID = 'test'\n",
    "        5. db.collection.find({\"id\":\"test\", \"pass\":\"1234\"}) -> SELECT * FROM TABLE WHERE ID = 'test' AND pass = '1234'\n",
    "        6. db.collection.find({\"id\":\"test\"}, {\"pass\":\"1234\"}) -> SELECT * FROM TABLE WHERE ID = 'test' OR pass = '1234\n",
    "        7. db.collection.find({\"age\" : {\"$gt\" : 25}}) -> SELECT * FROM TABLE WHERE age > 25\n",
    "        8. db.collection.find({\"age\" : {\"$lt\" : 25}}) -> SELECTt * FROM TABLE WHERE age < 25\n",
    "        9. db.collection.find({\"id\": {/bc/}}) -> SELECT * FROM TABLE WHERE id LIKE '%bc%'\n",
    "        10. db.collection.find().sort({\"id\":1}) -> SELECT * FROM TABLE ORDER BY id ASC\n",
    "        11. db.collection.find().sort({\"id\":-1}) -> SELECT * FROM TABLE ORDER BY id DESC\n",
    "        12. db.collection.find().limit(10) -> SELECT * FROM TABLE LIMIT 10"
   ]
  },
  {
   "cell_type": "markdown",
   "metadata": {},
   "source": []
  }
 ],
 "metadata": {
  "kernelspec": {
   "display_name": "Python 3",
   "language": "python",
   "name": "python3"
  },
  "language_info": {
   "codemirror_mode": {
    "name": "ipython",
    "version": 3
   },
   "file_extension": ".py",
   "mimetype": "text/x-python",
   "name": "python",
   "nbconvert_exporter": "python",
   "pygments_lexer": "ipython3",
   "version": "3.11.2"
  },
  "orig_nbformat": 4
 },
 "nbformat": 4,
 "nbformat_minor": 2
}
