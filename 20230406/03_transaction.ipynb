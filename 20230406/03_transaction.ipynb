{
 "cells": [
  {
   "attachments": {},
   "cell_type": "markdown",
   "metadata": {},
   "source": [
    "## 예제\n",
    "1. csv 폴더에서 4개의 파일을 로드 (tran_1, tran_2, tran_d_1, tran_d_2)\n",
    "2. tran_1과 tran_2는 단순한 행 추가 결합 (유니언 결합)\n",
    "3. tran_d_1과 tran_2_d도 유니언 결합\n",
    "4. 2번, 3번 과정에서 나온 데이터프레임을 특정 조건에 맞춰서 2번 데이터프레임을 기준으로 열 추가 결합(조인 결합)\n",
    "5. csv 폴더에 있는 2개의 파일을 로드 (custom_master, item_master)\n",
    "6. 4번 과정에서 나온 데이터프레임과 custom_master 조인 결합\n",
    "7. 6번 과정에서 나온 데이터프레임과 item_master 조인 결합\n",
    "8. 결합이 된 데이터프레임에서 quantity 컬럼과 item_price 컬럼의 데이터를 가지고 total_price 라는 파생변수를 생성 (total_price = item_price * quantity)"
   ]
  },
  {
   "cell_type": "code",
   "execution_count": 207,
   "metadata": {},
   "outputs": [],
   "source": [
    "import pandas as pd\n",
    "import os"
   ]
  },
  {
   "cell_type": "code",
   "execution_count": 208,
   "metadata": {},
   "outputs": [],
   "source": [
    "# csv 폴더에서 4개의 파일 로드\n",
    "tran_1 = pd.read_csv('../csv/tran_1.csv')\n",
    "tran_2 = pd.read_csv('../csv/tran_2.csv')\n",
    "tran_d_1 = pd.read_csv('../csv/tran_d_1.csv')\n",
    "tran_d_2 = pd.read_csv('../csv/tran_d_2.csv')"
   ]
  },
  {
   "cell_type": "code",
   "execution_count": 209,
   "metadata": {},
   "outputs": [],
   "source": [
    "# tran_1과 tran_2 단순 행 결합 (유니언 결합)\n",
    "df = pd.concat([tran_1, tran_2], axis=0, ignore_index=True)\n",
    "# df.info()"
   ]
  },
  {
   "cell_type": "code",
   "execution_count": 210,
   "metadata": {},
   "outputs": [],
   "source": [
    "# tran_d_1과 tran_d_2 유니언 결합\n",
    "df2 = pd.concat([tran_d_1, tran_d_2], axis=0, ignore_index=True)\n",
    "# df2.info()"
   ]
  },
  {
   "cell_type": "code",
   "execution_count": 211,
   "metadata": {},
   "outputs": [],
   "source": [
    "# 조인 결합\n",
    "df3 = pd.merge(df, df2, on = 'transaction_id', how = 'inner')"
   ]
  },
  {
   "cell_type": "code",
   "execution_count": 212,
   "metadata": {},
   "outputs": [],
   "source": [
    "# 파일 로드\n",
    "c_master = pd.read_csv('../csv/customer_master.csv')\n",
    "i_master = pd.read_csv('../csv/item_master.csv')"
   ]
  },
  {
   "cell_type": "code",
   "execution_count": 213,
   "metadata": {},
   "outputs": [],
   "source": [
    "# 조인 결합\n",
    "df4 = pd.merge(df3, c_master, on = 'customer_id', how = 'inner')"
   ]
  },
  {
   "cell_type": "code",
   "execution_count": 214,
   "metadata": {},
   "outputs": [],
   "source": [
    "# 조인 결합\n",
    "df5 = pd.merge(df4, i_master, on = 'item_id', how = 'inner')"
   ]
  },
  {
   "cell_type": "code",
   "execution_count": 215,
   "metadata": {},
   "outputs": [
    {
     "data": {
      "text/html": [
       "<div>\n",
       "<style scoped>\n",
       "    .dataframe tbody tr th:only-of-type {\n",
       "        vertical-align: middle;\n",
       "    }\n",
       "\n",
       "    .dataframe tbody tr th {\n",
       "        vertical-align: top;\n",
       "    }\n",
       "\n",
       "    .dataframe thead th {\n",
       "        text-align: right;\n",
       "    }\n",
       "</style>\n",
       "<table border=\"1\" class=\"dataframe\">\n",
       "  <thead>\n",
       "    <tr style=\"text-align: right;\">\n",
       "      <th></th>\n",
       "      <th>transaction_id</th>\n",
       "      <th>price</th>\n",
       "      <th>payment_date</th>\n",
       "      <th>customer_id</th>\n",
       "      <th>detail_id</th>\n",
       "      <th>item_id</th>\n",
       "      <th>quantity</th>\n",
       "      <th>name</th>\n",
       "      <th>class</th>\n",
       "      <th>gender</th>\n",
       "      <th>start_date</th>\n",
       "      <th>end_date</th>\n",
       "      <th>campaign_id</th>\n",
       "      <th>is_deleted</th>\n",
       "      <th>item_name</th>\n",
       "      <th>item_price</th>\n",
       "      <th>total_price</th>\n",
       "    </tr>\n",
       "  </thead>\n",
       "  <tbody>\n",
       "    <tr>\n",
       "      <th>0</th>\n",
       "      <td>T0000000113</td>\n",
       "      <td>210000</td>\n",
       "      <td>2019-02-01 01:36:57</td>\n",
       "      <td>PL563502</td>\n",
       "      <td>0</td>\n",
       "      <td>S005</td>\n",
       "      <td>1</td>\n",
       "      <td>XX</td>\n",
       "      <td>C01</td>\n",
       "      <td>M</td>\n",
       "      <td>2018-07-01 00:00:00</td>\n",
       "      <td>NaN</td>\n",
       "      <td>CA1</td>\n",
       "      <td>0</td>\n",
       "      <td>PC-E</td>\n",
       "      <td>210000</td>\n",
       "      <td>210000</td>\n",
       "    </tr>\n",
       "    <tr>\n",
       "      <th>1</th>\n",
       "      <td>T0000003439</td>\n",
       "      <td>420000</td>\n",
       "      <td>2019-04-30 02:39:00</td>\n",
       "      <td>HD298120</td>\n",
       "      <td>3494</td>\n",
       "      <td>S005</td>\n",
       "      <td>1</td>\n",
       "      <td>XXXXX</td>\n",
       "      <td>C02</td>\n",
       "      <td>F</td>\n",
       "      <td>2017-07-01 00:00:00</td>\n",
       "      <td>NaN</td>\n",
       "      <td>CA2</td>\n",
       "      <td>0</td>\n",
       "      <td>PC-E</td>\n",
       "      <td>210000</td>\n",
       "      <td>210000</td>\n",
       "    </tr>\n",
       "    <tr>\n",
       "      <th>2</th>\n",
       "      <td>T0000003439</td>\n",
       "      <td>420000</td>\n",
       "      <td>2019-04-30 02:39:00</td>\n",
       "      <td>HD298120</td>\n",
       "      <td>3495</td>\n",
       "      <td>S005</td>\n",
       "      <td>1</td>\n",
       "      <td>XXXXX</td>\n",
       "      <td>C02</td>\n",
       "      <td>F</td>\n",
       "      <td>2017-07-01 00:00:00</td>\n",
       "      <td>NaN</td>\n",
       "      <td>CA2</td>\n",
       "      <td>0</td>\n",
       "      <td>PC-E</td>\n",
       "      <td>210000</td>\n",
       "      <td>210000</td>\n",
       "    </tr>\n",
       "    <tr>\n",
       "      <th>3</th>\n",
       "      <td>T0000000116</td>\n",
       "      <td>210000</td>\n",
       "      <td>2019-02-01 02:47:23</td>\n",
       "      <td>IK452215</td>\n",
       "      <td>3</td>\n",
       "      <td>S005</td>\n",
       "      <td>1</td>\n",
       "      <td>XXXX</td>\n",
       "      <td>C03</td>\n",
       "      <td>M</td>\n",
       "      <td>2018-01-01 00:00:00</td>\n",
       "      <td>NaN</td>\n",
       "      <td>CA1</td>\n",
       "      <td>0</td>\n",
       "      <td>PC-E</td>\n",
       "      <td>210000</td>\n",
       "      <td>210000</td>\n",
       "    </tr>\n",
       "    <tr>\n",
       "      <th>4</th>\n",
       "      <td>T0000000832</td>\n",
       "      <td>210000</td>\n",
       "      <td>2019-02-19 19:48:24</td>\n",
       "      <td>IK452215</td>\n",
       "      <td>753</td>\n",
       "      <td>S005</td>\n",
       "      <td>1</td>\n",
       "      <td>XXXX</td>\n",
       "      <td>C03</td>\n",
       "      <td>M</td>\n",
       "      <td>2018-01-01 00:00:00</td>\n",
       "      <td>NaN</td>\n",
       "      <td>CA1</td>\n",
       "      <td>0</td>\n",
       "      <td>PC-E</td>\n",
       "      <td>210000</td>\n",
       "      <td>210000</td>\n",
       "    </tr>\n",
       "  </tbody>\n",
       "</table>\n",
       "</div>"
      ],
      "text/plain": [
       "  transaction_id   price         payment_date customer_id  detail_id item_id  \\\n",
       "0    T0000000113  210000  2019-02-01 01:36:57    PL563502          0    S005   \n",
       "1    T0000003439  420000  2019-04-30 02:39:00    HD298120       3494    S005   \n",
       "2    T0000003439  420000  2019-04-30 02:39:00    HD298120       3495    S005   \n",
       "3    T0000000116  210000  2019-02-01 02:47:23    IK452215          3    S005   \n",
       "4    T0000000832  210000  2019-02-19 19:48:24    IK452215        753    S005   \n",
       "\n",
       "   quantity   name class gender           start_date end_date campaign_id  \\\n",
       "0         1     XX   C01      M  2018-07-01 00:00:00      NaN         CA1   \n",
       "1         1  XXXXX   C02      F  2017-07-01 00:00:00      NaN         CA2   \n",
       "2         1  XXXXX   C02      F  2017-07-01 00:00:00      NaN         CA2   \n",
       "3         1   XXXX   C03      M  2018-01-01 00:00:00      NaN         CA1   \n",
       "4         1   XXXX   C03      M  2018-01-01 00:00:00      NaN         CA1   \n",
       "\n",
       "   is_deleted item_name  item_price  total_price  \n",
       "0           0      PC-E      210000       210000  \n",
       "1           0      PC-E      210000       210000  \n",
       "2           0      PC-E      210000       210000  \n",
       "3           0      PC-E      210000       210000  \n",
       "4           0      PC-E      210000       210000  "
      ]
     },
     "execution_count": 215,
     "metadata": {},
     "output_type": "execute_result"
    }
   ],
   "source": [
    "# total_price 라는 파생변수 생성\n",
    "df5['total_price'] = df5['item_price'] * df5['quantity']\n",
    "df5.head(5)"
   ]
  },
  {
   "cell_type": "code",
   "execution_count": 216,
   "metadata": {},
   "outputs": [
    {
     "name": "stdout",
     "output_type": "stream",
     "text": [
      "<class 'pandas.core.frame.DataFrame'>\n",
      "Int64Index: 6069 entries, 0 to 6068\n",
      "Data columns (total 17 columns):\n",
      " #   Column          Non-Null Count  Dtype \n",
      "---  ------          --------------  ----- \n",
      " 0   transaction_id  6069 non-null   object\n",
      " 1   price           6069 non-null   int64 \n",
      " 2   payment_date    6069 non-null   object\n",
      " 3   customer_id     6069 non-null   object\n",
      " 4   detail_id       6069 non-null   int64 \n",
      " 5   item_id         6069 non-null   object\n",
      " 6   quantity        6069 non-null   int64 \n",
      " 7   name            6069 non-null   object\n",
      " 8   class           6069 non-null   object\n",
      " 9   gender          6069 non-null   object\n",
      " 10  start_date      6069 non-null   object\n",
      " 11  end_date        1978 non-null   object\n",
      " 12  campaign_id     6069 non-null   object\n",
      " 13  is_deleted      6069 non-null   int64 \n",
      " 14  item_name       6069 non-null   object\n",
      " 15  item_price      6069 non-null   int64 \n",
      " 16  total_price     6069 non-null   int64 \n",
      "dtypes: int64(6), object(11)\n",
      "memory usage: 853.5+ KB\n"
     ]
    }
   ],
   "source": [
    "df5.info()"
   ]
  },
  {
   "cell_type": "code",
   "execution_count": 217,
   "metadata": {},
   "outputs": [
    {
     "data": {
      "text/plain": [
       "PC-A    0.300379\n",
       "PC-E    0.250783\n",
       "PC-B    0.199044\n",
       "PC-C    0.131158\n",
       "PC-D    0.118636\n",
       "Name: item_name, dtype: float64"
      ]
     },
     "execution_count": 217,
     "metadata": {},
     "output_type": "execute_result"
    }
   ],
   "source": [
    "df5['item_name'].value_counts('total_price')"
   ]
  },
  {
   "cell_type": "code",
   "execution_count": 218,
   "metadata": {},
   "outputs": [],
   "source": [
    "# item_name 별 total_price의 총합 출력\n",
    "group_data = df5[['item_name', 'total_price']].groupby('item_name').sum()"
   ]
  },
  {
   "cell_type": "code",
   "execution_count": 219,
   "metadata": {},
   "outputs": [],
   "source": [
    "# 내림차순 정렬\n",
    "item_rank = group_data.sort_values('total_price', ascending=False)"
   ]
  },
  {
   "cell_type": "code",
   "execution_count": 220,
   "metadata": {},
   "outputs": [
    {
     "data": {
      "text/html": [
       "<div>\n",
       "<style scoped>\n",
       "    .dataframe tbody tr th:only-of-type {\n",
       "        vertical-align: middle;\n",
       "    }\n",
       "\n",
       "    .dataframe tbody tr th {\n",
       "        vertical-align: top;\n",
       "    }\n",
       "\n",
       "    .dataframe thead th {\n",
       "        text-align: right;\n",
       "    }\n",
       "</style>\n",
       "<table border=\"1\" class=\"dataframe\">\n",
       "  <thead>\n",
       "    <tr style=\"text-align: right;\">\n",
       "      <th></th>\n",
       "      <th>total_price</th>\n",
       "    </tr>\n",
       "    <tr>\n",
       "      <th>item_name</th>\n",
       "      <th></th>\n",
       "    </tr>\n",
       "  </thead>\n",
       "  <tbody>\n",
       "    <tr>\n",
       "      <th>PC-E</th>\n",
       "      <td>326130000</td>\n",
       "    </tr>\n",
       "  </tbody>\n",
       "</table>\n",
       "</div>"
      ],
      "text/plain": [
       "           total_price\n",
       "item_name             \n",
       "PC-E         326130000"
      ]
     },
     "execution_count": 220,
     "metadata": {},
     "output_type": "execute_result"
    }
   ],
   "source": [
    "# 가장 높은 합을 가진 item_name 출력\n",
    "item_rank.iloc[[0]]"
   ]
  },
  {
   "cell_type": "code",
   "execution_count": 221,
   "metadata": {},
   "outputs": [
    {
     "data": {
      "text/plain": [
       "0       M\n",
       "1       F\n",
       "2       F\n",
       "3       M\n",
       "4       M\n",
       "       ..\n",
       "6064    M\n",
       "6065    M\n",
       "6066    M\n",
       "6067    M\n",
       "6068    M\n",
       "Name: gender, Length: 6069, dtype: object"
      ]
     },
     "execution_count": 221,
     "metadata": {},
     "output_type": "execute_result"
    }
   ],
   "source": [
    "df5['gender']"
   ]
  },
  {
   "cell_type": "code",
   "execution_count": 222,
   "metadata": {},
   "outputs": [],
   "source": [
    "origin_data = df5.copy()"
   ]
  },
  {
   "cell_type": "code",
   "execution_count": 223,
   "metadata": {},
   "outputs": [],
   "source": [
    "# M을 남자로 F를 여자로 변환\n",
    "# loc를 이용\n",
    "df5.loc[df5['gender'] == 'M', 'gender'] = '남자'\n",
    "df5.loc[df5['gender'] == 'F', 'gender'] = '여자'"
   ]
  },
  {
   "cell_type": "code",
   "execution_count": 224,
   "metadata": {},
   "outputs": [
    {
     "data": {
      "text/plain": [
       "남자    3268\n",
       "여자    2801\n",
       "Name: gender, dtype: int64"
      ]
     },
     "execution_count": 224,
     "metadata": {},
     "output_type": "execute_result"
    }
   ],
   "source": [
    "df5['gender'].value_counts()"
   ]
  },
  {
   "cell_type": "code",
   "execution_count": 225,
   "metadata": {},
   "outputs": [],
   "source": [
    "df5 = origin_data.copy()"
   ]
  },
  {
   "cell_type": "code",
   "execution_count": 226,
   "metadata": {},
   "outputs": [
    {
     "data": {
      "text/plain": [
       "M    3268\n",
       "F    2801\n",
       "Name: gender, dtype: int64"
      ]
     },
     "execution_count": 226,
     "metadata": {},
     "output_type": "execute_result"
    }
   ],
   "source": [
    "df5['gender'].value_counts()"
   ]
  },
  {
   "cell_type": "code",
   "execution_count": 227,
   "metadata": {},
   "outputs": [
    {
     "data": {
      "text/plain": [
       "0       남자\n",
       "1       여자\n",
       "2       여자\n",
       "3       남자\n",
       "4       남자\n",
       "        ..\n",
       "6064    남자\n",
       "6065    남자\n",
       "6066    남자\n",
       "6067    남자\n",
       "6068    남자\n",
       "Name: gender, Length: 6069, dtype: object"
      ]
     },
     "execution_count": 227,
     "metadata": {},
     "output_type": "execute_result"
    }
   ],
   "source": [
    "# apply를 사용\n",
    "def change (x):\n",
    "    # x에는 m아니면 f\n",
    "    if x == 'F':\n",
    "        result = '여자'\n",
    "    else:\n",
    "        result = '남자'\n",
    "    return result\n",
    "\n",
    "df5['gender'].apply(change)"
   ]
  },
  {
   "cell_type": "code",
   "execution_count": 228,
   "metadata": {},
   "outputs": [
    {
     "data": {
      "text/plain": [
       "0       남자\n",
       "1       여자\n",
       "2       여자\n",
       "3       남자\n",
       "4       남자\n",
       "        ..\n",
       "6064    남자\n",
       "6065    남자\n",
       "6066    남자\n",
       "6067    남자\n",
       "6068    남자\n",
       "Name: gender, Length: 6069, dtype: object"
      ]
     },
     "execution_count": 228,
     "metadata": {},
     "output_type": "execute_result"
    }
   ],
   "source": [
    "# lambda 사용(if문을 한줄로 처리) --> elif 대신에 else뒤에 다시 if문 반복\n",
    "df5['gender'].apply(lambda x : '남자' if (x == 'M') else ('여자' if (x =='F') else '무응답')) "
   ]
  },
  {
   "cell_type": "code",
   "execution_count": 229,
   "metadata": {},
   "outputs": [
    {
     "data": {
      "text/plain": [
       "0      2019-02-01 01:36:57\n",
       "1      2019-04-30 02:39:00\n",
       "2      2019-04-30 02:39:00\n",
       "3      2019-02-01 02:47:23\n",
       "4      2019-02-19 19:48:24\n",
       "               ...        \n",
       "6064   2019-07-26 04:57:13\n",
       "6065   2019-07-28 10:14:39\n",
       "6066   2019-07-28 11:23:32\n",
       "6067   2019-07-30 11:08:09\n",
       "6068   2019-07-31 20:25:02\n",
       "Name: payment_date, Length: 6069, dtype: datetime64[ns]"
      ]
     },
     "execution_count": 229,
     "metadata": {},
     "output_type": "execute_result"
    }
   ],
   "source": [
    "# payment_date 시계열 데이터로 변경\n",
    "df5['payment_date'] = pd.to_datetime(df5['payment_date'], format = '%Y-%m-%d %H:%M:%S')\n",
    "df5['payment_date']"
   ]
  },
  {
   "cell_type": "code",
   "execution_count": 230,
   "metadata": {},
   "outputs": [
    {
     "data": {
      "text/html": [
       "<div>\n",
       "<style scoped>\n",
       "    .dataframe tbody tr th:only-of-type {\n",
       "        vertical-align: middle;\n",
       "    }\n",
       "\n",
       "    .dataframe tbody tr th {\n",
       "        vertical-align: top;\n",
       "    }\n",
       "\n",
       "    .dataframe thead th {\n",
       "        text-align: right;\n",
       "    }\n",
       "</style>\n",
       "<table border=\"1\" class=\"dataframe\">\n",
       "  <thead>\n",
       "    <tr style=\"text-align: right;\">\n",
       "      <th></th>\n",
       "      <th>transaction_id</th>\n",
       "      <th>price</th>\n",
       "      <th>payment_date</th>\n",
       "      <th>customer_id</th>\n",
       "      <th>detail_id</th>\n",
       "      <th>item_id</th>\n",
       "      <th>quantity</th>\n",
       "      <th>name</th>\n",
       "      <th>class</th>\n",
       "      <th>gender</th>\n",
       "      <th>start_date</th>\n",
       "      <th>end_date</th>\n",
       "      <th>campaign_id</th>\n",
       "      <th>is_deleted</th>\n",
       "      <th>item_name</th>\n",
       "      <th>item_price</th>\n",
       "      <th>total_price</th>\n",
       "      <th>payment_month</th>\n",
       "    </tr>\n",
       "  </thead>\n",
       "  <tbody>\n",
       "    <tr>\n",
       "      <th>0</th>\n",
       "      <td>T0000000113</td>\n",
       "      <td>210000</td>\n",
       "      <td>2019-02-01 01:36:57</td>\n",
       "      <td>PL563502</td>\n",
       "      <td>0</td>\n",
       "      <td>S005</td>\n",
       "      <td>1</td>\n",
       "      <td>XX</td>\n",
       "      <td>C01</td>\n",
       "      <td>M</td>\n",
       "      <td>2018-07-01 00:00:00</td>\n",
       "      <td>NaN</td>\n",
       "      <td>CA1</td>\n",
       "      <td>0</td>\n",
       "      <td>PC-E</td>\n",
       "      <td>210000</td>\n",
       "      <td>210000</td>\n",
       "      <td>02-2019</td>\n",
       "    </tr>\n",
       "    <tr>\n",
       "      <th>1</th>\n",
       "      <td>T0000003439</td>\n",
       "      <td>420000</td>\n",
       "      <td>2019-04-30 02:39:00</td>\n",
       "      <td>HD298120</td>\n",
       "      <td>3494</td>\n",
       "      <td>S005</td>\n",
       "      <td>1</td>\n",
       "      <td>XXXXX</td>\n",
       "      <td>C02</td>\n",
       "      <td>F</td>\n",
       "      <td>2017-07-01 00:00:00</td>\n",
       "      <td>NaN</td>\n",
       "      <td>CA2</td>\n",
       "      <td>0</td>\n",
       "      <td>PC-E</td>\n",
       "      <td>210000</td>\n",
       "      <td>210000</td>\n",
       "      <td>04-2019</td>\n",
       "    </tr>\n",
       "    <tr>\n",
       "      <th>2</th>\n",
       "      <td>T0000003439</td>\n",
       "      <td>420000</td>\n",
       "      <td>2019-04-30 02:39:00</td>\n",
       "      <td>HD298120</td>\n",
       "      <td>3495</td>\n",
       "      <td>S005</td>\n",
       "      <td>1</td>\n",
       "      <td>XXXXX</td>\n",
       "      <td>C02</td>\n",
       "      <td>F</td>\n",
       "      <td>2017-07-01 00:00:00</td>\n",
       "      <td>NaN</td>\n",
       "      <td>CA2</td>\n",
       "      <td>0</td>\n",
       "      <td>PC-E</td>\n",
       "      <td>210000</td>\n",
       "      <td>210000</td>\n",
       "      <td>04-2019</td>\n",
       "    </tr>\n",
       "    <tr>\n",
       "      <th>3</th>\n",
       "      <td>T0000000116</td>\n",
       "      <td>210000</td>\n",
       "      <td>2019-02-01 02:47:23</td>\n",
       "      <td>IK452215</td>\n",
       "      <td>3</td>\n",
       "      <td>S005</td>\n",
       "      <td>1</td>\n",
       "      <td>XXXX</td>\n",
       "      <td>C03</td>\n",
       "      <td>M</td>\n",
       "      <td>2018-01-01 00:00:00</td>\n",
       "      <td>NaN</td>\n",
       "      <td>CA1</td>\n",
       "      <td>0</td>\n",
       "      <td>PC-E</td>\n",
       "      <td>210000</td>\n",
       "      <td>210000</td>\n",
       "      <td>02-2019</td>\n",
       "    </tr>\n",
       "    <tr>\n",
       "      <th>4</th>\n",
       "      <td>T0000000832</td>\n",
       "      <td>210000</td>\n",
       "      <td>2019-02-19 19:48:24</td>\n",
       "      <td>IK452215</td>\n",
       "      <td>753</td>\n",
       "      <td>S005</td>\n",
       "      <td>1</td>\n",
       "      <td>XXXX</td>\n",
       "      <td>C03</td>\n",
       "      <td>M</td>\n",
       "      <td>2018-01-01 00:00:00</td>\n",
       "      <td>NaN</td>\n",
       "      <td>CA1</td>\n",
       "      <td>0</td>\n",
       "      <td>PC-E</td>\n",
       "      <td>210000</td>\n",
       "      <td>210000</td>\n",
       "      <td>02-2019</td>\n",
       "    </tr>\n",
       "  </tbody>\n",
       "</table>\n",
       "</div>"
      ],
      "text/plain": [
       "  transaction_id   price        payment_date customer_id  detail_id item_id  \\\n",
       "0    T0000000113  210000 2019-02-01 01:36:57    PL563502          0    S005   \n",
       "1    T0000003439  420000 2019-04-30 02:39:00    HD298120       3494    S005   \n",
       "2    T0000003439  420000 2019-04-30 02:39:00    HD298120       3495    S005   \n",
       "3    T0000000116  210000 2019-02-01 02:47:23    IK452215          3    S005   \n",
       "4    T0000000832  210000 2019-02-19 19:48:24    IK452215        753    S005   \n",
       "\n",
       "   quantity   name class gender           start_date end_date campaign_id  \\\n",
       "0         1     XX   C01      M  2018-07-01 00:00:00      NaN         CA1   \n",
       "1         1  XXXXX   C02      F  2017-07-01 00:00:00      NaN         CA2   \n",
       "2         1  XXXXX   C02      F  2017-07-01 00:00:00      NaN         CA2   \n",
       "3         1   XXXX   C03      M  2018-01-01 00:00:00      NaN         CA1   \n",
       "4         1   XXXX   C03      M  2018-01-01 00:00:00      NaN         CA1   \n",
       "\n",
       "   is_deleted item_name  item_price  total_price payment_month  \n",
       "0           0      PC-E      210000       210000       02-2019  \n",
       "1           0      PC-E      210000       210000       04-2019  \n",
       "2           0      PC-E      210000       210000       04-2019  \n",
       "3           0      PC-E      210000       210000       02-2019  \n",
       "4           0      PC-E      210000       210000       02-2019  "
      ]
     },
     "execution_count": 230,
     "metadata": {},
     "output_type": "execute_result"
    }
   ],
   "source": [
    "# 시계열 데이터에서 (년/월) 추출해서 새로운 파생변수 payment_month (월/년)생성\n",
    "df5['payment_month'] = df5['payment_date'].dt.strftime('%m-%Y')\n",
    "df5.head(5)"
   ]
  },
  {
   "cell_type": "code",
   "execution_count": 253,
   "metadata": {},
   "outputs": [],
   "source": [
    "# 월별 거래량 확인\n",
    "df6 = df5[['payment_month', 'total_price']].groupby('payment_month').agg(['mean', 'sum'])"
   ]
  },
  {
   "cell_type": "code",
   "execution_count": 254,
   "metadata": {},
   "outputs": [
    {
     "data": {
      "text/html": [
       "<div>\n",
       "<style scoped>\n",
       "    .dataframe tbody tr th:only-of-type {\n",
       "        vertical-align: middle;\n",
       "    }\n",
       "\n",
       "    .dataframe tbody tr th {\n",
       "        vertical-align: top;\n",
       "    }\n",
       "\n",
       "    .dataframe thead tr th {\n",
       "        text-align: left;\n",
       "    }\n",
       "\n",
       "    .dataframe thead tr:last-of-type th {\n",
       "        text-align: right;\n",
       "    }\n",
       "</style>\n",
       "<table border=\"1\" class=\"dataframe\">\n",
       "  <thead>\n",
       "    <tr>\n",
       "      <th></th>\n",
       "      <th colspan=\"2\" halign=\"left\">total_price</th>\n",
       "    </tr>\n",
       "    <tr>\n",
       "      <th></th>\n",
       "      <th>mean</th>\n",
       "      <th>sum</th>\n",
       "    </tr>\n",
       "    <tr>\n",
       "      <th>payment_month</th>\n",
       "      <th></th>\n",
       "      <th></th>\n",
       "    </tr>\n",
       "  </thead>\n",
       "  <tbody>\n",
       "    <tr>\n",
       "      <th>02-2019</th>\n",
       "      <td>137592.964824</td>\n",
       "      <td>136905000</td>\n",
       "    </tr>\n",
       "    <tr>\n",
       "      <th>03-2019</th>\n",
       "      <td>135154.382470</td>\n",
       "      <td>135695000</td>\n",
       "    </tr>\n",
       "    <tr>\n",
       "      <th>04-2019</th>\n",
       "      <td>136106.106106</td>\n",
       "      <td>135970000</td>\n",
       "    </tr>\n",
       "    <tr>\n",
       "      <th>05-2019</th>\n",
       "      <td>133551.307847</td>\n",
       "      <td>132750000</td>\n",
       "    </tr>\n",
       "    <tr>\n",
       "      <th>06-2019</th>\n",
       "      <td>135747.800587</td>\n",
       "      <td>138870000</td>\n",
       "    </tr>\n",
       "    <tr>\n",
       "      <th>07-2019</th>\n",
       "      <td>138377.609108</td>\n",
       "      <td>145850000</td>\n",
       "    </tr>\n",
       "  </tbody>\n",
       "</table>\n",
       "</div>"
      ],
      "text/plain": [
       "                 total_price           \n",
       "                        mean        sum\n",
       "payment_month                          \n",
       "02-2019        137592.964824  136905000\n",
       "03-2019        135154.382470  135695000\n",
       "04-2019        136106.106106  135970000\n",
       "05-2019        133551.307847  132750000\n",
       "06-2019        135747.800587  138870000\n",
       "07-2019        138377.609108  145850000"
      ]
     },
     "execution_count": 254,
     "metadata": {},
     "output_type": "execute_result"
    }
   ],
   "source": [
    "df6"
   ]
  },
  {
   "cell_type": "code",
   "execution_count": 255,
   "metadata": {},
   "outputs": [
    {
     "data": {
      "text/plain": [
       "<Axes: xlabel='payment_month'>"
      ]
     },
     "execution_count": 255,
     "metadata": {},
     "output_type": "execute_result"
    },
    {
     "data": {
      "image/png": "[encoded data removed]",
      "text/plain": [
       "<Figure size 640x480 with 1 Axes>"
      ]
     },
     "metadata": {},
     "output_type": "display_data"
    }
   ],
   "source": [
    "df6.plot.bar()"
   ]
  },
  {
   "cell_type": "code",
   "execution_count": 256,
   "metadata": {},
   "outputs": [],
   "source": [
    "pivot_data = pd.pivot_table(\n",
    "    df5,\n",
    "    index = 'payment_month',\n",
    "    aggfunc = ['sum', 'mean', 'min', 'max', 'std'],\n",
    "    values = 'total_price'\n",
    ")"
   ]
  },
  {
   "cell_type": "code",
   "execution_count": 259,
   "metadata": {},
   "outputs": [
    {
     "data": {
      "text/plain": [
       "<Axes: xlabel='payment_month'>"
      ]
     },
     "execution_count": 259,
     "metadata": {},
     "output_type": "execute_result"
    },
    {
     "data": {
      "image/png": "[encoded data removed]",
      "text/plain": [
       "<Figure size 640x480 with 1 Axes>"
      ]
     },
     "metadata": {},
     "output_type": "display_data"
    }
   ],
   "source": [
    "pivot_data.plot()"
   ]
  },
  {
   "cell_type": "code",
   "execution_count": null,
   "metadata": {},
   "outputs": [],
   "source": []
  }
 ],
 "metadata": {
  "kernelspec": {
   "display_name": "Python 3",
   "language": "python",
   "name": "python3"
  },
  "language_info": {
   "codemirror_mode": {
    "name": "ipython",
    "version": 3
   },
   "file_extension": ".py",
   "mimetype": "text/x-python",
   "name": "python",
   "nbconvert_exporter": "python",
   "pygments_lexer": "ipython3",
   "version": "3.11.2"
  },
  "orig_nbformat": 4
 },
 "nbformat": 4,
 "nbformat_minor": 2
}
