{
 "cells": [
  {
   "attachments": {},
   "cell_type": "markdown",
   "metadata": {},
   "source": [
    "# 특정한 경로에 있는 파일의 목록 출력"
   ]
  },
  {
   "cell_type": "code",
   "execution_count": 18,
   "metadata": {},
   "outputs": [],
   "source": [
    "import os "
   ]
  },
  {
   "cell_type": "code",
   "execution_count": 19,
   "metadata": {},
   "outputs": [],
   "source": [
    "file_list = os.listdir('../csv/2017/')"
   ]
  },
  {
   "cell_type": "code",
   "execution_count": 20,
   "metadata": {},
   "outputs": [],
   "source": [
    "import pandas as pd"
   ]
  },
  {
   "cell_type": "code",
   "execution_count": 21,
   "metadata": {},
   "outputs": [
    {
     "name": "stdout",
     "output_type": "stream",
     "text": [
      "201701_expense_list.csv\n",
      "201702_expense_list.csv\n",
      "201703_expense_list.csv\n",
      "201704_expense_list.csv\n",
      "201705_expense_list.csv\n",
      "201706_expense_list.csv\n",
      "201707_expense_list.csv\n",
      "201708_expense_list.csv\n",
      "201709_expense_list.csv\n",
      "201710_expense_list.csv\n",
      "201711_expense_list.csv\n",
      "201712_expense_list.csv\n"
     ]
    }
   ],
   "source": [
    "# for문을 이용하여 파일명 순차적으로 불러오기(앞이 0으로 시작하는 경우 %02d를 사용)\n",
    "for i in range(1, 13, 1):\n",
    "    a = '%02d'%i\n",
    "    file = '2017'+a+'_expense_list.csv'\n",
    "    print(file)"
   ]
  },
  {
   "cell_type": "code",
   "execution_count": 25,
   "metadata": {},
   "outputs": [
    {
     "name": "stdout",
     "output_type": "stream",
     "text": [
      "<class 'pandas.core.frame.DataFrame'>\n",
      "RangeIndex: 70132 entries, 0 to 70131\n",
      "Data columns (total 20 columns):\n",
      " #   Column             Non-Null Count  Dtype  \n",
      "---  ------             --------------  -----  \n",
      " 0   nid                70132 non-null  int64  \n",
      " 1   title              70132 non-null  object \n",
      " 2   url                70132 non-null  object \n",
      " 3   dept_nm_lvl_1      70132 non-null  object \n",
      " 4   dept_nm_lvl_2      70074 non-null  object \n",
      " 5   dept_nm_lvl_3      61262 non-null  object \n",
      " 6   dept_nm_lvl_4      17939 non-null  object \n",
      " 7   dept_nm_lvl_5      3474 non-null   object \n",
      " 8   exec_yr            70132 non-null  int64  \n",
      " 9   exec_month         70132 non-null  int64  \n",
      " 10  expense_budget     3108 non-null   float64\n",
      " 11  expense_execution  2805 non-null   float64\n",
      " 12  category           1259 non-null   object \n",
      " 13  dept_nm_full       70053 non-null  object \n",
      " 14  exec_dt            70132 non-null  object \n",
      " 15  exec_loc           69360 non-null  object \n",
      " 16  exec_purpose       70110 non-null  object \n",
      " 17  target_nm          69597 non-null  object \n",
      " 18  payment_method     69929 non-null  object \n",
      " 19  exec_amount        70132 non-null  int64  \n",
      "dtypes: float64(2), int64(4), object(14)\n",
      "memory usage: 10.7+ MB\n"
     ]
    }
   ],
   "source": [
    "# concat을 이용하여 단순하게 행을 추가하는 결합\n",
    "# 결합을 하려면 기준이 되는 데이터프레임이 존재하여야 한다.\n",
    "# 비어있는 데이터프레임을 하나 생성\n",
    "# read_csv()안에 들어가는 인자값을 생성\n",
    "# 상대경로 :  ../csv/2017/파일명 -> 12개 출력\n",
    "# 경로에 있는 파일들을 pandas를 이용하여 데이터프레임으로 불러온다.\n",
    "\n",
    "path = '../csv/2017/'\n",
    "\n",
    "file_list = os.listdir(path)\n",
    "\n",
    "result = pd.DataFrame()\n",
    "\n",
    "for i in file_list:\n",
    "    # print(path+i)\n",
    "    df = pd.read_csv(path+i)\n",
    "    result = pd.concat([result, df], axis = 0, ignore_index=True)\n",
    "\n",
    "result.info()"
   ]
  },
  {
   "cell_type": "code",
   "execution_count": null,
   "metadata": {},
   "outputs": [],
   "source": []
  }
 ],
 "metadata": {
  "kernelspec": {
   "display_name": "Python 3",
   "language": "python",
   "name": "python3"
  },
  "language_info": {
   "codemirror_mode": {
    "name": "ipython",
    "version": 3
   },
   "file_extension": ".py",
   "mimetype": "text/x-python",
   "name": "python",
   "nbconvert_exporter": "python",
   "pygments_lexer": "ipython3",
   "version": "3.11.2"
  },
  "orig_nbformat": 4
 },
 "nbformat": 4,
 "nbformat_minor": 2
}
