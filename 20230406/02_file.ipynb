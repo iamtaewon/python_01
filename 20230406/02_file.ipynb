{
 "cells": [
  {
   "attachments": {},
   "cell_type": "markdown",
   "metadata": {},
   "source": [
    "# 특정한 경로에 있는 파일의 목록 출력"
   ]
  },
  {
   "cell_type": "code",
   "execution_count": null,
   "metadata": {},
   "outputs": [],
   "source": [
    "import os "
   ]
  },
  {
   "cell_type": "code",
   "execution_count": null,
   "metadata": {},
   "outputs": [],
   "source": [
    "file_list = os.listdir('../csv/2017/')"
   ]
  },
  {
   "cell_type": "code",
   "execution_count": null,
   "metadata": {},
   "outputs": [],
   "source": [
    "import pandas as pd"
   ]
  },
  {
   "cell_type": "code",
   "execution_count": null,
   "metadata": {},
   "outputs": [],
   "source": [
    "# for문을 이용하여 파일명 순차적으로 불러오기(앞이 0으로 시작하는 경우 %02d를 사용)\n",
    "for i in range(1, 13, 1):\n",
    "    a = '%02d'%i\n",
    "    file = '2017'+a+'_expense_list.csv'\n",
    "    print(file)"
   ]
  },
  {
   "cell_type": "code",
   "execution_count": null,
   "metadata": {},
   "outputs": [],
   "source": [
    "# concat을 이용하여 단순하게 행을 추가하는 결합\n",
    "# 결합을 하려면 기준이 되는 데이터프레임이 존재하여야 한다.\n",
    "# 비어있는 데이터프레임을 하나 생성\n",
    "# read_csv()안에 들어가는 인자값을 생성\n",
    "# 상대경로 :  ../csv/2017/파일명 -> 12개 출력\n",
    "# 경로에 있는 파일들을 pandas를 이용하여 데이터프레임으로 불러온다.\n",
    "\n",
    "path = '../csv/2017/'\n",
    "\n",
    "file_list = os.listdir(path)\n",
    "\n",
    "result = pd.DataFrame()\n",
    "\n",
    "for i in file_list:\n",
    "    # print(path+i)\n",
    "    df = pd.read_csv(path+i)\n",
    "    result = pd.concat([result, df], axis = 0, ignore_index=True)\n",
    "\n",
    "result.info()"
   ]
  },
  {
   "cell_type": "code",
   "execution_count": null,
   "metadata": {},
   "outputs": [],
   "source": [
    "# json인 경우\n",
    "path2 = '../csv/2019/'\n",
    "\n",
    "file_list2 = os.listdir(path2)\n",
    "# print(file_list2)\n",
    "\n",
    "result2 = pd.DataFrame()\n",
    "\n",
    "for i in file_list2:\n",
    "    # print(path2+i)\n",
    "    df2 = pd.read_json(path2+i)\n",
    "    result2 = pd.concat([result2, df2], axis = 0, ignore_index=True)\n",
    "\n",
    "result2.info()"
   ]
  },
  {
   "cell_type": "code",
   "execution_count": null,
   "metadata": {},
   "outputs": [],
   "source": [
    "# excel인 경우\n",
    "path3 = '../csv/2020/'\n",
    "\n",
    "file_list3 = os.listdir(path3)\n",
    "# print(file_list3)\n",
    "\n",
    "result3 = pd.DataFrame()\n",
    "\n",
    "for i in file_list3:\n",
    "    # print(path3+i)\n",
    "    df3 = pd.read_excel(path3+i)\n",
    "    result3 = pd.concat([result3, df3], axis = 0, ignore_index=True)\n",
    "\n",
    "result3.info()"
   ]
  },
  {
   "cell_type": "code",
   "execution_count": null,
   "metadata": {},
   "outputs": [],
   "source": [
    "# 폴더 안에 여러가지 형태의 파일이 존재할 때, 특정한 파일만 불러오는 방법\n",
    "file_list = os.listdir('../csv/2022/')\n",
    "a= '.csv' # .csv, .json, .xlsx, .xml\n",
    "for i in file_list:\n",
    "    if i.endswith(a):\n",
    "        print(i)"
   ]
  },
  {
   "cell_type": "code",
   "execution_count": null,
   "metadata": {},
   "outputs": [],
   "source": [
    "# 함수의 형태로 폴더에 있는 파일들을 결합하는 함수 생성\n",
    "def list_load(_dir, _end):\n",
    "    # 매개변수 2개 생성 : _dir -> 파일의 경로\n",
    "    #                 _end -> 파일의 확장자\n",
    "    if ~(_dir.endswith('/')):\n",
    "        _dir = _dir+'/'\n",
    "\n",
    "    if _end[0] != '.':\n",
    "        _end = '.' + _end\n",
    "\n",
    "    # print(_dir, _end)\n",
    "\n",
    "    # 파일의 리스트 호출\n",
    "    file_list = os.listdir(_dir)\n",
    "    # print(file_list)\n",
    "    # 비어있는 데이터 프레임 생성\n",
    "    result = pd.DataFrame()\n",
    "    \n",
    "    # 파일 리스트에서 확장자가 같은 파일들만 결합\n",
    "    for i in file_list:\n",
    "        # 파일명의 확장자라는 인자값과 같은 경우\n",
    "        if i.endswith(_end):\n",
    "            print(i)\n",
    "            # 확장자에 따른 read 함수 설정\n",
    "            if _end == '.csv':\n",
    "                df = pd.read_csv(_dir+i)\n",
    "                result = pd.concat([result, df], axis = 0, ignore_index=True)\n",
    "            elif _end == '.json':\n",
    "                df = pd.read_json(_dir+i)\n",
    "                result = pd.concat([result, df], axis = 0, ignore_index=True)\n",
    "            elif _end in ['.xlsx', '.xls']:\n",
    "                df = pd.read_excel(_dir+i)\n",
    "                result = pd.concat([result, df], axis = 0, ignore_index=True)\n",
    "            else:\n",
    "                return '지원하지 않는 확장자입니다.'\n",
    "    return result\n"
   ]
  },
  {
   "cell_type": "code",
   "execution_count": null,
   "metadata": {},
   "outputs": [],
   "source": [
    "list_load('../csv/2022/', '.xlsx')"
   ]
  },
  {
   "cell_type": "code",
   "execution_count": null,
   "metadata": {},
   "outputs": [],
   "source": [
    "import list_load as ll"
   ]
  },
  {
   "cell_type": "code",
   "execution_count": null,
   "metadata": {},
   "outputs": [],
   "source": [
    "ll.load('../csv/2017/')"
   ]
  },
  {
   "cell_type": "code",
   "execution_count": null,
   "metadata": {},
   "outputs": [],
   "source": []
  }
 ],
 "metadata": {
  "kernelspec": {
   "display_name": "Python 3",
   "language": "python",
   "name": "python3"
  },
  "language_info": {
   "codemirror_mode": {
    "name": "ipython",
    "version": 3
   },
   "file_extension": ".py",
   "mimetype": "text/x-python",
   "name": "python",
   "nbconvert_exporter": "python",
   "pygments_lexer": "ipython3",
   "version": "3.11.2"
  },
  "orig_nbformat": 4
 },
 "nbformat": 4,
 "nbformat_minor": 2
}
