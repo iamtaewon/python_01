{
 "cells": [
  {
   "attachments": {},
   "cell_type": "markdown",
   "metadata": {},
   "source": [
    "# 웹 크롤링\n",
    "\n",
    "- 필수 라이브러리 requests"
   ]
  },
  {
   "cell_type": "code",
   "execution_count": 6,
   "metadata": {},
   "outputs": [],
   "source": [
    "import requests\n",
    "import pandas as pd"
   ]
  },
  {
   "cell_type": "code",
   "execution_count": 7,
   "metadata": {},
   "outputs": [],
   "source": [
    "url = \"https://www.naver.com\"\n",
    "response = requests.get(url)"
   ]
  },
  {
   "cell_type": "code",
   "execution_count": 8,
   "metadata": {},
   "outputs": [],
   "source": [
    "html_data = response.text"
   ]
  },
  {
   "cell_type": "code",
   "execution_count": 9,
   "metadata": {},
   "outputs": [
    {
     "data": {
      "text/plain": [
       "365"
      ]
     },
     "execution_count": 9,
     "metadata": {},
     "output_type": "execute_result"
    }
   ],
   "source": [
    "html_data.find(\"네이버\")"
   ]
  },
  {
   "cell_type": "code",
   "execution_count": 10,
   "metadata": {},
   "outputs": [
    {
     "data": {
      "text/plain": [
       "'네이버'"
      ]
     },
     "execution_count": 10,
     "metadata": {},
     "output_type": "execute_result"
    }
   ],
   "source": [
    "html_data[365:368]"
   ]
  },
  {
   "cell_type": "markdown",
   "metadata": {},
   "source": [
    "# beautifulsoup 라이브러리 설치\n",
    "\n",
    "1. html Tag의 데이터를 쉽게 추출하기 위한 라이브러리\n",
    "2. 웹의 구조를 어느정도 인지를 한 상태에서 이 라이브러리 사용하면 쉽게 데이터 추출이 가능\n",
    "3. 파서(parser)를 활용해서 파이썬에서 접근이 쉽게 객체형태로 제공"
   ]
  },
  {
   "cell_type": "code",
   "execution_count": 11,
   "metadata": {},
   "outputs": [
    {
     "name": "stdout",
     "output_type": "stream",
     "text": [
      "Defaulting to user installation because normal site-packages is not writeable\n",
      "Requirement already satisfied: bs4 in /Users/taewon/Library/Python/3.9/lib/python/site-packages (0.0.1)\n",
      "Requirement already satisfied: beautifulsoup4 in /Users/taewon/Library/Python/3.9/lib/python/site-packages (from bs4) (4.12.2)\n",
      "Requirement already satisfied: soupsieve>1.2 in /Users/taewon/Library/Python/3.9/lib/python/site-packages (from beautifulsoup4->bs4) (2.4.1)\n"
     ]
    }
   ],
   "source": [
    "!pip install bs4"
   ]
  },
  {
   "cell_type": "code",
   "execution_count": 12,
   "metadata": {},
   "outputs": [],
   "source": [
    "from bs4 import BeautifulSoup as bs"
   ]
  },
  {
   "cell_type": "code",
   "execution_count": 13,
   "metadata": {},
   "outputs": [],
   "source": [
    "soup = bs(html_data, 'html.parser')"
   ]
  },
  {
   "cell_type": "markdown",
   "metadata": {},
   "source": [
    "- 태그명을 사용하여 검색\n",
    "    - 태그 : 해당 태그의 첫 번째 정보를 출력\n",
    "    - 태그['속성'] : 해당 태그의 첫 번째 속성에 대한 값을 출력"
   ]
  },
  {
   "cell_type": "code",
   "execution_count": 14,
   "metadata": {},
   "outputs": [
    {
     "name": "stdout",
     "output_type": "stream",
     "text": [
      "<title>NAVER</title>\n",
      "title\n",
      "NAVER\n"
     ]
    }
   ],
   "source": [
    "print(soup.title)\n",
    "print(soup.title.name)\n",
    "print(soup.title.string)"
   ]
  },
  {
   "cell_type": "code",
   "execution_count": 15,
   "metadata": {},
   "outputs": [
    {
     "name": "stdout",
     "output_type": "stream",
     "text": [
      "<img alt=\"세계 펭귄의 날\" class=\"special_img\" height=\"160\" src=\"https://s.pstatic.net/static/www/mobile/edit/20230424/mobile_1046165152.gif\" width=\"415\"/>\n",
      "세계 펭귄의 날\n"
     ]
    }
   ],
   "source": [
    "print(soup.img)\n",
    "print(soup.img['alt'])"
   ]
  },
  {
   "attachments": {},
   "cell_type": "markdown",
   "metadata": {},
   "source": [
    "- find()\n",
    "    - HTML 안에서 해당 태그의 대한 첫 번째 정보를 출력\n",
    "    - find(속성='값'): HTML 해당 속성과 일치하는 값에 대한 첫 번째 정보를 출력\n",
    "- find_all()\n",
    "    - HTML안에 해당 태그에 대한 모든 정보를 리스트 형식으로 출력(데이터 형태가 list)\n",
    "    - limit 매개변수 : 리스트의 길이를 지정"
   ]
  },
  {
   "cell_type": "code",
   "execution_count": 16,
   "metadata": {},
   "outputs": [
    {
     "name": "stdout",
     "output_type": "stream",
     "text": [
      "<a href=\"#newsstand\"><span>뉴스스탠드 바로가기</span></a>\n"
     ]
    }
   ],
   "source": [
    "print(soup.find('a'))"
   ]
  },
  {
   "cell_type": "code",
   "execution_count": 17,
   "metadata": {},
   "outputs": [
    {
     "name": "stdout",
     "output_type": "stream",
     "text": [
      "<div class=\"sc_newscast\" id=\"newsstand\"> <h2 class=\"blind\">뉴스스탠드</h2> <div class=\"group_issue\" data-clk-prefix=\"ncy\" id=\"NM_NEWSSTAND_HEADER\"> <div class=\"issue_area\"> <a class=\"link_media\" data-clk=\"newsflash\" href=\"https://news.naver.com/main/list.naver?mode=LPOD&amp;mid=sec&amp;sid1=001&amp;sid2=140&amp;oid=001&amp;isYeonhapFlash=Y\">연합뉴스</a> <div class=\"list_issue\" data-nm-ui=\"rolling\" id=\"NM_ONELINE_ROLLING\"> <div><a class=\"issue\" data-clk=\"quickarticle\" href=\"https://news.naver.com/main/list.naver?mode=LPOD&amp;mid=sec&amp;sid1=001&amp;sid2=140&amp;oid=001&amp;isYeonhapFlash=Y&amp;aid=0013902453\">수단 교민 28명 서울공항 도착…\"수송기 보고 살았다 생각\"</a></div>\n",
      "<div><a class=\"issue\" data-clk=\"quickarticle\" href=\"https://news.naver.com/main/list.naver?mode=LPOD&amp;mid=sec&amp;sid1=001&amp;sid2=140&amp;oid=001&amp;isYeonhapFlash=Y&amp;aid=0013902651\">尹인터뷰 野비판에 '오역' 주장 與유상범 \"사실파악 미흡했다\"</a></div>\n",
      "<div><a class=\"issue\" data-clk=\"quickarticle\" href=\"https://news.naver.com/main/list.naver?mode=LPOD&amp;mid=sec&amp;sid1=001&amp;sid2=140&amp;oid=001&amp;isYeonhapFlash=Y&amp;aid=0013902096\">강원 동해시 북동쪽 해역서 또 지진…규모 3.5까지 커져</a></div>\n",
      "<div><a class=\"issue\" data-clk=\"quickarticle\" href=\"https://news.naver.com/main/list.naver?mode=LPOD&amp;mid=sec&amp;sid1=001&amp;sid2=140&amp;oid=001&amp;isYeonhapFlash=Y&amp;aid=0013902308\">\"송영길, 이르면 내일 출석도 고려\"…검찰 \"통보하면 오시라\"</a></div>\n",
      "<div><a class=\"issue\" data-clk=\"quickarticle\" href=\"https://news.naver.com/main/list.naver?mode=LPOD&amp;mid=sec&amp;sid1=001&amp;sid2=140&amp;oid=001&amp;isYeonhapFlash=Y&amp;aid=0013902444\">'전세피해 특별법' 정부·여당안 27일 발의…금주 처리는 불발</a></div>\n",
      "<div><a class=\"issue\" data-clk=\"quickarticle\" href=\"https://news.naver.com/main/list.naver?mode=LPOD&amp;mid=sec&amp;sid1=001&amp;sid2=140&amp;oid=001&amp;isYeonhapFlash=Y&amp;aid=0013902561\">바이든, 내년 재선 도전 공식 선언…\"이제 일을 끝내자\"</a></div>\n",
      "<div><a class=\"issue\" data-clk=\"quickarticle\" href=\"https://news.naver.com/main/list.naver?mode=LPOD&amp;mid=sec&amp;sid1=001&amp;sid2=140&amp;oid=001&amp;isYeonhapFlash=Y&amp;aid=0013902355\">日경산상, 韓화이트리스트 복원 여부에 \"한국 자세 신중히 파악\"</a></div>\n",
      "<div><a class=\"issue\" data-clk=\"quickarticle\" href=\"https://news.naver.com/main/list.naver?mode=LPOD&amp;mid=sec&amp;sid1=001&amp;sid2=140&amp;oid=001&amp;isYeonhapFlash=Y&amp;aid=0013902467\">이재명 김포골드라인 발언에 서울시 \"사태유발자…사과하라\"</a></div>\n",
      "<div><a class=\"issue\" data-clk=\"quickarticle\" href=\"https://news.naver.com/main/list.naver?mode=LPOD&amp;mid=sec&amp;sid1=001&amp;sid2=140&amp;oid=001&amp;isYeonhapFlash=Y&amp;aid=0013902497\">외국계 증권사發 '무더기 급락' 이틀째…주가조작 의혹 조사</a></div>\n",
      "<div><a class=\"issue\" data-clk=\"quickarticle\" href=\"https://news.naver.com/main/list.naver?mode=LPOD&amp;mid=sec&amp;sid1=001&amp;sid2=140&amp;oid=001&amp;isYeonhapFlash=Y&amp;aid=0013902671\">압구정 재건축 최고 70층 추진…1만가구 '미니 신도시' 구상</a></div> </div> </div> <div class=\"direct_area\"> <a class=\"link_news\" data-clk=\"newshome\" href=\"http://news.naver.com/\">뉴스홈</a>\n",
      "<a class=\"link_direct\" data-clk=\"entertainment\" href=\"http://entertain.naver.com/home\">연예</a>\n",
      "<a class=\"link_direct\" data-clk=\"sports\" href=\"http://sports.news.naver.com/\">스포츠</a>\n",
      "<a class=\"link_direct\" data-clk=\"economy\" href=\"http://news.naver.com/main/main.naver?mode=LSD&amp;mid=shm&amp;sid1=101\">경제</a> </div> </div> <div class=\"group_title\" data-clk-prefix=\"nsd\" id=\"NM_NEWSSTAND_TITLE\"> <a class=\"link_newsstand\" data-clk=\"title\" href=\"http://newsstand.naver.com/\" target=\"_blank\">뉴스스탠드</a> <div class=\"sort_area\" id=\"NM_NEWSSTAND_data_buttons\" role=\"tablist\"> <a aria-controls=\"NM_NEWSSTAND_MY_LIST\" aria-selected=\"false\" class=\"btn_sort\" data-clk=\"my\" data-type=\"my\" href=\"#\" role=\"tab\">구독한 언론사</a> <a aria-controls=\"NM_NEWSSTAND_DEFAULT_THUMB\" aria-selected=\"true\" class=\"btn_sort\" data-clk=\"all\" data-type=\"all\" href=\"#\" role=\"tab\">전체언론사</a> </div> <div class=\"set_area\" id=\"NM_NEWSSTAND_view_buttons\" role=\"tablist\"> <a aria-controls=\"NM_NEWSSTAND_DEFAULT_LIST\" aria-selected=\"false\" class=\"btn_set\" data-clk=\"articleview\" data-type=\"list\" href=\"#\" role=\"tab\"> <i class=\"ico_list\"><span class=\"blind\">리스트형</span></i></a> <a aria-controls=\"NM_NEWSSTAND_DEFAULT_THUMB\" aria-selected=\"true\" class=\"btn_set\" data-clk=\"pressview\" data-type=\"thumb\" href=\"#\" role=\"tab\"> <i class=\"ico_tile\"><span class=\"blind\">썸네일형</span></i></a> <a class=\"btn_set\" data-clk=\"set\" href=\"http://newsstand.naver.com/config.html\" target=\"_blank\"> <i class=\"ico_set\"><span class=\"blind\">설정</span></i></a> </div> </div> <div id=\"NM_NEWSSTAND_VIEW_CONTAINER\" style=\"position:relative\"> <div class=\"group_news\" data-clk-prefix=\"nsd_all\" id=\"NM_NEWSSTAND_DEFAULT_LIST\" role=\"tabpanel\" style=\"display:none\"> <a class=\"pm_btn_prev_l _NM_NEWSSTAND_LIST_prev_btn\" data-clk-custom=\"prev\" href=\"#\" role=\"button\"><i class=\"ico_btn\"><span class=\"blind\">이전</span></i></a> <a class=\"pm_btn_next_l _NM_NEWSSTAND_LIST_next_btn\" data-clk-custom=\"next\" href=\"#\" role=\"button\"><i class=\"ico_btn\"><span class=\"blind\">다음</span></i></a> <div class=\"list_view\"> <div class=\"option_area\"> <div class=\"list_option_wrap\"> <ul class=\"list_option\"> <li class=\"option_item\" data-cateid=\"ct2\"><a class=\"option\" data-clk=\"daei\" href=\"#\">종합/경제</a></li> <li class=\"option_item\" data-cateid=\"ct3\"><a class=\"option\" data-clk=\"dtvcom\" href=\"#\">방송/통신</a></li> <li class=\"option_item\" data-cateid=\"ct4\"><a class=\"option\" data-clk=\"dit\" href=\"#\">IT</a></li> <li class=\"option_item\" data-cateid=\"ct5\"><a class=\"option\" data-clk=\"deng\" href=\"#\">영자지</a></li> <li class=\"option_item\" data-cateid=\"ct6\"><a class=\"option\" data-clk=\"dsporent\" href=\"#\">스포츠/연예</a></li> <li class=\"option_item\" data-cateid=\"ct7\"><a class=\"option\" data-clk=\"dmagtec\" href=\"#\">매거진/전문지</a></li> <li class=\"option_item\" data-cateid=\"ct8\"><a class=\"option\" data-clk=\"dloc\" href=\"#\">지역</a></li> </ul> </div> </div> <div class=\"_NM_NEWSSTAND_ARTICLE_CONTAINER\" data-clk-sub=\"*a\"></div> </div> <div class=\"ly_popup NM_NEWSSTAND_POPUP NM_NEWSSTAND_invalid\" data-clk-sub=\"*a\" style=\"display:none\"> <a class=\"btn_close NM_NEWSSTAND_POPUP_CLOSE\" href=\"#\" role=\"button\"><i class=\"ico_close\"></i><span class=\"blind\">닫기</span></a> <p class=\"popup_msg\">해당 언론사 사정으로 접근이 제한됩니다.</p> <div class=\"popup_btn\"> <a class=\"btn_confirm NM_NEWSSTAND_POPUP_CLOSE\" href=\"#\" role=\"button\">확인</a> </div> </div> <div class=\"ly_popup NM_NEWSSTAND_POPUP NM_NEWSSTAND_undescribe_confirm\" data-clk-sub=\"*a\" style=\"display:none\"> <a class=\"btn_close NM_NEWSSTAND_POPUP_CLOSE\" data-clk=\"usclose\" href=\"#\" role=\"button\"><i class=\"ico_close\"></i><span class=\"blind\">닫기</span></a> <p class=\"popup_msg\"><strong class=\"NM_NEWSSTAND_POPUP_PNAME\"></strong>을(를)<br/>구독해지 하시겠습니까?</p> <div class=\"popup_btn\"> <a class=\"btn_confirm NM_NEWSSTAND_POPUP_CONFIRM\" data-clk=\"usdone\" href=\"#\" role=\"button\">확인</a> <a class=\"btn_confirm NM_NEWSSTAND_POPUP_CLOSE\" data-clk=\"uscancel\" href=\"#\" role=\"button\">취소</a> </div> </div> <div class=\"ly_toast NM_NEWSSTAND_TOAST\" style=\"display:none\"> <p class=\"toast_msg\">구독한 언론사에 추가되었습니다.</p> </div> </div> <div class=\"group_news\" data-clk-prefix=\"nsd_all\" id=\"NM_NEWSSTAND_DEFAULT_THUMB\" role=\"tabpanel\" style=\"display:block\"> <a class=\"pm_btn_prev_l _NM_UI_PAGE_PREV\" data-clk-custom=\"prev\" href=\"#\" role=\"button\"><i class=\"ico_btn\"><span class=\"blind\">이전</span></i></a> <a class=\"pm_btn_next_l _NM_UI_PAGE_NEXT\" data-clk-custom=\"next\" href=\"#\" role=\"button\"><i class=\"ico_btn\"><span class=\"blind\">다음</span></i></a> <div class=\"_NM_UI_PAGE_CONTAINER\" data-clk-sub=\"*p\" style=\"height:100%;overflow:hidden\"> <div style=\"width: 750px; float: left;\">\n",
      "<div class=\"tile_view\">\n",
      "<div class=\"frame_area\">\n",
      "<i class=\"line to_right1\"></i>\n",
      "<i class=\"line to_right2\"></i>\n",
      "<i class=\"line to_right3\"></i>\n",
      "<i class=\"line to_bottom1\"></i>\n",
      "<i class=\"line to_bottom2\"></i>\n",
      "<i class=\"line to_bottom3\"></i>\n",
      "<i class=\"line to_bottom4\"></i>\n",
      "<i class=\"line to_bottom5\"></i>\n",
      "</div>\n",
      "<div class=\"thumb_area\">\n",
      "<div class=\"thumb_box _NM_NEWSSTAND_THUMB _NM_NEWSSTAND_THUMB_press_valid\" data-pid=\"016\">\n",
      "<a class=\"thumb\" href=\"#\">\n",
      "<img alt=\"헤럴드경제\" class=\"news_logo\" height=\"20\" src=\"https://s.pstatic.net/static/newsstand/2020/logo/light/0604/016.png\"/>\n",
      "<span class=\"thumb_dim\"></span></a>\n",
      "<div class=\"popup_wrap\">\n",
      "<a class=\"btn_popup _NM_NEWSSTAND_THUMB_subscribe_press\" data-clk=\"sub\" data-pid=\"016\" href=\"#\" role=\"button\">구독</a>\n",
      "<a class=\"btn_popup _NM_NEWSSTAND_THUMB_unsubscribe_press\" data-clk=\"unsub\" data-pid=\"016\" href=\"#\" role=\"button\">해지</a>\n",
      "<a class=\"btn_popup\" data-clk=\"logo\" data-pid=\"016\" href=\"http://newsstand.naver.com/?list=&amp;pcode=016\" target=\"_blank\">기사보기</a>\n",
      "</div>\n",
      "</div>\n",
      "<div class=\"thumb_box _NM_NEWSSTAND_THUMB _NM_NEWSSTAND_THUMB_press_valid\" data-pid=\"038\">\n",
      "<a class=\"thumb\" href=\"#\">\n",
      "<img alt=\"한국일보\" class=\"news_logo\" height=\"20\" src=\"https://s.pstatic.net/static/newsstand/2020/logo/light/0604/038.png\"/>\n",
      "<span class=\"thumb_dim\"></span></a>\n",
      "<div class=\"popup_wrap\">\n",
      "<a class=\"btn_popup _NM_NEWSSTAND_THUMB_subscribe_press\" data-clk=\"sub\" data-pid=\"038\" href=\"#\" role=\"button\">구독</a>\n",
      "<a class=\"btn_popup _NM_NEWSSTAND_THUMB_unsubscribe_press\" data-clk=\"unsub\" data-pid=\"038\" href=\"#\" role=\"button\">해지</a>\n",
      "<a class=\"btn_popup\" data-clk=\"logo\" data-pid=\"038\" href=\"http://newsstand.naver.com/?list=&amp;pcode=038\" target=\"_blank\">기사보기</a>\n",
      "</div>\n",
      "</div>\n",
      "<div class=\"thumb_box _NM_NEWSSTAND_THUMB _NM_NEWSSTAND_THUMB_press_valid\" data-pid=\"293\">\n",
      "<a class=\"thumb\" href=\"#\">\n",
      "<img alt=\"블로터\" class=\"news_logo\" height=\"20\" src=\"https://s.pstatic.net/static/newsstand/2020/logo/light/0604/293.png\"/>\n",
      "<span class=\"thumb_dim\"></span></a>\n",
      "<div class=\"popup_wrap\">\n",
      "<a class=\"btn_popup _NM_NEWSSTAND_THUMB_subscribe_press\" data-clk=\"sub\" data-pid=\"293\" href=\"#\" role=\"button\">구독</a>\n",
      "<a class=\"btn_popup _NM_NEWSSTAND_THUMB_unsubscribe_press\" data-clk=\"unsub\" data-pid=\"293\" href=\"#\" role=\"button\">해지</a>\n",
      "<a class=\"btn_popup\" data-clk=\"logo\" data-pid=\"293\" href=\"http://newsstand.naver.com/?list=&amp;pcode=293\" target=\"_blank\">기사보기</a>\n",
      "</div>\n",
      "</div>\n",
      "<div class=\"thumb_box _NM_NEWSSTAND_THUMB _NM_NEWSSTAND_THUMB_press_valid\" data-pid=\"422\">\n",
      "<a class=\"thumb\" href=\"#\">\n",
      "<img alt=\"연합뉴스TV\" class=\"news_logo\" height=\"20\" src=\"https://s.pstatic.net/static/newsstand/2020/logo/light/0604/422.png\"/>\n",
      "<span class=\"thumb_dim\"></span></a>\n",
      "<div class=\"popup_wrap\">\n",
      "<a class=\"btn_popup _NM_NEWSSTAND_THUMB_subscribe_press\" data-clk=\"sub\" data-pid=\"422\" href=\"#\" role=\"button\">구독</a>\n",
      "<a class=\"btn_popup _NM_NEWSSTAND_THUMB_unsubscribe_press\" data-clk=\"unsub\" data-pid=\"422\" href=\"#\" role=\"button\">해지</a>\n",
      "<a class=\"btn_popup\" data-clk=\"logo\" data-pid=\"422\" href=\"http://newsstand.naver.com/?list=&amp;pcode=422\" target=\"_blank\">기사보기</a>\n",
      "</div>\n",
      "</div>\n",
      "<div class=\"thumb_box _NM_NEWSSTAND_THUMB _NM_NEWSSTAND_THUMB_press_valid\" data-pid=\"014\">\n",
      "<a class=\"thumb\" href=\"#\">\n",
      "<img alt=\"파이낸셜뉴스\" class=\"news_logo\" height=\"20\" src=\"https://s.pstatic.net/static/newsstand/2020/logo/light/0604/014.png\"/>\n",
      "<span class=\"thumb_dim\"></span></a>\n",
      "<div class=\"popup_wrap\">\n",
      "<a class=\"btn_popup _NM_NEWSSTAND_THUMB_subscribe_press\" data-clk=\"sub\" data-pid=\"014\" href=\"#\" role=\"button\">구독</a>\n",
      "<a class=\"btn_popup _NM_NEWSSTAND_THUMB_unsubscribe_press\" data-clk=\"unsub\" data-pid=\"014\" href=\"#\" role=\"button\">해지</a>\n",
      "<a class=\"btn_popup\" data-clk=\"logo\" data-pid=\"014\" href=\"http://newsstand.naver.com/?list=&amp;pcode=014\" target=\"_blank\">기사보기</a>\n",
      "</div>\n",
      "</div>\n",
      "<div class=\"thumb_box _NM_NEWSSTAND_THUMB _NM_NEWSSTAND_THUMB_press_valid\" data-pid=\"011\">\n",
      "<a class=\"thumb\" href=\"#\">\n",
      "<img alt=\"서울경제\" class=\"news_logo\" height=\"20\" src=\"https://s.pstatic.net/static/newsstand/2019/logo/011.png\"/>\n",
      "<span class=\"thumb_dim\"></span></a>\n",
      "<div class=\"popup_wrap\">\n",
      "<a class=\"btn_popup _NM_NEWSSTAND_THUMB_subscribe_press\" data-clk=\"sub\" data-pid=\"011\" href=\"#\" role=\"button\">구독</a>\n",
      "<a class=\"btn_popup _NM_NEWSSTAND_THUMB_unsubscribe_press\" data-clk=\"unsub\" data-pid=\"011\" href=\"#\" role=\"button\">해지</a>\n",
      "<a class=\"btn_popup\" data-clk=\"logo\" data-pid=\"011\" href=\"http://newsstand.naver.com/?list=&amp;pcode=011\" target=\"_blank\">기사보기</a>\n",
      "</div>\n",
      "</div>\n",
      "<div class=\"thumb_box _NM_NEWSSTAND_THUMB _NM_NEWSSTAND_THUMB_press_valid\" data-pid=\"008\">\n",
      "<a class=\"thumb\" href=\"#\">\n",
      "<img alt=\"머니투데이\" class=\"news_logo\" height=\"20\" src=\"https://s.pstatic.net/static/newsstand/2020/logo/light/0604/008.png\"/>\n",
      "<span class=\"thumb_dim\"></span></a>\n",
      "<div class=\"popup_wrap\">\n",
      "<a class=\"btn_popup _NM_NEWSSTAND_THUMB_subscribe_press\" data-clk=\"sub\" data-pid=\"008\" href=\"#\" role=\"button\">구독</a>\n",
      "<a class=\"btn_popup _NM_NEWSSTAND_THUMB_unsubscribe_press\" data-clk=\"unsub\" data-pid=\"008\" href=\"#\" role=\"button\">해지</a>\n",
      "<a class=\"btn_popup\" data-clk=\"logo\" data-pid=\"008\" href=\"http://newsstand.naver.com/?list=&amp;pcode=008\" target=\"_blank\">기사보기</a>\n",
      "</div>\n",
      "</div>\n",
      "<div class=\"thumb_box _NM_NEWSSTAND_THUMB _NM_NEWSSTAND_THUMB_press_valid\" data-pid=\"003\">\n",
      "<a class=\"thumb\" href=\"#\">\n",
      "<img alt=\"뉴시스\" class=\"news_logo\" height=\"20\" src=\"https://s.pstatic.net/static/newsstand/2020/logo/light/0604/003.png\"/>\n",
      "<span class=\"thumb_dim\"></span></a>\n",
      "<div class=\"popup_wrap\">\n",
      "<a class=\"btn_popup _NM_NEWSSTAND_THUMB_subscribe_press\" data-clk=\"sub\" data-pid=\"003\" href=\"#\" role=\"button\">구독</a>\n",
      "<a class=\"btn_popup _NM_NEWSSTAND_THUMB_unsubscribe_press\" data-clk=\"unsub\" data-pid=\"003\" href=\"#\" role=\"button\">해지</a>\n",
      "<a class=\"btn_popup\" data-clk=\"logo\" data-pid=\"003\" href=\"http://newsstand.naver.com/?list=&amp;pcode=003\" target=\"_blank\">기사보기</a>\n",
      "</div>\n",
      "</div>\n",
      "<div class=\"thumb_box _NM_NEWSSTAND_THUMB _NM_NEWSSTAND_THUMB_press_valid\" data-pid=\"032\">\n",
      "<a class=\"thumb\" href=\"#\">\n",
      "<img alt=\"경향신문\" class=\"news_logo\" height=\"20\" src=\"https://s.pstatic.net/static/newsstand/2020/logo/light/0604/032.png\"/>\n",
      "<span class=\"thumb_dim\"></span></a>\n",
      "<div class=\"popup_wrap\">\n",
      "<a class=\"btn_popup _NM_NEWSSTAND_THUMB_subscribe_press\" data-clk=\"sub\" data-pid=\"032\" href=\"#\" role=\"button\">구독</a>\n",
      "<a class=\"btn_popup _NM_NEWSSTAND_THUMB_unsubscribe_press\" data-clk=\"unsub\" data-pid=\"032\" href=\"#\" role=\"button\">해지</a>\n",
      "<a class=\"btn_popup\" data-clk=\"logo\" data-pid=\"032\" href=\"http://newsstand.naver.com/?list=&amp;pcode=032\" target=\"_blank\">기사보기</a>\n",
      "</div>\n",
      "</div>\n",
      "<div class=\"thumb_box _NM_NEWSSTAND_THUMB _NM_NEWSSTAND_THUMB_press_valid\" data-pid=\"092\">\n",
      "<a class=\"thumb\" href=\"#\">\n",
      "<img alt=\"지디넷코리아\" class=\"news_logo\" height=\"20\" src=\"https://s.pstatic.net/static/newsstand/up/2022/0905/nsd131925414.png\"/>\n",
      "<span class=\"thumb_dim\"></span></a>\n",
      "<div class=\"popup_wrap\">\n",
      "<a class=\"btn_popup _NM_NEWSSTAND_THUMB_subscribe_press\" data-clk=\"sub\" data-pid=\"092\" href=\"#\" role=\"button\">구독</a>\n",
      "<a class=\"btn_popup _NM_NEWSSTAND_THUMB_unsubscribe_press\" data-clk=\"unsub\" data-pid=\"092\" href=\"#\" role=\"button\">해지</a>\n",
      "<a class=\"btn_popup\" data-clk=\"logo\" data-pid=\"092\" href=\"http://newsstand.naver.com/?list=&amp;pcode=092\" target=\"_blank\">기사보기</a>\n",
      "</div>\n",
      "</div>\n",
      "<div class=\"thumb_box _NM_NEWSSTAND_THUMB _NM_NEWSSTAND_THUMB_press_valid\" data-pid=\"021\">\n",
      "<a class=\"thumb\" href=\"#\">\n",
      "<img alt=\"문화일보\" class=\"news_logo\" height=\"20\" src=\"https://s.pstatic.net/static/newsstand/2020/logo/light/0604/021.png\"/>\n",
      "<span class=\"thumb_dim\"></span></a>\n",
      "<div class=\"popup_wrap\">\n",
      "<a class=\"btn_popup _NM_NEWSSTAND_THUMB_subscribe_press\" data-clk=\"sub\" data-pid=\"021\" href=\"#\" role=\"button\">구독</a>\n",
      "<a class=\"btn_popup _NM_NEWSSTAND_THUMB_unsubscribe_press\" data-clk=\"unsub\" data-pid=\"021\" href=\"#\" role=\"button\">해지</a>\n",
      "<a class=\"btn_popup\" data-clk=\"logo\" data-pid=\"021\" href=\"http://newsstand.naver.com/?list=&amp;pcode=021\" target=\"_blank\">기사보기</a>\n",
      "</div>\n",
      "</div>\n",
      "<div class=\"thumb_box _NM_NEWSSTAND_THUMB _NM_NEWSSTAND_THUMB_press_valid\" data-pid=\"002\">\n",
      "<a class=\"thumb\" href=\"#\">\n",
      "<img alt=\"프레시안\" class=\"news_logo\" height=\"20\" src=\"https://s.pstatic.net/static/newsstand/2020/logo/light/0604/002.png\"/>\n",
      "<span class=\"thumb_dim\"></span></a>\n",
      "<div class=\"popup_wrap\">\n",
      "<a class=\"btn_popup _NM_NEWSSTAND_THUMB_subscribe_press\" data-clk=\"sub\" data-pid=\"002\" href=\"#\" role=\"button\">구독</a>\n",
      "<a class=\"btn_popup _NM_NEWSSTAND_THUMB_unsubscribe_press\" data-clk=\"unsub\" data-pid=\"002\" href=\"#\" role=\"button\">해지</a>\n",
      "<a class=\"btn_popup\" data-clk=\"logo\" data-pid=\"002\" href=\"http://newsstand.naver.com/?list=&amp;pcode=002\" target=\"_blank\">기사보기</a>\n",
      "</div>\n",
      "</div>\n",
      "<div class=\"thumb_box _NM_NEWSSTAND_THUMB _NM_NEWSSTAND_THUMB_press_valid\" data-pid=\"052\">\n",
      "<a class=\"thumb\" href=\"#\">\n",
      "<img alt=\"YTN\" class=\"news_logo\" height=\"20\" src=\"https://s.pstatic.net/static/newsstand/2020/logo/light/0604/052.png\"/>\n",
      "<span class=\"thumb_dim\"></span></a>\n",
      "<div class=\"popup_wrap\">\n",
      "<a class=\"btn_popup _NM_NEWSSTAND_THUMB_subscribe_press\" data-clk=\"sub\" data-pid=\"052\" href=\"#\" role=\"button\">구독</a>\n",
      "<a class=\"btn_popup _NM_NEWSSTAND_THUMB_unsubscribe_press\" data-clk=\"unsub\" data-pid=\"052\" href=\"#\" role=\"button\">해지</a>\n",
      "<a class=\"btn_popup\" data-clk=\"logo\" data-pid=\"052\" href=\"http://newsstand.naver.com/?list=&amp;pcode=052\" target=\"_blank\">기사보기</a>\n",
      "</div>\n",
      "</div>\n",
      "<div class=\"thumb_box _NM_NEWSSTAND_THUMB _NM_NEWSSTAND_THUMB_press_valid\" data-pid=\"044\">\n",
      "<a class=\"thumb\" href=\"#\">\n",
      "<img alt=\"코리아헤럴드\" class=\"news_logo\" height=\"20\" src=\"https://s.pstatic.net/static/newsstand/2020/logo/light/0604/044.png\"/>\n",
      "<span class=\"thumb_dim\"></span></a>\n",
      "<div class=\"popup_wrap\">\n",
      "<a class=\"btn_popup _NM_NEWSSTAND_THUMB_subscribe_press\" data-clk=\"sub\" data-pid=\"044\" href=\"#\" role=\"button\">구독</a>\n",
      "<a class=\"btn_popup _NM_NEWSSTAND_THUMB_unsubscribe_press\" data-clk=\"unsub\" data-pid=\"044\" href=\"#\" role=\"button\">해지</a>\n",
      "<a class=\"btn_popup\" data-clk=\"logo\" data-pid=\"044\" href=\"http://newsstand.naver.com/?list=&amp;pcode=044\" target=\"_blank\">기사보기</a>\n",
      "</div>\n",
      "</div>\n",
      "<div class=\"thumb_box _NM_NEWSSTAND_THUMB _NM_NEWSSTAND_THUMB_press_valid\" data-pid=\"241\">\n",
      "<a class=\"thumb\" href=\"#\">\n",
      "<img alt=\"일간스포츠\" class=\"news_logo\" height=\"20\" src=\"https://s.pstatic.net/static/newsstand/up/2023/0112/nsd92558162.png\"/>\n",
      "<span class=\"thumb_dim\"></span></a>\n",
      "<div class=\"popup_wrap\">\n",
      "<a class=\"btn_popup _NM_NEWSSTAND_THUMB_subscribe_press\" data-clk=\"sub\" data-pid=\"241\" href=\"#\" role=\"button\">구독</a>\n",
      "<a class=\"btn_popup _NM_NEWSSTAND_THUMB_unsubscribe_press\" data-clk=\"unsub\" data-pid=\"241\" href=\"#\" role=\"button\">해지</a>\n",
      "<a class=\"btn_popup\" data-clk=\"logo\" data-pid=\"241\" href=\"http://newsstand.naver.com/?list=&amp;pcode=241\" target=\"_blank\">기사보기</a>\n",
      "</div>\n",
      "</div>\n",
      "<div class=\"thumb_box _NM_NEWSSTAND_THUMB _NM_NEWSSTAND_THUMB_press_valid\" data-pid=\"955\">\n",
      "<a class=\"thumb\" href=\"#\">\n",
      "<img alt=\"독서신문\" class=\"news_logo\" height=\"20\" src=\"https://s.pstatic.net/static/newsstand/2020/logo/light/0604/955.png\"/>\n",
      "<span class=\"thumb_dim\"></span></a>\n",
      "<div class=\"popup_wrap\">\n",
      "<a class=\"btn_popup _NM_NEWSSTAND_THUMB_subscribe_press\" data-clk=\"sub\" data-pid=\"955\" href=\"#\" role=\"button\">구독</a>\n",
      "<a class=\"btn_popup _NM_NEWSSTAND_THUMB_unsubscribe_press\" data-clk=\"unsub\" data-pid=\"955\" href=\"#\" role=\"button\">해지</a>\n",
      "<a class=\"btn_popup\" data-clk=\"logo\" data-pid=\"955\" href=\"http://newsstand.naver.com/?list=&amp;pcode=955\" target=\"_blank\">기사보기</a>\n",
      "</div>\n",
      "</div>\n",
      "<div class=\"thumb_box _NM_NEWSSTAND_THUMB _NM_NEWSSTAND_THUMB_press_valid\" data-pid=\"944\">\n",
      "<a class=\"thumb\" href=\"#\">\n",
      "<img alt=\"나우뉴스\" class=\"news_logo\" height=\"20\" src=\"https://s.pstatic.net/static/newsstand/up/2022/0804/nsd1343054.png\"/>\n",
      "<span class=\"thumb_dim\"></span></a>\n",
      "<div class=\"popup_wrap\">\n",
      "<a class=\"btn_popup _NM_NEWSSTAND_THUMB_subscribe_press\" data-clk=\"sub\" data-pid=\"944\" href=\"#\" role=\"button\">구독</a>\n",
      "<a class=\"btn_popup _NM_NEWSSTAND_THUMB_unsubscribe_press\" data-clk=\"unsub\" data-pid=\"944\" href=\"#\" role=\"button\">해지</a>\n",
      "<a class=\"btn_popup\" data-clk=\"logo\" data-pid=\"944\" href=\"http://newsstand.naver.com/?list=&amp;pcode=944\" target=\"_blank\">기사보기</a>\n",
      "</div>\n",
      "</div>\n",
      "<div class=\"thumb_box _NM_NEWSSTAND_THUMB _NM_NEWSSTAND_THUMB_press_valid\" data-pid=\"296\">\n",
      "<a class=\"thumb\" href=\"#\">\n",
      "<img alt=\"코메디닷컴\" class=\"news_logo\" height=\"20\" src=\"https://s.pstatic.net/static/newsstand/2020/logo/light/0604/296.png\"/>\n",
      "<span class=\"thumb_dim\"></span></a>\n",
      "<div class=\"popup_wrap\">\n",
      "<a class=\"btn_popup _NM_NEWSSTAND_THUMB_subscribe_press\" data-clk=\"sub\" data-pid=\"296\" href=\"#\" role=\"button\">구독</a>\n",
      "<a class=\"btn_popup _NM_NEWSSTAND_THUMB_unsubscribe_press\" data-clk=\"unsub\" data-pid=\"296\" href=\"#\" role=\"button\">해지</a>\n",
      "<a class=\"btn_popup\" data-clk=\"logo\" data-pid=\"296\" href=\"http://newsstand.naver.com/?list=&amp;pcode=296\" target=\"_blank\">기사보기</a>\n",
      "</div>\n",
      "</div>\n",
      "<div class=\"thumb_box _NM_NEWSSTAND_THUMB _NM_NEWSSTAND_THUMB_press_valid\" data-pid=\"440\">\n",
      "<a class=\"thumb\" href=\"#\">\n",
      "<img alt=\"티브이데일리\" class=\"news_logo\" height=\"20\" src=\"https://s.pstatic.net/static/newsstand/2020/logo/light/0604/440.png\"/>\n",
      "<span class=\"thumb_dim\"></span></a>\n",
      "<div class=\"popup_wrap\">\n",
      "<a class=\"btn_popup _NM_NEWSSTAND_THUMB_subscribe_press\" data-clk=\"sub\" data-pid=\"440\" href=\"#\" role=\"button\">구독</a>\n",
      "<a class=\"btn_popup _NM_NEWSSTAND_THUMB_unsubscribe_press\" data-clk=\"unsub\" data-pid=\"440\" href=\"#\" role=\"button\">해지</a>\n",
      "<a class=\"btn_popup\" data-clk=\"logo\" data-pid=\"440\" href=\"http://newsstand.naver.com/?list=&amp;pcode=440\" target=\"_blank\">기사보기</a>\n",
      "</div>\n",
      "</div>\n",
      "<div class=\"thumb_box _NM_NEWSSTAND_THUMB _NM_NEWSSTAND_THUMB_press_valid\" data-pid=\"363\">\n",
      "<a class=\"thumb\" href=\"#\">\n",
      "<img alt=\"동아사이언스\" class=\"news_logo\" height=\"20\" src=\"https://s.pstatic.net/static/newsstand/2020/logo/light/0604/363.png\"/>\n",
      "<span class=\"thumb_dim\"></span></a>\n",
      "<div class=\"popup_wrap\">\n",
      "<a class=\"btn_popup _NM_NEWSSTAND_THUMB_subscribe_press\" data-clk=\"sub\" data-pid=\"363\" href=\"#\" role=\"button\">구독</a>\n",
      "<a class=\"btn_popup _NM_NEWSSTAND_THUMB_unsubscribe_press\" data-clk=\"unsub\" data-pid=\"363\" href=\"#\" role=\"button\">해지</a>\n",
      "<a class=\"btn_popup\" data-clk=\"logo\" data-pid=\"363\" href=\"http://newsstand.naver.com/?list=&amp;pcode=363\" target=\"_blank\">기사보기</a>\n",
      "</div>\n",
      "</div>\n",
      "<div class=\"thumb_box _NM_NEWSSTAND_THUMB _NM_NEWSSTAND_THUMB_press_valid\" data-pid=\"813\">\n",
      "<a class=\"thumb\" href=\"#\">\n",
      "<img alt=\"이코노믹리뷰\" class=\"news_logo\" height=\"20\" src=\"https://s.pstatic.net/static/newsstand/up/2022/0418/nsd164755323.png\"/>\n",
      "<span class=\"thumb_dim\"></span></a>\n",
      "<div class=\"popup_wrap\">\n",
      "<a class=\"btn_popup _NM_NEWSSTAND_THUMB_subscribe_press\" data-clk=\"sub\" data-pid=\"813\" href=\"#\" role=\"button\">구독</a>\n",
      "<a class=\"btn_popup _NM_NEWSSTAND_THUMB_unsubscribe_press\" data-clk=\"unsub\" data-pid=\"813\" href=\"#\" role=\"button\">해지</a>\n",
      "<a class=\"btn_popup\" data-clk=\"logo\" data-pid=\"813\" href=\"http://newsstand.naver.com/?list=&amp;pcode=813\" target=\"_blank\">기사보기</a>\n",
      "</div>\n",
      "</div>\n",
      "<div class=\"thumb_box _NM_NEWSSTAND_THUMB _NM_NEWSSTAND_THUMB_press_valid\" data-pid=\"815\">\n",
      "<a class=\"thumb\" href=\"#\">\n",
      "<img alt=\"법률방송뉴스\" class=\"news_logo\" height=\"20\" src=\"https://s.pstatic.net/static/newsstand/2020/logo/light/0604/815.png\"/>\n",
      "<span class=\"thumb_dim\"></span></a>\n",
      "<div class=\"popup_wrap\">\n",
      "<a class=\"btn_popup _NM_NEWSSTAND_THUMB_subscribe_press\" data-clk=\"sub\" data-pid=\"815\" href=\"#\" role=\"button\">구독</a>\n",
      "<a class=\"btn_popup _NM_NEWSSTAND_THUMB_unsubscribe_press\" data-clk=\"unsub\" data-pid=\"815\" href=\"#\" role=\"button\">해지</a>\n",
      "<a class=\"btn_popup\" data-clk=\"logo\" data-pid=\"815\" href=\"http://newsstand.naver.com/?list=&amp;pcode=815\" target=\"_blank\">기사보기</a>\n",
      "</div>\n",
      "</div>\n",
      "<div class=\"thumb_box _NM_NEWSSTAND_THUMB _NM_NEWSSTAND_THUMB_press_valid\" data-pid=\"213\">\n",
      "<a class=\"thumb\" href=\"#\">\n",
      "<img alt=\"TV리포트\" class=\"news_logo\" height=\"20\" src=\"https://s.pstatic.net/static/newsstand/2020/logo/light/0604/213.png\"/>\n",
      "<span class=\"thumb_dim\"></span></a>\n",
      "<div class=\"popup_wrap\">\n",
      "<a class=\"btn_popup _NM_NEWSSTAND_THUMB_subscribe_press\" data-clk=\"sub\" data-pid=\"213\" href=\"#\" role=\"button\">구독</a>\n",
      "<a class=\"btn_popup _NM_NEWSSTAND_THUMB_unsubscribe_press\" data-clk=\"unsub\" data-pid=\"213\" href=\"#\" role=\"button\">해지</a>\n",
      "<a class=\"btn_popup\" data-clk=\"logo\" data-pid=\"213\" href=\"http://newsstand.naver.com/?list=&amp;pcode=213\" target=\"_blank\">기사보기</a>\n",
      "</div>\n",
      "</div>\n",
      "<div class=\"thumb_box _NM_NEWSSTAND_THUMB _NM_NEWSSTAND_THUMB_press_valid\" data-pid=\"963\">\n",
      "<a class=\"thumb\" href=\"#\">\n",
      "<img alt=\"에너지경제\" class=\"news_logo\" height=\"20\" src=\"https://s.pstatic.net/static/newsstand/2020/logo/light/0604/963.png\"/>\n",
      "<span class=\"thumb_dim\"></span></a>\n",
      "<div class=\"popup_wrap\">\n",
      "<a class=\"btn_popup _NM_NEWSSTAND_THUMB_subscribe_press\" data-clk=\"sub\" data-pid=\"963\" href=\"#\" role=\"button\">구독</a>\n",
      "<a class=\"btn_popup _NM_NEWSSTAND_THUMB_unsubscribe_press\" data-clk=\"unsub\" data-pid=\"963\" href=\"#\" role=\"button\">해지</a>\n",
      "<a class=\"btn_popup\" data-clk=\"logo\" data-pid=\"963\" href=\"http://newsstand.naver.com/?list=&amp;pcode=963\" target=\"_blank\">기사보기</a>\n",
      "</div>\n",
      "</div>\n",
      "</div>\n",
      "</div>\n",
      "</div>\n",
      "</div> <div class=\"ly_popup NM_NEWSSTAND_POPUP NM_NEWSSTAND_invalid\" style=\"display:none\"> <a class=\"btn_close NM_NEWSSTAND_POPUP_CLOSE\" href=\"#\" role=\"button\"><i class=\"ico_close\"></i><span class=\"blind\">닫기</span></a> <p class=\"popup_msg\">해당 언론사 사정으로 접근이 제한됩니다.</p> <div class=\"popup_btn\"> <a class=\"btn_confirm NM_NEWSSTAND_POPUP_CLOSE\" href=\"#\" role=\"button\">확인</a> </div> </div> <div class=\"ly_popup NM_NEWSSTAND_POPUP NM_NEWSSTAND_undescribe_confirm\" data-clk-sub=\"*a\" style=\"display:none\"> <a class=\"btn_close NM_NEWSSTAND_POPUP_CLOSE\" data-clk=\"usclose\" href=\"#\" role=\"button\"><i class=\"ico_close\"></i><span class=\"blind\">닫기</span></a> <p class=\"popup_msg\"><strong class=\"NM_NEWSSTAND_POPUP_PNAME\"></strong>을(를)<br>구독해지 하시겠습니까?</br></p> <div class=\"popup_btn\"> <a class=\"btn_confirm NM_NEWSSTAND_POPUP_CONFIRM\" data-clk=\"usdone\" href=\"#\" role=\"button\">확인</a> <a class=\"btn_confirm NM_NEWSSTAND_POPUP_CLOSE\" data-clk=\"uscancel\" href=\"#\" role=\"button\">취소</a> </div> </div> <div class=\"ly_toast NM_NEWSSTAND_TOAST\" style=\"display:none\"> <p class=\"toast_msg\">구독한 언론사에 추가되었습니다.</p> </div> </div> <div class=\"group_news\" data-clk-prefix=\"nsd_myn\" id=\"NM_NEWSSTAND_MY_LIST\" role=\"tabpanel\" style=\"display:none\"> <a class=\"pm_btn_prev_l _NM_NEWSSTAND_LIST_prev_btn\" data-clk-custom=\"prev\" href=\"#\" role=\"button\"><i class=\"ico_btn\"></i><span class=\"blind\">이전</span></a> <a class=\"pm_btn_next_l _NM_NEWSSTAND_LIST_next_btn\" data-clk-custom=\"next\" href=\"#\" role=\"button\"><i class=\"ico_btn\"></i><span class=\"blind\">다음</span><span class=\"blind\">다음</span></a> <div class=\"list_view\"> <div class=\"option_area\"> <div class=\"list_option_wrap\"> <ul class=\"list_option _NM_NEWSSTAND_MY_presslist\"> <!-- nvpaperlist:empty --> </ul> </div> </div> <div class=\"_NM_NEWSSTAND_ARTICLE_CONTAINER\" data-clk-sub=\"*a\"> </div> </div> <div class=\"ly_popup NM_NEWSSTAND_POPUP NM_NEWSSTAND_invalid\" style=\"display:none\"> <a class=\"btn_close NM_NEWSSTAND_POPUP_CLOSE\" href=\"#\" role=\"button\"><i class=\"ico_close\"></i><span class=\"blind\">닫기</span></a> <p class=\"popup_msg\">해당 언론사 사정으로 접근이 일시 제한됩니다.</p> <div class=\"popup_btn\"> <a class=\"btn_confirm NM_NEWSSTAND_POPUP_CLOSE\" href=\"#\" role=\"button\">확인</a> </div> </div> <div class=\"ly_popup NM_NEWSSTAND_POPUP NM_NEWSSTAND_undescribe_confirm\" data-clk-sub=\"*a\" style=\"display:none\"> <a class=\"btn_close NM_NEWSSTAND_POPUP_CLOSE\" data-clk=\"usclose\" href=\"#\" role=\"button\"><i class=\"ico_close\"></i><span class=\"blind\">닫기</span></a> <p class=\"popup_msg\"><strong class=\"NM_NEWSSTAND_POPUP_PNAME\"></strong>을(를)<br/>구독해지 하시겠습니까?</p> <div class=\"popup_btn\"> <a class=\"btn_confirm NM_NEWSSTAND_POPUP_CONFIRM\" data-clk=\"usdone\" href=\"#\" role=\"button\">확인</a> <a class=\"btn_confirm NM_NEWSSTAND_POPUP_CLOSE\" data-clk=\"uscancel\" href=\"#\" role=\"button\">취소</a> </div> </div> </div> <div class=\"group_news\" data-clk-prefix=\"nsd_myn\" id=\"NM_NEWSSTAND_MY_THUMB\" role=\"tabpanel\" style=\"display:none\"> <a class=\"pm_btn_prev_l _NM_UI_PAGE_PREV\" data-clk-custom=\"prev\" href=\"#\" role=\"button\"><i class=\"ico_btn\"><span class=\"blind\">이전</span></i></a> <a class=\"pm_btn_next_l _NM_UI_PAGE_NEXT\" data-clk-custom=\"next\" href=\"#\" role=\"button\"><i class=\"ico_btn\"><span class=\"blind\">다음</span></i></a> <div class=\"_NM_UI_PAGE_CONTAINER\" data-clk-sub=\"*p\"></div> <div class=\"ly_popup NM_NEWSSTAND_POPUP NM_NEWSSTAND_invalid\" style=\"display:none\"> <a class=\"btn_close NM_NEWSSTAND_POPUP_CLOSE\" href=\"#\" role=\"button\"><i class=\"ico_close\"></i><span class=\"blind\">닫기</span></a> <p class=\"popup_msg\">해당 언론사 사정으로 접근이 제한됩니다.</p> <div class=\"popup_btn\"> <a class=\"btn_confirm NM_NEWSSTAND_POPUP_CLOSE\" href=\"#\" role=\"button\">확인</a> </div> </div> <div class=\"ly_popup NM_NEWSSTAND_POPUP NM_NEWSSTAND_undescribe_confirm\" data-clk-sub=\"*a\" style=\"display:none\"> <a class=\"btn_close NM_NEWSSTAND_POPUP_CLOSE\" data-clk=\"usclose\" href=\"#\" role=\"button\"><i class=\"ico_close\"></i><span class=\"blind\">닫기</span></a> <p class=\"popup_msg\"><strong class=\"NM_NEWSSTAND_POPUP_PNAME\"></strong>을(를)<br/>구독해지 하시겠습니까?</p> <div class=\"popup_btn\"> <a class=\"btn_confirm NM_NEWSSTAND_POPUP_CONFIRM\" data-clk=\"usdone\" href=\"#\" role=\"button\">확인</a> <a class=\"btn_confirm NM_NEWSSTAND_POPUP_CLOSE\" data-clk=\"uscancel\" href=\"#\" role=\"button\">취소</a> </div> </div> </div> <div class=\"group_news\" id=\"NM_NEWSSTAND_MY_EMPTY\" role=\"tabpanel\" style=\"display:none\"> <div class=\"error_view\"> <div class=\"error_area\"> <strong class=\"error_msg\">구독한 언론사가 없습니다.</strong> <p class=\"dsc_msg\">언론사 구독 설정에서 관심있는 언론사를 구독하시면<br/>언론사가 직접 편집한 뉴스들을 네이버 홈에서 바로 보실 수 있습니다.</p> <a class=\"link_redirect\" href=\"http://newsstand.naver.com/config.html\" target=\"_blank\">언론사 구독 설정하기</a> </div> </div> </div> </div> </div>\n"
     ]
    }
   ],
   "source": [
    "print(soup.find(id = 'newsstand'))"
   ]
  },
  {
   "cell_type": "code",
   "execution_count": 18,
   "metadata": {},
   "outputs": [
    {
     "name": "stdout",
     "output_type": "stream",
     "text": [
      "<span>타임스퀘어 바로가기</span>\n"
     ]
    }
   ],
   "source": [
    "# print(soup.find_all('span'))\n",
    "# print(soup.find_all('span', limit = 10))\n",
    "print(soup.find_all('span')[2])"
   ]
  },
  {
   "cell_type": "code",
   "execution_count": 19,
   "metadata": {},
   "outputs": [],
   "source": [
    "sample = soup.find('div', attrs={\n",
    "    'class' : 'media_view'\n",
    "})"
   ]
  },
  {
   "cell_type": "code",
   "execution_count": 20,
   "metadata": {},
   "outputs": [
    {
     "name": "stdout",
     "output_type": "stream",
     "text": [
      "<div class=\"media_view\">\n",
      "<a class=\"media_area\" data-clk=\"tcc_bty.video1cont1\" data-gdid=\"e3a73e1c-82cf-40d9-b2c3-43c053d9ceb2\" href=\"https://tv.naver.com/v/27521920\" target=\"_blank\">\n",
      "<div class=\"media_thumb\">\n",
      "<img alt=\"\" data-src=\"https://s.pstatic.net/dthumb.phinf/?src=%22https%3A%2F%2Fs.pstatic.net%2Fshop.phinf%2F20220701_186%2F1656670379931AoN5V_JPEG%2F1655973442734.jpg%3Ftype%3Df342_264%22&amp;type=nf464_260\" height=\"130\" onerror=\"this.outerHTML='&lt;span class=\\'pm_noimg\\'&gt;&lt;span class=\\'noimg_text\\'&gt;이미지 준비중&lt;/span&gt;&lt;/span&gt;'\" src=\"https://s.pstatic.net/dthumb.phinf/?src=%22https%3A%2F%2Fs.pstatic.net%2Fshop.phinf%2F20220701_186%2F1656670379931AoN5V_JPEG%2F1655973442734.jpg%3Ftype%3Df342_264%22&amp;type=nf464_260\" width=\"232\"/>\n",
      "<span class=\"thumb_dim\"></span>\n",
      "<span class=\"thumb_bd\"></span>\n",
      "<i class=\"pm_ico_play\"><span class=\"blind\">재생</span></i>\n",
      "<span class=\"theme_runtime\"><span class=\"runtime_bg\">재생시간</span><em class=\"time\">14:03</em></span>\n",
      "</div>\n",
      "<div class=\"media_info\">\n",
      "<div class=\"info_box\">\n",
      "<strong class=\"title\">핫한 신상 비교 분석 후기</strong>\n",
      "<div class=\"source_wrap\">\n",
      "<span class=\"date\">10개월 전</span>\n",
      "<span class=\"source\">\n",
      "<span class=\"source_inner\">디렉터파이</span>\n",
      "</span>\n",
      "</div>\n",
      "</div>\n",
      "</div>\n",
      "</a>\n",
      "<a class=\"media_area\" data-clk=\"tcc_bty.video1cont2\" data-gdid=\"626127c2e693cc56713f4bc8\" href=\"https://tv.naver.com/v/26359988\" target=\"_blank\">\n",
      "<div class=\"media_thumb\">\n",
      "<img alt=\"\" data-src=\"https://s.pstatic.net/dthumb.phinf/?src=%22https%3A%2F%2Fs.pstatic.net%2Fshop.phinf%2F20220422_128%2F1650589228697mj6Nq_JPEG%2F1650517831270.jpg%3Ftype%3Df342_264%22&amp;type=nf464_260\" height=\"130\" onerror=\"this.outerHTML='&lt;span class=\\'pm_noimg\\'&gt;&lt;span class=\\'noimg_text\\'&gt;이미지 준비중&lt;/span&gt;&lt;/span&gt;'\" src=\"https://s.pstatic.net/dthumb.phinf/?src=%22https%3A%2F%2Fs.pstatic.net%2Fshop.phinf%2F20220422_128%2F1650589228697mj6Nq_JPEG%2F1650517831270.jpg%3Ftype%3Df342_264%22&amp;type=nf464_260\" width=\"232\"/>\n",
      "<span class=\"thumb_dim\"></span>\n",
      "<span class=\"thumb_bd\"></span>\n",
      "<i class=\"pm_ico_play\"><span class=\"blind\">재생</span></i>\n",
      "<span class=\"theme_runtime\"><span class=\"runtime_bg\">재생시간</span><em class=\"time\">13:23</em></span>\n",
      "</div>\n",
      "<div class=\"media_info\">\n",
      "<div class=\"info_box\">\n",
      "<strong class=\"title\">기존 TOP 제품보다 더 좋을까?</strong>\n",
      "<div class=\"source_wrap\">\n",
      "<span class=\"date\">1년 전</span>\n",
      "<span class=\"source\">\n",
      "<span class=\"source_inner\">디렉터파이</span>\n",
      "</span>\n",
      "</div>\n",
      "</div>\n",
      "</div>\n",
      "</a>\n",
      "<a class=\"media_area\" data-clk=\"tcc_bty.video1cont3\" data-gdid=\"6b61ba3d-aca5-4c11-9952-deeb5bc82425\" href=\"https://tv.naver.com/v/25546385\" target=\"_blank\">\n",
      "<div class=\"media_thumb\">\n",
      "<img alt=\"\" data-src=\"https://s.pstatic.net/dthumb.phinf/?src=%22https%3A%2F%2Fs.pstatic.net%2Fshop.phinf%2F20220311_147%2F1647002844611XaLNx_JPEG%2F4Y.jpg%3Ftype%3Df342_264%22&amp;type=nf464_260\" height=\"130\" onerror=\"this.outerHTML='&lt;span class=\\'pm_noimg\\'&gt;&lt;span class=\\'noimg_text\\'&gt;이미지 준비중&lt;/span&gt;&lt;/span&gt;'\" src=\"https://s.pstatic.net/dthumb.phinf/?src=%22https%3A%2F%2Fs.pstatic.net%2Fshop.phinf%2F20220311_147%2F1647002844611XaLNx_JPEG%2F4Y.jpg%3Ftype%3Df342_264%22&amp;type=nf464_260\" width=\"232\"/>\n",
      "<span class=\"thumb_dim\"></span>\n",
      "<span class=\"thumb_bd\"></span>\n",
      "<i class=\"pm_ico_play\"><span class=\"blind\">재생</span></i>\n",
      "<span class=\"theme_runtime\"><span class=\"runtime_bg\">재생시간</span><em class=\"time\">19:51</em></span>\n",
      "</div>\n",
      "<div class=\"media_info\">\n",
      "<div class=\"info_box\">\n",
      "<strong class=\"title\">디파가 추천하는 다이소 꿀템</strong>\n",
      "<div class=\"source_wrap\">\n",
      "<span class=\"date\">1년 전</span>\n",
      "<span class=\"source\">\n",
      "<span class=\"source_inner\">디렉터파이</span>\n",
      "</span>\n",
      "</div>\n",
      "</div>\n",
      "</div>\n",
      "</a>\n",
      "</div>\n"
     ]
    }
   ],
   "source": [
    "print(sample)"
   ]
  },
  {
   "cell_type": "code",
   "execution_count": 21,
   "metadata": {},
   "outputs": [
    {
     "name": "stdout",
     "output_type": "stream",
     "text": [
      "[<strong class=\"title\">핫한 신상 비교 분석 후기</strong>, <strong class=\"title\">기존 TOP 제품보다 더 좋을까?</strong>, <strong class=\"title\">디파가 추천하는 다이소 꿀템</strong>]\n"
     ]
    }
   ],
   "source": [
    "sample_list = sample.find_all('strong')\n",
    "print(sample_list)"
   ]
  },
  {
   "cell_type": "code",
   "execution_count": 22,
   "metadata": {},
   "outputs": [
    {
     "data": {
      "text/plain": [
       "<bound method PageElement.get_text of <strong class=\"title\">핫한 신상 비교 분석 후기</strong>>"
      ]
     },
     "execution_count": 22,
     "metadata": {},
     "output_type": "execute_result"
    }
   ],
   "source": [
    "sample_list[0].get_text"
   ]
  },
  {
   "cell_type": "code",
   "execution_count": 23,
   "metadata": {},
   "outputs": [
    {
     "name": "stdout",
     "output_type": "stream",
     "text": [
      "['핫한 신상 비교 분석 후기', '기존 TOP 제품보다 더 좋을까?', '디파가 추천하는 다이소 꿀템']\n"
     ]
    }
   ],
   "source": [
    "result = []\n",
    "\n",
    "for i in sample_list:\n",
    "    result.append(i.get_text())\n",
    "\n",
    "print(result)"
   ]
  },
  {
   "cell_type": "code",
   "execution_count": 24,
   "metadata": {},
   "outputs": [],
   "source": [
    "url = 'https://finance.naver.com/'\n",
    "\n",
    "html_data = requests.get(url).text"
   ]
  },
  {
   "cell_type": "code",
   "execution_count": 25,
   "metadata": {},
   "outputs": [],
   "source": [
    "soup = bs(html_data, 'html.parser')"
   ]
  },
  {
   "cell_type": "code",
   "execution_count": 26,
   "metadata": {},
   "outputs": [],
   "source": [
    "data = soup.find('table', attrs={\n",
    "    'class' : 'tbl_home'\n",
    "})"
   ]
  },
  {
   "cell_type": "code",
   "execution_count": 27,
   "metadata": {},
   "outputs": [],
   "source": [
    "data2 = data.find('tbody')"
   ]
  },
  {
   "cell_type": "code",
   "execution_count": 28,
   "metadata": {},
   "outputs": [],
   "source": [
    "_list = data2.find_all('th')"
   ]
  },
  {
   "cell_type": "code",
   "execution_count": 29,
   "metadata": {},
   "outputs": [
    {
     "name": "stdout",
     "output_type": "stream",
     "text": [
      "['KODEX 200선물인버스2X', '이트론', 'KODEX 코스닥150선물인버스', '이아이디', '유니온머티리얼', '이화전기', '골드퍼시픽', '현대무벡스', 'GS글로벌', '유니온', '누보', '하림지주', '다올투자증권', '모베이스전자', '한일사료']\n"
     ]
    }
   ],
   "source": [
    "result = []\n",
    "\n",
    "for i in _list:\n",
    "    result.append(i.get_text())\n",
    "\n",
    "print(result)"
   ]
  },
  {
   "cell_type": "code",
   "execution_count": 30,
   "metadata": {},
   "outputs": [],
   "source": [
    "data3 = data2.find_all('tr', attrs={\n",
    "    'class' : 'up'\n",
    "})"
   ]
  },
  {
   "cell_type": "code",
   "execution_count": 31,
   "metadata": {},
   "outputs": [
    {
     "data": {
      "text/plain": [
       "[['KODEX 200선물인버스2X', '2,765', '상승 65', '  +2.41%  '],\n",
       " ['이트론', '339', '상승 5', '  +1.50%  '],\n",
       " ['KODEX 코스닥150선물인버스', '4,245', '상승 45', '  +1.07%  '],\n",
       " ['이아이디', '3,085', '상승 305', '  +10.97%  '],\n",
       " ['유니온머티리얼', '4,325', '상승 350', '  +8.81%  '],\n",
       " ['이화전기', '1,491', '상승 21', '  +1.43%  '],\n",
       " ['골드퍼시픽', '594', '상승 137', '  +29.98%  '],\n",
       " ['현대무벡스', '4,120', '상승 170', '  +4.30%  '],\n",
       " ['GS글로벌', '3,270', '상승 230', '  +7.57%  '],\n",
       " ['유니온', '9,800', '상승 1,520', '  +18.36%  '],\n",
       " ['모베이스전자', '2,615', '상승 255', '  +10.81%  ']]"
      ]
     },
     "execution_count": 31,
     "metadata": {},
     "output_type": "execute_result"
    }
   ],
   "source": [
    "# td 리스트\n",
    "_list3 = []\n",
    "\n",
    "for i in data3:\n",
    "    _sample_list = []\n",
    "    _sample_list.append(i.find('th').get_text())\n",
    "    _list4 = i.find_all('td')\n",
    "    for j in _list4:\n",
    "        _sample_list.append(j.get_text())\n",
    "    _list3.append(_sample_list)\n",
    "\n",
    "_list3"
   ]
  },
  {
   "cell_type": "code",
   "execution_count": 32,
   "metadata": {},
   "outputs": [
    {
     "data": {
      "text/html": [
       "<div>\n",
       "<style scoped>\n",
       "    .dataframe tbody tr th:only-of-type {\n",
       "        vertical-align: middle;\n",
       "    }\n",
       "\n",
       "    .dataframe tbody tr th {\n",
       "        vertical-align: top;\n",
       "    }\n",
       "\n",
       "    .dataframe thead th {\n",
       "        text-align: right;\n",
       "    }\n",
       "</style>\n",
       "<table border=\"1\" class=\"dataframe\">\n",
       "  <thead>\n",
       "    <tr style=\"text-align: right;\">\n",
       "      <th></th>\n",
       "      <th>0</th>\n",
       "      <th>1</th>\n",
       "      <th>2</th>\n",
       "      <th>3</th>\n",
       "    </tr>\n",
       "  </thead>\n",
       "  <tbody>\n",
       "    <tr>\n",
       "      <th>0</th>\n",
       "      <td>KODEX 200선물인버스2X</td>\n",
       "      <td>2,765</td>\n",
       "      <td>상승 65</td>\n",
       "      <td>+2.41%</td>\n",
       "    </tr>\n",
       "    <tr>\n",
       "      <th>1</th>\n",
       "      <td>이트론</td>\n",
       "      <td>339</td>\n",
       "      <td>상승 5</td>\n",
       "      <td>+1.50%</td>\n",
       "    </tr>\n",
       "    <tr>\n",
       "      <th>2</th>\n",
       "      <td>KODEX 코스닥150선물인버스</td>\n",
       "      <td>4,245</td>\n",
       "      <td>상승 45</td>\n",
       "      <td>+1.07%</td>\n",
       "    </tr>\n",
       "    <tr>\n",
       "      <th>3</th>\n",
       "      <td>이아이디</td>\n",
       "      <td>3,085</td>\n",
       "      <td>상승 305</td>\n",
       "      <td>+10.97%</td>\n",
       "    </tr>\n",
       "    <tr>\n",
       "      <th>4</th>\n",
       "      <td>유니온머티리얼</td>\n",
       "      <td>4,325</td>\n",
       "      <td>상승 350</td>\n",
       "      <td>+8.81%</td>\n",
       "    </tr>\n",
       "    <tr>\n",
       "      <th>5</th>\n",
       "      <td>이화전기</td>\n",
       "      <td>1,491</td>\n",
       "      <td>상승 21</td>\n",
       "      <td>+1.43%</td>\n",
       "    </tr>\n",
       "    <tr>\n",
       "      <th>6</th>\n",
       "      <td>골드퍼시픽</td>\n",
       "      <td>594</td>\n",
       "      <td>상승 137</td>\n",
       "      <td>+29.98%</td>\n",
       "    </tr>\n",
       "    <tr>\n",
       "      <th>7</th>\n",
       "      <td>현대무벡스</td>\n",
       "      <td>4,120</td>\n",
       "      <td>상승 170</td>\n",
       "      <td>+4.30%</td>\n",
       "    </tr>\n",
       "    <tr>\n",
       "      <th>8</th>\n",
       "      <td>GS글로벌</td>\n",
       "      <td>3,270</td>\n",
       "      <td>상승 230</td>\n",
       "      <td>+7.57%</td>\n",
       "    </tr>\n",
       "    <tr>\n",
       "      <th>9</th>\n",
       "      <td>유니온</td>\n",
       "      <td>9,800</td>\n",
       "      <td>상승 1,520</td>\n",
       "      <td>+18.36%</td>\n",
       "    </tr>\n",
       "    <tr>\n",
       "      <th>10</th>\n",
       "      <td>모베이스전자</td>\n",
       "      <td>2,615</td>\n",
       "      <td>상승 255</td>\n",
       "      <td>+10.81%</td>\n",
       "    </tr>\n",
       "  </tbody>\n",
       "</table>\n",
       "</div>"
      ],
      "text/plain": [
       "                    0      1         2            3\n",
       "0    KODEX 200선물인버스2X  2,765     상승 65     +2.41%  \n",
       "1                 이트론    339      상승 5     +1.50%  \n",
       "2   KODEX 코스닥150선물인버스  4,245     상승 45     +1.07%  \n",
       "3                이아이디  3,085    상승 305    +10.97%  \n",
       "4             유니온머티리얼  4,325    상승 350     +8.81%  \n",
       "5                이화전기  1,491     상승 21     +1.43%  \n",
       "6               골드퍼시픽    594    상승 137    +29.98%  \n",
       "7               현대무벡스  4,120    상승 170     +4.30%  \n",
       "8               GS글로벌  3,270    상승 230     +7.57%  \n",
       "9                 유니온  9,800  상승 1,520    +18.36%  \n",
       "10             모베이스전자  2,615    상승 255    +10.81%  "
      ]
     },
     "execution_count": 32,
     "metadata": {},
     "output_type": "execute_result"
    }
   ],
   "source": [
    "pd.DataFrame(_list3)"
   ]
  },
  {
   "cell_type": "code",
   "execution_count": 33,
   "metadata": {},
   "outputs": [],
   "source": [
    "url = 'http://172.16.11.148:3000/corona'\n",
    "params = {\n",
    "    'service key' : 'aaa'\n",
    "}"
   ]
  },
  {
   "cell_type": "code",
   "execution_count": null,
   "metadata": {},
   "outputs": [],
   "source": []
  }
 ],
 "metadata": {
  "kernelspec": {
   "display_name": "Python 3",
   "language": "python",
   "name": "python3"
  },
  "language_info": {
   "codemirror_mode": {
    "name": "ipython",
    "version": 3
   },
   "file_extension": ".py",
   "mimetype": "text/x-python",
   "name": "python",
   "nbconvert_exporter": "python",
   "pygments_lexer": "ipython3",
   "version": "3.9.6"
  },
  "orig_nbformat": 4
 },
 "nbformat": 4,
 "nbformat_minor": 2
}
