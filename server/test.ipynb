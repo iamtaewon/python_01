{
 "cells": [
  {
   "attachments": {},
   "cell_type": "markdown",
   "metadata": {},
   "source": [
    "# 웹 크롤링\n",
    "\n",
    "- 필수 라이브러리 requests"
   ]
  },
  {
   "cell_type": "code",
   "execution_count": 3,
   "metadata": {},
   "outputs": [],
   "source": [
    "import requests"
   ]
  },
  {
   "cell_type": "code",
   "execution_count": 4,
   "metadata": {},
   "outputs": [],
   "source": [
    "url = \"https://www.naver.com\"\n",
    "response = requests.get(url)"
   ]
  },
  {
   "cell_type": "code",
   "execution_count": 5,
   "metadata": {},
   "outputs": [],
   "source": [
    "html_data = response.text"
   ]
  },
  {
   "cell_type": "code",
   "execution_count": 6,
   "metadata": {},
   "outputs": [
    {
     "data": {
      "text/plain": [
       "365"
      ]
     },
     "execution_count": 6,
     "metadata": {},
     "output_type": "execute_result"
    }
   ],
   "source": [
    "html_data.find(\"네이버\")"
   ]
  },
  {
   "cell_type": "code",
   "execution_count": 7,
   "metadata": {},
   "outputs": [
    {
     "data": {
      "text/plain": [
       "'네이버'"
      ]
     },
     "execution_count": 7,
     "metadata": {},
     "output_type": "execute_result"
    }
   ],
   "source": [
    "html_data[365:368]"
   ]
  },
  {
   "cell_type": "markdown",
   "metadata": {},
   "source": [
    "# beautifulsoup 라이브러리 설치\n",
    "\n",
    "1. html Tag의 데이터를 쉽게 추출하기 위한 라이브러리\n",
    "2. 웹의 구조를 어느정도 인지를 한 상태에서 이 라이브러리 사용하면 쉽게 데이터 추출이 가능\n",
    "3. 파서(parser)를 활용해서 파이썬에서 접근이 쉽게 객체형태로 제공"
   ]
  },
  {
   "cell_type": "code",
   "execution_count": 8,
   "metadata": {},
   "outputs": [
    {
     "name": "stdout",
     "output_type": "stream",
     "text": [
      "Requirement already satisfied: bs4 in /Library/Frameworks/Python.framework/Versions/3.11/lib/python3.11/site-packages (0.0.1)\n",
      "Requirement already satisfied: beautifulsoup4 in /Users/taewon/Library/Python/3.11/lib/python/site-packages (from bs4) (4.11.2)\n",
      "Requirement already satisfied: soupsieve>1.2 in /Users/taewon/Library/Python/3.11/lib/python/site-packages (from beautifulsoup4->bs4) (2.4)\n"
     ]
    }
   ],
   "source": [
    "!pip3 install bs4"
   ]
  },
  {
   "cell_type": "code",
   "execution_count": 9,
   "metadata": {},
   "outputs": [],
   "source": [
    "from bs4 import BeautifulSoup as bs"
   ]
  },
  {
   "cell_type": "code",
   "execution_count": 10,
   "metadata": {},
   "outputs": [],
   "source": [
    "soup = bs(html_data, 'html.parser')"
   ]
  },
  {
   "cell_type": "markdown",
   "metadata": {},
   "source": [
    "- 태그명을 사용하여 검색\n",
    "    - 태그 : 해당 태그의 첫 번째 정보를 출력\n",
    "    - 태그['속성'] : 해당 태그의 첫 번째 속성에 대한 값을 출력"
   ]
  },
  {
   "cell_type": "code",
   "execution_count": 11,
   "metadata": {},
   "outputs": [
    {
     "name": "stdout",
     "output_type": "stream",
     "text": [
      "<title>NAVER</title>\n",
      "title\n",
      "NAVER\n"
     ]
    }
   ],
   "source": [
    "print(soup.title)\n",
    "print(soup.title.name)\n",
    "print(soup.title.string)"
   ]
  },
  {
   "cell_type": "code",
   "execution_count": 15,
   "metadata": {},
   "outputs": [
    {
     "name": "stdout",
     "output_type": "stream",
     "text": [
      "<img alt=\"JTBC\" class=\"news_logo\" height=\"20\" src=\"https://s.pstatic.net/static/newsstand/2020/logo/light/0604/904.png\"/>\n",
      "JTBC\n"
     ]
    }
   ],
   "source": [
    "print(soup.img)\n",
    "print(soup.img['alt'])"
   ]
  },
  {
   "attachments": {},
   "cell_type": "markdown",
   "metadata": {},
   "source": [
    "- find()\n",
    "    - HTML 안에서 해당 태그의 대한 첫 번째 정보를 출력\n",
    "    - find(속성='값'): HTML 해당 속성과 일치하는 값에 대한 첫 번째 정보를 출력\n",
    "- find_all()\n",
    "    - HTML안에 해당 태그에 대한 모든 정보를 리스트 형식으로 출력(데이터 형태가 list)\n",
    "    - limit 매개변수 : 리스트의 길이를 지정"
   ]
  },
  {
   "cell_type": "code",
   "execution_count": 16,
   "metadata": {},
   "outputs": [
    {
     "name": "stdout",
     "output_type": "stream",
     "text": [
      "<a href=\"#newsstand\"><span>뉴스스탠드 바로가기</span></a>\n"
     ]
    }
   ],
   "source": [
    "print(soup.find('a'))"
   ]
  },
  {
   "cell_type": "code",
   "execution_count": 17,
   "metadata": {},
   "outputs": [
    {
     "name": "stdout",
     "output_type": "stream",
     "text": [
      "<div class=\"sc_newscast\" id=\"newsstand\"> <h2 class=\"blind\">뉴스스탠드</h2> <div class=\"group_issue\" data-clk-prefix=\"ncy\" id=\"NM_NEWSSTAND_HEADER\"> <div class=\"issue_area\"> <a class=\"link_media\" data-clk=\"newsflash\" href=\"https://news.naver.com/main/list.naver?mode=LPOD&amp;mid=sec&amp;sid1=001&amp;sid2=140&amp;oid=001&amp;isYeonhapFlash=Y\">연합뉴스</a> <div class=\"list_issue\" data-nm-ui=\"rolling\" id=\"NM_ONELINE_ROLLING\"> <div><a class=\"issue\" data-clk=\"quickarticle\" href=\"https://news.naver.com/main/list.naver?mode=LPOD&amp;mid=sec&amp;sid1=001&amp;sid2=140&amp;oid=001&amp;isYeonhapFlash=Y&amp;aid=0013870875\">대통령실 \"필요시 美 합당조치 요청…왜곡 세력, 국민저항 직면\"</a></div>\n",
      "<div><a class=\"issue\" data-clk=\"quickarticle\" href=\"https://news.naver.com/main/list.naver?mode=LPOD&amp;mid=sec&amp;sid1=001&amp;sid2=140&amp;oid=001&amp;isYeonhapFlash=Y&amp;aid=0013871000\">만 3∼5세 교육비 부담 줄인다…소규모 병설 유치원 통합 추진</a></div>\n",
      "<div><a class=\"issue\" data-clk=\"quickarticle\" href=\"https://news.naver.com/main/list.naver?mode=LPOD&amp;mid=sec&amp;sid1=001&amp;sid2=140&amp;oid=001&amp;isYeonhapFlash=Y&amp;aid=0013870928\">中 '대만포위' 항모 띄우자 美 이지스함…태평양서 맞불 훈련</a></div>\n",
      "<div><a class=\"issue\" data-clk=\"quickarticle\" href=\"https://news.naver.com/main/list.naver?mode=LPOD&amp;mid=sec&amp;sid1=001&amp;sid2=140&amp;oid=001&amp;isYeonhapFlash=Y&amp;aid=0013870943\">수출 견인하는 자동차…반도체 제치고 무역수지 9년만에 1위</a></div>\n",
      "<div><a class=\"issue\" data-clk=\"quickarticle\" href=\"https://news.naver.com/main/list.naver?mode=LPOD&amp;mid=sec&amp;sid1=001&amp;sid2=140&amp;oid=001&amp;isYeonhapFlash=Y&amp;aid=0013870880\">'마약음료' 스쿨벨 2호 발령…\"가족 개인정보 제공 금지\"</a></div>\n",
      "<div><a class=\"issue\" data-clk=\"quickarticle\" href=\"https://news.naver.com/main/list.naver?mode=LPOD&amp;mid=sec&amp;sid1=001&amp;sid2=140&amp;oid=001&amp;isYeonhapFlash=Y&amp;aid=0013871009\">김기현 \"검사 수십명 공천? 괴담\"…이진복 \"단 한번도 논의안해\"</a></div>\n",
      "<div><a class=\"issue\" data-clk=\"quickarticle\" href=\"https://news.naver.com/main/list.naver?mode=LPOD&amp;mid=sec&amp;sid1=001&amp;sid2=140&amp;oid=001&amp;isYeonhapFlash=Y&amp;aid=0013870917\">'강남 납치·살해' 배후 의혹 재력가 남편 이어 부인 구속기로</a></div>\n",
      "<div><a class=\"issue\" data-clk=\"quickarticle\" href=\"https://news.naver.com/main/list.naver?mode=LPOD&amp;mid=sec&amp;sid1=001&amp;sid2=140&amp;oid=001&amp;isYeonhapFlash=Y&amp;aid=0013870325\">양육비 안주면 형사처벌…한부모가족에 임대주택 우선공급</a></div>\n",
      "<div><a class=\"issue\" data-clk=\"quickarticle\" href=\"https://news.naver.com/main/list.naver?mode=LPOD&amp;mid=sec&amp;sid1=001&amp;sid2=140&amp;oid=001&amp;isYeonhapFlash=Y&amp;aid=0013870025\">천공 \"대통령 관저 이전 관여 안 해\" 진술서 제출</a></div>\n",
      "<div><a class=\"issue\" data-clk=\"quickarticle\" href=\"https://news.naver.com/main/list.naver?mode=LPOD&amp;mid=sec&amp;sid1=001&amp;sid2=140&amp;oid=001&amp;isYeonhapFlash=Y&amp;aid=0013870070\">尹 보수층 지지율, 올들어 최저…\"중도층 이탈에 보수층도 빠져\"</a></div> </div> </div> <div class=\"direct_area\"> <a class=\"link_news\" data-clk=\"newshome\" href=\"http://news.naver.com/\">뉴스홈</a>\n",
      "<a class=\"link_direct\" data-clk=\"entertainment\" href=\"http://entertain.naver.com/home\">연예</a>\n",
      "<a class=\"link_direct\" data-clk=\"sports\" href=\"http://sports.news.naver.com/\">스포츠</a>\n",
      "<a class=\"link_direct\" data-clk=\"economy\" href=\"http://news.naver.com/main/main.naver?mode=LSD&amp;mid=shm&amp;sid1=101\">경제</a> </div> </div> <div class=\"group_title\" data-clk-prefix=\"nsd\" id=\"NM_NEWSSTAND_TITLE\"> <a class=\"link_newsstand\" data-clk=\"title\" href=\"http://newsstand.naver.com/\" target=\"_blank\">뉴스스탠드</a> <div class=\"sort_area\" id=\"NM_NEWSSTAND_data_buttons\" role=\"tablist\"> <a aria-controls=\"NM_NEWSSTAND_MY_LIST\" aria-selected=\"false\" class=\"btn_sort\" data-clk=\"my\" data-type=\"my\" href=\"#\" role=\"tab\">구독한 언론사</a> <a aria-controls=\"NM_NEWSSTAND_DEFAULT_THUMB\" aria-selected=\"true\" class=\"btn_sort\" data-clk=\"all\" data-type=\"all\" href=\"#\" role=\"tab\">전체언론사</a> </div> <div class=\"set_area\" id=\"NM_NEWSSTAND_view_buttons\" role=\"tablist\"> <a aria-controls=\"NM_NEWSSTAND_DEFAULT_LIST\" aria-selected=\"false\" class=\"btn_set\" data-clk=\"articleview\" data-type=\"list\" href=\"#\" role=\"tab\"> <i class=\"ico_list\"><span class=\"blind\">리스트형</span></i></a> <a aria-controls=\"NM_NEWSSTAND_DEFAULT_THUMB\" aria-selected=\"true\" class=\"btn_set\" data-clk=\"pressview\" data-type=\"thumb\" href=\"#\" role=\"tab\"> <i class=\"ico_tile\"><span class=\"blind\">썸네일형</span></i></a> <a class=\"btn_set\" data-clk=\"set\" href=\"http://newsstand.naver.com/config.html\" target=\"_blank\"> <i class=\"ico_set\"><span class=\"blind\">설정</span></i></a> </div> </div> <div id=\"NM_NEWSSTAND_VIEW_CONTAINER\" style=\"position:relative\"> <div class=\"group_news\" data-clk-prefix=\"nsd_all\" id=\"NM_NEWSSTAND_DEFAULT_LIST\" role=\"tabpanel\" style=\"display:none\"> <a class=\"pm_btn_prev_l _NM_NEWSSTAND_LIST_prev_btn\" data-clk-custom=\"prev\" href=\"#\" role=\"button\"><i class=\"ico_btn\"><span class=\"blind\">이전</span></i></a> <a class=\"pm_btn_next_l _NM_NEWSSTAND_LIST_next_btn\" data-clk-custom=\"next\" href=\"#\" role=\"button\"><i class=\"ico_btn\"><span class=\"blind\">다음</span></i></a> <div class=\"list_view\"> <div class=\"option_area\"> <div class=\"list_option_wrap\"> <ul class=\"list_option\"> <li class=\"option_item\" data-cateid=\"ct2\"><a class=\"option\" data-clk=\"daei\" href=\"#\">종합/경제</a></li> <li class=\"option_item\" data-cateid=\"ct3\"><a class=\"option\" data-clk=\"dtvcom\" href=\"#\">방송/통신</a></li> <li class=\"option_item\" data-cateid=\"ct4\"><a class=\"option\" data-clk=\"dit\" href=\"#\">IT</a></li> <li class=\"option_item\" data-cateid=\"ct5\"><a class=\"option\" data-clk=\"deng\" href=\"#\">영자지</a></li> <li class=\"option_item\" data-cateid=\"ct6\"><a class=\"option\" data-clk=\"dsporent\" href=\"#\">스포츠/연예</a></li> <li class=\"option_item\" data-cateid=\"ct7\"><a class=\"option\" data-clk=\"dmagtec\" href=\"#\">매거진/전문지</a></li> <li class=\"option_item\" data-cateid=\"ct8\"><a class=\"option\" data-clk=\"dloc\" href=\"#\">지역</a></li> </ul> </div> </div> <div class=\"_NM_NEWSSTAND_ARTICLE_CONTAINER\" data-clk-sub=\"*a\"></div> </div> <div class=\"ly_popup NM_NEWSSTAND_POPUP NM_NEWSSTAND_invalid\" data-clk-sub=\"*a\" style=\"display:none\"> <a class=\"btn_close NM_NEWSSTAND_POPUP_CLOSE\" href=\"#\" role=\"button\"><i class=\"ico_close\"></i><span class=\"blind\">닫기</span></a> <p class=\"popup_msg\">해당 언론사 사정으로 접근이 제한됩니다.</p> <div class=\"popup_btn\"> <a class=\"btn_confirm NM_NEWSSTAND_POPUP_CLOSE\" href=\"#\" role=\"button\">확인</a> </div> </div> <div class=\"ly_popup NM_NEWSSTAND_POPUP NM_NEWSSTAND_undescribe_confirm\" data-clk-sub=\"*a\" style=\"display:none\"> <a class=\"btn_close NM_NEWSSTAND_POPUP_CLOSE\" data-clk=\"usclose\" href=\"#\" role=\"button\"><i class=\"ico_close\"></i><span class=\"blind\">닫기</span></a> <p class=\"popup_msg\"><strong class=\"NM_NEWSSTAND_POPUP_PNAME\"></strong>을(를)<br/>구독해지 하시겠습니까?</p> <div class=\"popup_btn\"> <a class=\"btn_confirm NM_NEWSSTAND_POPUP_CONFIRM\" data-clk=\"usdone\" href=\"#\" role=\"button\">확인</a> <a class=\"btn_confirm NM_NEWSSTAND_POPUP_CLOSE\" data-clk=\"uscancel\" href=\"#\" role=\"button\">취소</a> </div> </div> <div class=\"ly_toast NM_NEWSSTAND_TOAST\" style=\"display:none\"> <p class=\"toast_msg\">구독한 언론사에 추가되었습니다.</p> </div> </div> <div class=\"group_news\" data-clk-prefix=\"nsd_all\" id=\"NM_NEWSSTAND_DEFAULT_THUMB\" role=\"tabpanel\" style=\"display:block\"> <a class=\"pm_btn_prev_l _NM_UI_PAGE_PREV\" data-clk-custom=\"prev\" href=\"#\" role=\"button\"><i class=\"ico_btn\"><span class=\"blind\">이전</span></i></a> <a class=\"pm_btn_next_l _NM_UI_PAGE_NEXT\" data-clk-custom=\"next\" href=\"#\" role=\"button\"><i class=\"ico_btn\"><span class=\"blind\">다음</span></i></a> <div class=\"_NM_UI_PAGE_CONTAINER\" data-clk-sub=\"*p\" style=\"height:100%;overflow:hidden\"> <div style=\"width: 750px; float: left;\">\n",
      "<div class=\"tile_view\">\n",
      "<div class=\"frame_area\">\n",
      "<i class=\"line to_right1\"></i>\n",
      "<i class=\"line to_right2\"></i>\n",
      "<i class=\"line to_right3\"></i>\n",
      "<i class=\"line to_bottom1\"></i>\n",
      "<i class=\"line to_bottom2\"></i>\n",
      "<i class=\"line to_bottom3\"></i>\n",
      "<i class=\"line to_bottom4\"></i>\n",
      "<i class=\"line to_bottom5\"></i>\n",
      "</div>\n",
      "<div class=\"thumb_area\">\n",
      "<div class=\"thumb_box _NM_NEWSSTAND_THUMB _NM_NEWSSTAND_THUMB_press_valid\" data-pid=\"904\">\n",
      "<a class=\"thumb\" href=\"#\">\n",
      "<img alt=\"JTBC\" class=\"news_logo\" height=\"20\" src=\"https://s.pstatic.net/static/newsstand/2020/logo/light/0604/904.png\"/>\n",
      "<span class=\"thumb_dim\"></span></a>\n",
      "<div class=\"popup_wrap\">\n",
      "<a class=\"btn_popup _NM_NEWSSTAND_THUMB_subscribe_press\" data-clk=\"sub\" data-pid=\"904\" href=\"#\" role=\"button\">구독</a>\n",
      "<a class=\"btn_popup _NM_NEWSSTAND_THUMB_unsubscribe_press\" data-clk=\"unsub\" data-pid=\"904\" href=\"#\" role=\"button\">해지</a>\n",
      "<a class=\"btn_popup\" data-clk=\"logo\" data-pid=\"904\" href=\"http://newsstand.naver.com/?list=&amp;pcode=904\" target=\"_blank\">기사보기</a>\n",
      "</div>\n",
      "</div>\n",
      "<div class=\"thumb_box _NM_NEWSSTAND_THUMB _NM_NEWSSTAND_THUMB_press_valid\" data-pid=\"214\">\n",
      "<a class=\"thumb\" href=\"#\">\n",
      "<img alt=\"MBC\" class=\"news_logo\" height=\"20\" src=\"https://s.pstatic.net/static/newsstand/2020/logo/light/0604/214.png\"/>\n",
      "<span class=\"thumb_dim\"></span></a>\n",
      "<div class=\"popup_wrap\">\n",
      "<a class=\"btn_popup _NM_NEWSSTAND_THUMB_subscribe_press\" data-clk=\"sub\" data-pid=\"214\" href=\"#\" role=\"button\">구독</a>\n",
      "<a class=\"btn_popup _NM_NEWSSTAND_THUMB_unsubscribe_press\" data-clk=\"unsub\" data-pid=\"214\" href=\"#\" role=\"button\">해지</a>\n",
      "<a class=\"btn_popup\" data-clk=\"logo\" data-pid=\"214\" href=\"http://newsstand.naver.com/?list=&amp;pcode=214\" target=\"_blank\">기사보기</a>\n",
      "</div>\n",
      "</div>\n",
      "<div class=\"thumb_box _NM_NEWSSTAND_THUMB _NM_NEWSSTAND_THUMB_press_valid\" data-pid=\"326\">\n",
      "<a class=\"thumb\" href=\"#\">\n",
      "<img alt=\"KBS World\" class=\"news_logo\" height=\"20\" src=\"https://s.pstatic.net/static/newsstand/2020/logo/light/0604/326.png\"/>\n",
      "<span class=\"thumb_dim\"></span></a>\n",
      "<div class=\"popup_wrap\">\n",
      "<a class=\"btn_popup _NM_NEWSSTAND_THUMB_subscribe_press\" data-clk=\"sub\" data-pid=\"326\" href=\"#\" role=\"button\">구독</a>\n",
      "<a class=\"btn_popup _NM_NEWSSTAND_THUMB_unsubscribe_press\" data-clk=\"unsub\" data-pid=\"326\" href=\"#\" role=\"button\">해지</a>\n",
      "<a class=\"btn_popup\" data-clk=\"logo\" data-pid=\"326\" href=\"http://newsstand.naver.com/?list=&amp;pcode=326\" target=\"_blank\">기사보기</a>\n",
      "</div>\n",
      "</div>\n",
      "<div class=\"thumb_box _NM_NEWSSTAND_THUMB _NM_NEWSSTAND_THUMB_press_valid\" data-pid=\"056\">\n",
      "<a class=\"thumb\" href=\"#\">\n",
      "<img alt=\"KBS\" class=\"news_logo\" height=\"20\" src=\"https://s.pstatic.net/static/newsstand/2020/logo/light/0604/056.png\"/>\n",
      "<span class=\"thumb_dim\"></span></a>\n",
      "<div class=\"popup_wrap\">\n",
      "<a class=\"btn_popup _NM_NEWSSTAND_THUMB_subscribe_press\" data-clk=\"sub\" data-pid=\"056\" href=\"#\" role=\"button\">구독</a>\n",
      "<a class=\"btn_popup _NM_NEWSSTAND_THUMB_unsubscribe_press\" data-clk=\"unsub\" data-pid=\"056\" href=\"#\" role=\"button\">해지</a>\n",
      "<a class=\"btn_popup\" data-clk=\"logo\" data-pid=\"056\" href=\"http://newsstand.naver.com/?list=&amp;pcode=056\" target=\"_blank\">기사보기</a>\n",
      "</div>\n",
      "</div>\n",
      "<div class=\"thumb_box _NM_NEWSSTAND_THUMB _NM_NEWSSTAND_THUMB_press_valid\" data-pid=\"366\">\n",
      "<a class=\"thumb\" href=\"#\">\n",
      "<img alt=\"조선비즈\" class=\"news_logo\" height=\"20\" src=\"https://s.pstatic.net/static/newsstand/2020/logo/light/0604/366.png\"/>\n",
      "<span class=\"thumb_dim\"></span></a>\n",
      "<div class=\"popup_wrap\">\n",
      "<a class=\"btn_popup _NM_NEWSSTAND_THUMB_subscribe_press\" data-clk=\"sub\" data-pid=\"366\" href=\"#\" role=\"button\">구독</a>\n",
      "<a class=\"btn_popup _NM_NEWSSTAND_THUMB_unsubscribe_press\" data-clk=\"unsub\" data-pid=\"366\" href=\"#\" role=\"button\">해지</a>\n",
      "<a class=\"btn_popup\" data-clk=\"logo\" data-pid=\"366\" href=\"http://newsstand.naver.com/?list=&amp;pcode=366\" target=\"_blank\">기사보기</a>\n",
      "</div>\n",
      "</div>\n",
      "<div class=\"thumb_box _NM_NEWSSTAND_THUMB _NM_NEWSSTAND_THUMB_press_valid\" data-pid=\"376\">\n",
      "<a class=\"thumb\" href=\"#\">\n",
      "<img alt=\"지지통신\" class=\"news_logo\" height=\"20\" src=\"https://s.pstatic.net/static/newsstand/2020/logo/light/0604/376.png\"/>\n",
      "<span class=\"thumb_dim\"></span></a>\n",
      "<div class=\"popup_wrap\">\n",
      "<a class=\"btn_popup _NM_NEWSSTAND_THUMB_subscribe_press\" data-clk=\"sub\" data-pid=\"376\" href=\"#\" role=\"button\">구독</a>\n",
      "<a class=\"btn_popup _NM_NEWSSTAND_THUMB_unsubscribe_press\" data-clk=\"unsub\" data-pid=\"376\" href=\"#\" role=\"button\">해지</a>\n",
      "<a class=\"btn_popup\" data-clk=\"logo\" data-pid=\"376\" href=\"http://newsstand.naver.com/?list=&amp;pcode=376\" target=\"_blank\">기사보기</a>\n",
      "</div>\n",
      "</div>\n",
      "<div class=\"thumb_box _NM_NEWSSTAND_THUMB _NM_NEWSSTAND_THUMB_press_valid\" data-pid=\"025\">\n",
      "<a class=\"thumb\" href=\"#\">\n",
      "<img alt=\"중앙일보\" class=\"news_logo\" height=\"20\" src=\"https://s.pstatic.net/static/newsstand/up/2021/0824/nsd115034872.png\"/>\n",
      "<span class=\"thumb_dim\"></span></a>\n",
      "<div class=\"popup_wrap\">\n",
      "<a class=\"btn_popup _NM_NEWSSTAND_THUMB_subscribe_press\" data-clk=\"sub\" data-pid=\"025\" href=\"#\" role=\"button\">구독</a>\n",
      "<a class=\"btn_popup _NM_NEWSSTAND_THUMB_unsubscribe_press\" data-clk=\"unsub\" data-pid=\"025\" href=\"#\" role=\"button\">해지</a>\n",
      "<a class=\"btn_popup\" data-clk=\"logo\" data-pid=\"025\" href=\"http://newsstand.naver.com/?list=&amp;pcode=025\" target=\"_blank\">기사보기</a>\n",
      "</div>\n",
      "</div>\n",
      "<div class=\"thumb_box _NM_NEWSSTAND_THUMB _NM_NEWSSTAND_THUMB_press_valid\" data-pid=\"073\">\n",
      "<a class=\"thumb\" href=\"#\">\n",
      "<img alt=\"스포츠서울\" class=\"news_logo\" height=\"20\" src=\"https://s.pstatic.net/static/newsstand/up/2020/0708/nsd94830278.png\"/>\n",
      "<span class=\"thumb_dim\"></span></a>\n",
      "<div class=\"popup_wrap\">\n",
      "<a class=\"btn_popup _NM_NEWSSTAND_THUMB_subscribe_press\" data-clk=\"sub\" data-pid=\"073\" href=\"#\" role=\"button\">구독</a>\n",
      "<a class=\"btn_popup _NM_NEWSSTAND_THUMB_unsubscribe_press\" data-clk=\"unsub\" data-pid=\"073\" href=\"#\" role=\"button\">해지</a>\n",
      "<a class=\"btn_popup\" data-clk=\"logo\" data-pid=\"073\" href=\"http://newsstand.naver.com/?list=&amp;pcode=073\" target=\"_blank\">기사보기</a>\n",
      "</div>\n",
      "</div>\n",
      "<div class=\"thumb_box _NM_NEWSSTAND_THUMB _NM_NEWSSTAND_THUMB_press_valid\" data-pid=\"005\">\n",
      "<a class=\"thumb\" href=\"#\">\n",
      "<img alt=\"국민일보\" class=\"news_logo\" height=\"20\" src=\"https://s.pstatic.net/static/newsstand/2020/logo/light/0604/005.png\"/>\n",
      "<span class=\"thumb_dim\"></span></a>\n",
      "<div class=\"popup_wrap\">\n",
      "<a class=\"btn_popup _NM_NEWSSTAND_THUMB_subscribe_press\" data-clk=\"sub\" data-pid=\"005\" href=\"#\" role=\"button\">구독</a>\n",
      "<a class=\"btn_popup _NM_NEWSSTAND_THUMB_unsubscribe_press\" data-clk=\"unsub\" data-pid=\"005\" href=\"#\" role=\"button\">해지</a>\n",
      "<a class=\"btn_popup\" data-clk=\"logo\" data-pid=\"005\" href=\"http://newsstand.naver.com/?list=&amp;pcode=005\" target=\"_blank\">기사보기</a>\n",
      "</div>\n",
      "</div>\n",
      "<div class=\"thumb_box _NM_NEWSSTAND_THUMB _NM_NEWSSTAND_THUMB_press_valid\" data-pid=\"023\">\n",
      "<a class=\"thumb\" href=\"#\">\n",
      "<img alt=\"조선일보\" class=\"news_logo\" height=\"20\" src=\"https://s.pstatic.net/static/newsstand/up/2020/0903/nsd185255316.png\"/>\n",
      "<span class=\"thumb_dim\"></span></a>\n",
      "<div class=\"popup_wrap\">\n",
      "<a class=\"btn_popup _NM_NEWSSTAND_THUMB_subscribe_press\" data-clk=\"sub\" data-pid=\"023\" href=\"#\" role=\"button\">구독</a>\n",
      "<a class=\"btn_popup _NM_NEWSSTAND_THUMB_unsubscribe_press\" data-clk=\"unsub\" data-pid=\"023\" href=\"#\" role=\"button\">해지</a>\n",
      "<a class=\"btn_popup\" data-clk=\"logo\" data-pid=\"023\" href=\"http://newsstand.naver.com/?list=&amp;pcode=023\" target=\"_blank\">기사보기</a>\n",
      "</div>\n",
      "</div>\n",
      "<div class=\"thumb_box _NM_NEWSSTAND_THUMB _NM_NEWSSTAND_THUMB_press_valid\" data-pid=\"079\">\n",
      "<a class=\"thumb\" href=\"#\">\n",
      "<img alt=\"노컷뉴스\" class=\"news_logo\" height=\"20\" src=\"https://s.pstatic.net/static/newsstand/2020/logo/light/0604/079.png\"/>\n",
      "<span class=\"thumb_dim\"></span></a>\n",
      "<div class=\"popup_wrap\">\n",
      "<a class=\"btn_popup _NM_NEWSSTAND_THUMB_subscribe_press\" data-clk=\"sub\" data-pid=\"079\" href=\"#\" role=\"button\">구독</a>\n",
      "<a class=\"btn_popup _NM_NEWSSTAND_THUMB_unsubscribe_press\" data-clk=\"unsub\" data-pid=\"079\" href=\"#\" role=\"button\">해지</a>\n",
      "<a class=\"btn_popup\" data-clk=\"logo\" data-pid=\"079\" href=\"http://newsstand.naver.com/?list=&amp;pcode=079\" target=\"_blank\">기사보기</a>\n",
      "</div>\n",
      "</div>\n",
      "<div class=\"thumb_box _NM_NEWSSTAND_THUMB _NM_NEWSSTAND_THUMB_press_valid\" data-pid=\"028\">\n",
      "<a class=\"thumb\" href=\"#\">\n",
      "<img alt=\"한겨레\" class=\"news_logo\" height=\"20\" src=\"https://s.pstatic.net/static/newsstand/2020/logo/light/0604/028.png\"/>\n",
      "<span class=\"thumb_dim\"></span></a>\n",
      "<div class=\"popup_wrap\">\n",
      "<a class=\"btn_popup _NM_NEWSSTAND_THUMB_subscribe_press\" data-clk=\"sub\" data-pid=\"028\" href=\"#\" role=\"button\">구독</a>\n",
      "<a class=\"btn_popup _NM_NEWSSTAND_THUMB_unsubscribe_press\" data-clk=\"unsub\" data-pid=\"028\" href=\"#\" role=\"button\">해지</a>\n",
      "<a class=\"btn_popup\" data-clk=\"logo\" data-pid=\"028\" href=\"http://newsstand.naver.com/?list=&amp;pcode=028\" target=\"_blank\">기사보기</a>\n",
      "</div>\n",
      "</div>\n",
      "<div class=\"thumb_box _NM_NEWSSTAND_THUMB _NM_NEWSSTAND_THUMB_press_valid\" data-pid=\"015\">\n",
      "<a class=\"thumb\" href=\"#\">\n",
      "<img alt=\"한국경제\" class=\"news_logo\" height=\"20\" src=\"https://s.pstatic.net/static/newsstand/2020/logo/light/0604/015.png\"/>\n",
      "<span class=\"thumb_dim\"></span></a>\n",
      "<div class=\"popup_wrap\">\n",
      "<a class=\"btn_popup _NM_NEWSSTAND_THUMB_subscribe_press\" data-clk=\"sub\" data-pid=\"015\" href=\"#\" role=\"button\">구독</a>\n",
      "<a class=\"btn_popup _NM_NEWSSTAND_THUMB_unsubscribe_press\" data-clk=\"unsub\" data-pid=\"015\" href=\"#\" role=\"button\">해지</a>\n",
      "<a class=\"btn_popup\" data-clk=\"logo\" data-pid=\"015\" href=\"http://newsstand.naver.com/?list=&amp;pcode=015\" target=\"_blank\">기사보기</a>\n",
      "</div>\n",
      "</div>\n",
      "<div class=\"thumb_box _NM_NEWSSTAND_THUMB _NM_NEWSSTAND_THUMB_press_valid\" data-pid=\"215\">\n",
      "<a class=\"thumb\" href=\"#\">\n",
      "<img alt=\"한국경제TV\" class=\"news_logo\" height=\"20\" src=\"https://s.pstatic.net/static/newsstand/2020/logo/light/0604/215.png\"/>\n",
      "<span class=\"thumb_dim\"></span></a>\n",
      "<div class=\"popup_wrap\">\n",
      "<a class=\"btn_popup _NM_NEWSSTAND_THUMB_subscribe_press\" data-clk=\"sub\" data-pid=\"215\" href=\"#\" role=\"button\">구독</a>\n",
      "<a class=\"btn_popup _NM_NEWSSTAND_THUMB_unsubscribe_press\" data-clk=\"unsub\" data-pid=\"215\" href=\"#\" role=\"button\">해지</a>\n",
      "<a class=\"btn_popup\" data-clk=\"logo\" data-pid=\"215\" href=\"http://newsstand.naver.com/?list=&amp;pcode=215\" target=\"_blank\">기사보기</a>\n",
      "</div>\n",
      "</div>\n",
      "<div class=\"thumb_box _NM_NEWSSTAND_THUMB _NM_NEWSSTAND_THUMB_press_valid\" data-pid=\"009\">\n",
      "<a class=\"thumb\" href=\"#\">\n",
      "<img alt=\"매일경제\" class=\"news_logo\" height=\"20\" src=\"https://s.pstatic.net/static/newsstand/2020/logo/light/0604/009.png\"/>\n",
      "<span class=\"thumb_dim\"></span></a>\n",
      "<div class=\"popup_wrap\">\n",
      "<a class=\"btn_popup _NM_NEWSSTAND_THUMB_subscribe_press\" data-clk=\"sub\" data-pid=\"009\" href=\"#\" role=\"button\">구독</a>\n",
      "<a class=\"btn_popup _NM_NEWSSTAND_THUMB_unsubscribe_press\" data-clk=\"unsub\" data-pid=\"009\" href=\"#\" role=\"button\">해지</a>\n",
      "<a class=\"btn_popup\" data-clk=\"logo\" data-pid=\"009\" href=\"http://newsstand.naver.com/?list=&amp;pcode=009\" target=\"_blank\">기사보기</a>\n",
      "</div>\n",
      "</div>\n",
      "<div class=\"thumb_box _NM_NEWSSTAND_THUMB _NM_NEWSSTAND_THUMB_press_valid\" data-pid=\"120\">\n",
      "<a class=\"thumb\" href=\"#\">\n",
      "<img alt=\"EBN\" class=\"news_logo\" height=\"20\" src=\"https://s.pstatic.net/static/newsstand/2020/logo/light/0604/120.png\"/>\n",
      "<span class=\"thumb_dim\"></span></a>\n",
      "<div class=\"popup_wrap\">\n",
      "<a class=\"btn_popup _NM_NEWSSTAND_THUMB_subscribe_press\" data-clk=\"sub\" data-pid=\"120\" href=\"#\" role=\"button\">구독</a>\n",
      "<a class=\"btn_popup _NM_NEWSSTAND_THUMB_unsubscribe_press\" data-clk=\"unsub\" data-pid=\"120\" href=\"#\" role=\"button\">해지</a>\n",
      "<a class=\"btn_popup\" data-clk=\"logo\" data-pid=\"120\" href=\"http://newsstand.naver.com/?list=&amp;pcode=120\" target=\"_blank\">기사보기</a>\n",
      "</div>\n",
      "</div>\n",
      "<div class=\"thumb_box _NM_NEWSSTAND_THUMB _NM_NEWSSTAND_THUMB_press_valid\" data-pid=\"820\">\n",
      "<a class=\"thumb\" href=\"#\">\n",
      "<img alt=\"월간노동법률\" class=\"news_logo\" height=\"20\" src=\"https://s.pstatic.net/static/newsstand/up/2022/0817/nsd14480190.png\"/>\n",
      "<span class=\"thumb_dim\"></span></a>\n",
      "<div class=\"popup_wrap\">\n",
      "<a class=\"btn_popup _NM_NEWSSTAND_THUMB_subscribe_press\" data-clk=\"sub\" data-pid=\"820\" href=\"#\" role=\"button\">구독</a>\n",
      "<a class=\"btn_popup _NM_NEWSSTAND_THUMB_unsubscribe_press\" data-clk=\"unsub\" data-pid=\"820\" href=\"#\" role=\"button\">해지</a>\n",
      "<a class=\"btn_popup\" data-clk=\"logo\" data-pid=\"820\" href=\"http://newsstand.naver.com/?list=&amp;pcode=820\" target=\"_blank\">기사보기</a>\n",
      "</div>\n",
      "</div>\n",
      "<div class=\"thumb_box _NM_NEWSSTAND_THUMB _NM_NEWSSTAND_THUMB_press_valid\" data-pid=\"040\">\n",
      "<a class=\"thumb\" href=\"#\">\n",
      "<img alt=\"코리아타임스\" class=\"news_logo\" height=\"20\" src=\"https://s.pstatic.net/static/newsstand/2020/logo/light/0604/040.png\"/>\n",
      "<span class=\"thumb_dim\"></span></a>\n",
      "<div class=\"popup_wrap\">\n",
      "<a class=\"btn_popup _NM_NEWSSTAND_THUMB_subscribe_press\" data-clk=\"sub\" data-pid=\"040\" href=\"#\" role=\"button\">구독</a>\n",
      "<a class=\"btn_popup _NM_NEWSSTAND_THUMB_unsubscribe_press\" data-clk=\"unsub\" data-pid=\"040\" href=\"#\" role=\"button\">해지</a>\n",
      "<a class=\"btn_popup\" data-clk=\"logo\" data-pid=\"040\" href=\"http://newsstand.naver.com/?list=&amp;pcode=040\" target=\"_blank\">기사보기</a>\n",
      "</div>\n",
      "</div>\n",
      "<div class=\"thumb_box _NM_NEWSSTAND_THUMB _NM_NEWSSTAND_THUMB_press_valid\" data-pid=\"995\">\n",
      "<a class=\"thumb\" href=\"#\">\n",
      "<img alt=\"뉴스포스트\" class=\"news_logo\" height=\"20\" src=\"https://s.pstatic.net/static/newsstand/up/2021/1112/nsd10248812.png\"/>\n",
      "<span class=\"thumb_dim\"></span></a>\n",
      "<div class=\"popup_wrap\">\n",
      "<a class=\"btn_popup _NM_NEWSSTAND_THUMB_subscribe_press\" data-clk=\"sub\" data-pid=\"995\" href=\"#\" role=\"button\">구독</a>\n",
      "<a class=\"btn_popup _NM_NEWSSTAND_THUMB_unsubscribe_press\" data-clk=\"unsub\" data-pid=\"995\" href=\"#\" role=\"button\">해지</a>\n",
      "<a class=\"btn_popup\" data-clk=\"logo\" data-pid=\"995\" href=\"http://newsstand.naver.com/?list=&amp;pcode=995\" target=\"_blank\">기사보기</a>\n",
      "</div>\n",
      "</div>\n",
      "<div class=\"thumb_box _NM_NEWSSTAND_THUMB _NM_NEWSSTAND_THUMB_press_valid\" data-pid=\"954\">\n",
      "<a class=\"thumb\" href=\"#\">\n",
      "<img alt=\"CNB뉴스\" class=\"news_logo\" height=\"20\" src=\"https://s.pstatic.net/static/newsstand/2020/logo/light/0604/954.png\"/>\n",
      "<span class=\"thumb_dim\"></span></a>\n",
      "<div class=\"popup_wrap\">\n",
      "<a class=\"btn_popup _NM_NEWSSTAND_THUMB_subscribe_press\" data-clk=\"sub\" data-pid=\"954\" href=\"#\" role=\"button\">구독</a>\n",
      "<a class=\"btn_popup _NM_NEWSSTAND_THUMB_unsubscribe_press\" data-clk=\"unsub\" data-pid=\"954\" href=\"#\" role=\"button\">해지</a>\n",
      "<a class=\"btn_popup\" data-clk=\"logo\" data-pid=\"954\" href=\"http://newsstand.naver.com/?list=&amp;pcode=954\" target=\"_blank\">기사보기</a>\n",
      "</div>\n",
      "</div>\n",
      "<div class=\"thumb_box _NM_NEWSSTAND_THUMB _NM_NEWSSTAND_THUMB_press_valid\" data-pid=\"075\">\n",
      "<a class=\"thumb\" href=\"#\">\n",
      "<img alt=\"맥스무비\" class=\"news_logo\" height=\"20\" src=\"https://s.pstatic.net/static/newsstand/2020/logo/light/0604/075.png\"/>\n",
      "<span class=\"thumb_dim\"></span></a>\n",
      "<div class=\"popup_wrap\">\n",
      "<a class=\"btn_popup _NM_NEWSSTAND_THUMB_subscribe_press\" data-clk=\"sub\" data-pid=\"075\" href=\"#\" role=\"button\">구독</a>\n",
      "<a class=\"btn_popup _NM_NEWSSTAND_THUMB_unsubscribe_press\" data-clk=\"unsub\" data-pid=\"075\" href=\"#\" role=\"button\">해지</a>\n",
      "<a class=\"btn_popup\" data-clk=\"logo\" data-pid=\"075\" href=\"http://newsstand.naver.com/?list=&amp;pcode=075\" target=\"_blank\">기사보기</a>\n",
      "</div>\n",
      "</div>\n",
      "<div class=\"thumb_box _NM_NEWSSTAND_THUMB _NM_NEWSSTAND_THUMB_press_valid\" data-pid=\"967\">\n",
      "<a class=\"thumb\" href=\"#\">\n",
      "<img alt=\"코리아쉬핑가제트\" class=\"news_logo\" height=\"20\" src=\"https://s.pstatic.net/static/newsstand/2020/logo/light/0604/967.png\"/>\n",
      "<span class=\"thumb_dim\"></span></a>\n",
      "<div class=\"popup_wrap\">\n",
      "<a class=\"btn_popup _NM_NEWSSTAND_THUMB_subscribe_press\" data-clk=\"sub\" data-pid=\"967\" href=\"#\" role=\"button\">구독</a>\n",
      "<a class=\"btn_popup _NM_NEWSSTAND_THUMB_unsubscribe_press\" data-clk=\"unsub\" data-pid=\"967\" href=\"#\" role=\"button\">해지</a>\n",
      "<a class=\"btn_popup\" data-clk=\"logo\" data-pid=\"967\" href=\"http://newsstand.naver.com/?list=&amp;pcode=967\" target=\"_blank\">기사보기</a>\n",
      "</div>\n",
      "</div>\n",
      "<div class=\"thumb_box _NM_NEWSSTAND_THUMB _NM_NEWSSTAND_THUMB_press_valid\" data-pid=\"143\">\n",
      "<a class=\"thumb\" href=\"#\">\n",
      "<img alt=\"쿠키뉴스\" class=\"news_logo\" height=\"20\" src=\"https://s.pstatic.net/static/newsstand/up/2022/0823/nsd105911492.png\"/>\n",
      "<span class=\"thumb_dim\"></span></a>\n",
      "<div class=\"popup_wrap\">\n",
      "<a class=\"btn_popup _NM_NEWSSTAND_THUMB_subscribe_press\" data-clk=\"sub\" data-pid=\"143\" href=\"#\" role=\"button\">구독</a>\n",
      "<a class=\"btn_popup _NM_NEWSSTAND_THUMB_unsubscribe_press\" data-clk=\"unsub\" data-pid=\"143\" href=\"#\" role=\"button\">해지</a>\n",
      "<a class=\"btn_popup\" data-clk=\"logo\" data-pid=\"143\" href=\"http://newsstand.naver.com/?list=&amp;pcode=143\" target=\"_blank\">기사보기</a>\n",
      "</div>\n",
      "</div>\n",
      "<div class=\"thumb_box _NM_NEWSSTAND_THUMB _NM_NEWSSTAND_THUMB_press_valid\" data-pid=\"447\">\n",
      "<a class=\"thumb\" href=\"#\">\n",
      "<img alt=\"뉴스엔\" class=\"news_logo\" height=\"20\" src=\"https://s.pstatic.net/static/newsstand/2020/logo/light/0604/447.png\"/>\n",
      "<span class=\"thumb_dim\"></span></a>\n",
      "<div class=\"popup_wrap\">\n",
      "<a class=\"btn_popup _NM_NEWSSTAND_THUMB_subscribe_press\" data-clk=\"sub\" data-pid=\"447\" href=\"#\" role=\"button\">구독</a>\n",
      "<a class=\"btn_popup _NM_NEWSSTAND_THUMB_unsubscribe_press\" data-clk=\"unsub\" data-pid=\"447\" href=\"#\" role=\"button\">해지</a>\n",
      "<a class=\"btn_popup\" data-clk=\"logo\" data-pid=\"447\" href=\"http://newsstand.naver.com/?list=&amp;pcode=447\" target=\"_blank\">기사보기</a>\n",
      "</div>\n",
      "</div>\n",
      "</div>\n",
      "</div>\n",
      "</div>\n",
      "</div> <div class=\"ly_popup NM_NEWSSTAND_POPUP NM_NEWSSTAND_invalid\" style=\"display:none\"> <a class=\"btn_close NM_NEWSSTAND_POPUP_CLOSE\" href=\"#\" role=\"button\"><i class=\"ico_close\"></i><span class=\"blind\">닫기</span></a> <p class=\"popup_msg\">해당 언론사 사정으로 접근이 제한됩니다.</p> <div class=\"popup_btn\"> <a class=\"btn_confirm NM_NEWSSTAND_POPUP_CLOSE\" href=\"#\" role=\"button\">확인</a> </div> </div> <div class=\"ly_popup NM_NEWSSTAND_POPUP NM_NEWSSTAND_undescribe_confirm\" data-clk-sub=\"*a\" style=\"display:none\"> <a class=\"btn_close NM_NEWSSTAND_POPUP_CLOSE\" data-clk=\"usclose\" href=\"#\" role=\"button\"><i class=\"ico_close\"></i><span class=\"blind\">닫기</span></a> <p class=\"popup_msg\"><strong class=\"NM_NEWSSTAND_POPUP_PNAME\"></strong>을(를)<br>구독해지 하시겠습니까?</br></p> <div class=\"popup_btn\"> <a class=\"btn_confirm NM_NEWSSTAND_POPUP_CONFIRM\" data-clk=\"usdone\" href=\"#\" role=\"button\">확인</a> <a class=\"btn_confirm NM_NEWSSTAND_POPUP_CLOSE\" data-clk=\"uscancel\" href=\"#\" role=\"button\">취소</a> </div> </div> <div class=\"ly_toast NM_NEWSSTAND_TOAST\" style=\"display:none\"> <p class=\"toast_msg\">구독한 언론사에 추가되었습니다.</p> </div> </div> <div class=\"group_news\" data-clk-prefix=\"nsd_myn\" id=\"NM_NEWSSTAND_MY_LIST\" role=\"tabpanel\" style=\"display:none\"> <a class=\"pm_btn_prev_l _NM_NEWSSTAND_LIST_prev_btn\" data-clk-custom=\"prev\" href=\"#\" role=\"button\"><i class=\"ico_btn\"></i><span class=\"blind\">이전</span></a> <a class=\"pm_btn_next_l _NM_NEWSSTAND_LIST_next_btn\" data-clk-custom=\"next\" href=\"#\" role=\"button\"><i class=\"ico_btn\"></i><span class=\"blind\">다음</span><span class=\"blind\">다음</span></a> <div class=\"list_view\"> <div class=\"option_area\"> <div class=\"list_option_wrap\"> <ul class=\"list_option _NM_NEWSSTAND_MY_presslist\"> <!-- nvpaperlist:empty --> </ul> </div> </div> <div class=\"_NM_NEWSSTAND_ARTICLE_CONTAINER\" data-clk-sub=\"*a\"> </div> </div> <div class=\"ly_popup NM_NEWSSTAND_POPUP NM_NEWSSTAND_invalid\" style=\"display:none\"> <a class=\"btn_close NM_NEWSSTAND_POPUP_CLOSE\" href=\"#\" role=\"button\"><i class=\"ico_close\"></i><span class=\"blind\">닫기</span></a> <p class=\"popup_msg\">해당 언론사 사정으로 접근이 일시 제한됩니다.</p> <div class=\"popup_btn\"> <a class=\"btn_confirm NM_NEWSSTAND_POPUP_CLOSE\" href=\"#\" role=\"button\">확인</a> </div> </div> <div class=\"ly_popup NM_NEWSSTAND_POPUP NM_NEWSSTAND_undescribe_confirm\" data-clk-sub=\"*a\" style=\"display:none\"> <a class=\"btn_close NM_NEWSSTAND_POPUP_CLOSE\" data-clk=\"usclose\" href=\"#\" role=\"button\"><i class=\"ico_close\"></i><span class=\"blind\">닫기</span></a> <p class=\"popup_msg\"><strong class=\"NM_NEWSSTAND_POPUP_PNAME\"></strong>을(를)<br/>구독해지 하시겠습니까?</p> <div class=\"popup_btn\"> <a class=\"btn_confirm NM_NEWSSTAND_POPUP_CONFIRM\" data-clk=\"usdone\" href=\"#\" role=\"button\">확인</a> <a class=\"btn_confirm NM_NEWSSTAND_POPUP_CLOSE\" data-clk=\"uscancel\" href=\"#\" role=\"button\">취소</a> </div> </div> </div> <div class=\"group_news\" data-clk-prefix=\"nsd_myn\" id=\"NM_NEWSSTAND_MY_THUMB\" role=\"tabpanel\" style=\"display:none\"> <a class=\"pm_btn_prev_l _NM_UI_PAGE_PREV\" data-clk-custom=\"prev\" href=\"#\" role=\"button\"><i class=\"ico_btn\"><span class=\"blind\">이전</span></i></a> <a class=\"pm_btn_next_l _NM_UI_PAGE_NEXT\" data-clk-custom=\"next\" href=\"#\" role=\"button\"><i class=\"ico_btn\"><span class=\"blind\">다음</span></i></a> <div class=\"_NM_UI_PAGE_CONTAINER\" data-clk-sub=\"*p\"></div> <div class=\"ly_popup NM_NEWSSTAND_POPUP NM_NEWSSTAND_invalid\" style=\"display:none\"> <a class=\"btn_close NM_NEWSSTAND_POPUP_CLOSE\" href=\"#\" role=\"button\"><i class=\"ico_close\"></i><span class=\"blind\">닫기</span></a> <p class=\"popup_msg\">해당 언론사 사정으로 접근이 제한됩니다.</p> <div class=\"popup_btn\"> <a class=\"btn_confirm NM_NEWSSTAND_POPUP_CLOSE\" href=\"#\" role=\"button\">확인</a> </div> </div> <div class=\"ly_popup NM_NEWSSTAND_POPUP NM_NEWSSTAND_undescribe_confirm\" data-clk-sub=\"*a\" style=\"display:none\"> <a class=\"btn_close NM_NEWSSTAND_POPUP_CLOSE\" data-clk=\"usclose\" href=\"#\" role=\"button\"><i class=\"ico_close\"></i><span class=\"blind\">닫기</span></a> <p class=\"popup_msg\"><strong class=\"NM_NEWSSTAND_POPUP_PNAME\"></strong>을(를)<br/>구독해지 하시겠습니까?</p> <div class=\"popup_btn\"> <a class=\"btn_confirm NM_NEWSSTAND_POPUP_CONFIRM\" data-clk=\"usdone\" href=\"#\" role=\"button\">확인</a> <a class=\"btn_confirm NM_NEWSSTAND_POPUP_CLOSE\" data-clk=\"uscancel\" href=\"#\" role=\"button\">취소</a> </div> </div> </div> <div class=\"group_news\" id=\"NM_NEWSSTAND_MY_EMPTY\" role=\"tabpanel\" style=\"display:none\"> <div class=\"error_view\"> <div class=\"error_area\"> <strong class=\"error_msg\">구독한 언론사가 없습니다.</strong> <p class=\"dsc_msg\">언론사 구독 설정에서 관심있는 언론사를 구독하시면<br/>언론사가 직접 편집한 뉴스들을 네이버 홈에서 바로 보실 수 있습니다.</p> <a class=\"link_redirect\" href=\"http://newsstand.naver.com/config.html\" target=\"_blank\">언론사 구독 설정하기</a> </div> </div> </div> </div> </div>\n"
     ]
    }
   ],
   "source": [
    "print(soup.find(id = 'newsstand'))"
   ]
  },
  {
   "cell_type": "code",
   "execution_count": 18,
   "metadata": {},
   "outputs": [
    {
     "name": "stdout",
     "output_type": "stream",
     "text": [
      "<span>타임스퀘어 바로가기</span>\n"
     ]
    }
   ],
   "source": [
    "# print(soup.find_all('span'))\n",
    "# print(soup.find_all('span', limit = 10))\n",
    "print(soup.find_all('span')[2])"
   ]
  },
  {
   "cell_type": "code",
   "execution_count": 24,
   "metadata": {},
   "outputs": [],
   "source": [
    "sample = soup.find('div', attrs={\n",
    "    'class' : 'media_view'\n",
    "})"
   ]
  },
  {
   "cell_type": "code",
   "execution_count": 25,
   "metadata": {},
   "outputs": [
    {
     "name": "stdout",
     "output_type": "stream",
     "text": [
      "<div class=\"media_view\">\n",
      "<a class=\"media_area\" data-clk=\"tcc_aut.video1cont1\" data-gdid=\"CAS_f6c3701e-d432-11ed-9574-c3bcd6833d2a\" href=\"https://m.tv.naver.com/v/34663159\" target=\"_blank\">\n",
      "<div class=\"media_thumb\">\n",
      "<img alt=\"\" data-src=\"https://s.pstatic.net/dthumb.phinf/?src=%22https%3A%2F%2Fs.pstatic.net%2Fstatic%2Fwww%2Fmobile%2Fedit%2F20230406_1095%2Fupload_1680755130218CqFxg.jpg%22&amp;type=nf464_260\" height=\"130\" onerror=\"this.outerHTML='&lt;span class=\\'pm_noimg\\'&gt;&lt;span class=\\'noimg_text\\'&gt;이미지 준비중&lt;/span&gt;&lt;/span&gt;'\" src=\"https://s.pstatic.net/dthumb.phinf/?src=%22https%3A%2F%2Fs.pstatic.net%2Fstatic%2Fwww%2Fmobile%2Fedit%2F20230406_1095%2Fupload_1680755130218CqFxg.jpg%22&amp;type=nf464_260\" width=\"232\"/>\n",
      "<span class=\"thumb_dim\"></span>\n",
      "<span class=\"thumb_bd\"></span>\n",
      "<i class=\"pm_ico_play\"><span class=\"blind\">재생</span></i>\n",
      "<span class=\"theme_runtime\"><span class=\"runtime_bg\">재생시간</span><em class=\"time\">08:17</em></span>\n",
      "</div>\n",
      "<div class=\"media_info\">\n",
      "<div class=\"info_box\">\n",
      "<strong class=\"title\">3천만원대 전기차 SUV, 토레스 EVX 실차 공개</strong>\n",
      "<div class=\"source_wrap\">\n",
      "<span class=\"date\">4일 전</span>\n",
      "<span class=\"source\">\n",
      "<span class=\"source_thumb\"><img alt=\"\" data-src=\"https://s.pstatic.net/dthumb.phinf/?src=%22https%3A%2F%2Fphinf.pstatic.net%2Ftvcast%2F20230405_78%2FAtCp2_1680696138543E8QPU_JPEG%2F1680696133505.jpg%22&amp;type=navermain_nf40_40\" height=\"20\" onerror=\"this.outerHTML='&lt;i class=\\'pm_source_noimg\\'&gt;&lt;span class=\\'blind\\'&gt;이미지준비중&lt;/span&gt;&lt;/i&gt;'\" src=\"https://s.pstatic.net/dthumb.phinf/?src=%22https%3A%2F%2Fphinf.pstatic.net%2Ftvcast%2F20230405_78%2FAtCp2_1680696138543E8QPU_JPEG%2F1680696133505.jpg%22&amp;type=navermain_nf40_40\" width=\"20\"/></span>\n",
      "<span class=\"source_inner\">레드알피엠 TV</span>\n",
      "</span>\n",
      "</div>\n",
      "</div>\n",
      "</div>\n",
      "</a>\n",
      "<a class=\"media_area\" data-clk=\"tcc_aut.video1cont2\" data-gdid=\"CAS_50344f8b-d277-11ed-9574-11d86cf37283\" href=\"https://m.tv.naver.com/v/34583886\" target=\"_blank\">\n",
      "<div class=\"media_thumb\">\n",
      "<img alt=\"\" data-src=\"https://s.pstatic.net/dthumb.phinf/?src=%22https%3A%2F%2Fs.pstatic.net%2Fstatic%2Fwww%2Fmobile%2Fedit%2F20230404_1095%2Fupload_1680564726164HEojZ.jpg%22&amp;type=nf464_260\" height=\"130\" onerror=\"this.outerHTML='&lt;span class=\\'pm_noimg\\'&gt;&lt;span class=\\'noimg_text\\'&gt;이미지 준비중&lt;/span&gt;&lt;/span&gt;'\" src=\"https://s.pstatic.net/dthumb.phinf/?src=%22https%3A%2F%2Fs.pstatic.net%2Fstatic%2Fwww%2Fmobile%2Fedit%2F20230404_1095%2Fupload_1680564726164HEojZ.jpg%22&amp;type=nf464_260\" width=\"232\"/>\n",
      "<span class=\"thumb_dim\"></span>\n",
      "<span class=\"thumb_bd\"></span>\n",
      "<i class=\"pm_ico_play\"><span class=\"blind\">재생</span></i>\n",
      "<span class=\"theme_runtime\"><span class=\"runtime_bg\">재생시간</span><em class=\"time\">00:53</em></span>\n",
      "</div>\n",
      "<div class=\"media_info\">\n",
      "<div class=\"info_box\">\n",
      "<strong class=\"title\">와, 이게 불법이 아니라고?!</strong>\n",
      "<div class=\"source_wrap\">\n",
      "<span class=\"date\">6일 전</span>\n",
      "<span class=\"source\">\n",
      "<span class=\"source_thumb\"><img alt=\"\" data-src=\"https://s.pstatic.net/dthumb.phinf/?src=%22https%3A%2F%2Fphinf.pstatic.net%2Ftvcast%2F20230403_288%2FWQZ7X_16805113010039aW3s_JPEG%2F1680511268337.jpg%22&amp;type=navermain_nf40_40\" height=\"20\" onerror=\"this.outerHTML='&lt;i class=\\'pm_source_noimg\\'&gt;&lt;span class=\\'blind\\'&gt;이미지준비중&lt;/span&gt;&lt;/i&gt;'\" src=\"https://s.pstatic.net/dthumb.phinf/?src=%22https%3A%2F%2Fphinf.pstatic.net%2Ftvcast%2F20230403_288%2FWQZ7X_16805113010039aW3s_JPEG%2F1680511268337.jpg%22&amp;type=navermain_nf40_40\" width=\"20\"/></span>\n",
      "<span class=\"source_inner\">다키포스트TV</span>\n",
      "</span>\n",
      "</div>\n",
      "</div>\n",
      "</div>\n",
      "</a>\n",
      "<a class=\"media_area\" data-clk=\"tcc_aut.video1cont3\" data-gdid=\"CAS_f6c3701f-d432-11ed-9574-97d00f1d1a0a\" href=\"https://m.tv.naver.com/v/34657270\" target=\"_blank\">\n",
      "<div class=\"media_thumb\">\n",
      "<img alt=\"\" data-src=\"https://s.pstatic.net/dthumb.phinf/?src=%22https%3A%2F%2Fs.pstatic.net%2Fstatic%2Fwww%2Fmobile%2Fedit%2F20230406_1095%2Fupload_1680755133367uY2Vn.jpg%22&amp;type=nf464_260\" height=\"130\" onerror=\"this.outerHTML='&lt;span class=\\'pm_noimg\\'&gt;&lt;span class=\\'noimg_text\\'&gt;이미지 준비중&lt;/span&gt;&lt;/span&gt;'\" src=\"https://s.pstatic.net/dthumb.phinf/?src=%22https%3A%2F%2Fs.pstatic.net%2Fstatic%2Fwww%2Fmobile%2Fedit%2F20230406_1095%2Fupload_1680755133367uY2Vn.jpg%22&amp;type=nf464_260\" width=\"232\"/>\n",
      "<span class=\"thumb_dim\"></span>\n",
      "<span class=\"thumb_bd\"></span>\n",
      "<i class=\"pm_ico_play\"><span class=\"blind\">재생</span></i>\n",
      "<span class=\"theme_runtime\"><span class=\"runtime_bg\">재생시간</span><em class=\"time\">17:18</em></span>\n",
      "</div>\n",
      "<div class=\"media_info\">\n",
      "<div class=\"info_box\">\n",
      "<strong class=\"title\">르노 더 뉴 QM6 퀘스트 2.0 LPe LE 시승기(2024 Renault Koleos Test Drive) - 2023.04.04</strong>\n",
      "<div class=\"source_wrap\">\n",
      "<span class=\"date\">4일 전</span>\n",
      "<span class=\"source\">\n",
      "<span class=\"source_thumb\"><img alt=\"\" data-src=\"https://s.pstatic.net/dthumb.phinf/?src=%22https%3A%2F%2Fphinf.pstatic.net%2Ftvcast%2F20230405_215%2FAyxaA_1680687396925Qk5XX_JPEG%2F1680687069592.jpg%22&amp;type=navermain_nf40_40\" height=\"20\" onerror=\"this.outerHTML='&lt;i class=\\'pm_source_noimg\\'&gt;&lt;span class=\\'blind\\'&gt;이미지준비중&lt;/span&gt;&lt;/i&gt;'\" src=\"https://s.pstatic.net/dthumb.phinf/?src=%22https%3A%2F%2Fphinf.pstatic.net%2Ftvcast%2F20230405_215%2FAyxaA_1680687396925Qk5XX_JPEG%2F1680687069592.jpg%22&amp;type=navermain_nf40_40\" width=\"20\"/></span>\n",
      "<span class=\"source_inner\">한상기 Han Sang Ki</span>\n",
      "</span>\n",
      "</div>\n",
      "</div>\n",
      "</div>\n",
      "</a>\n",
      "</div>\n"
     ]
    }
   ],
   "source": [
    "print(sample)"
   ]
  },
  {
   "cell_type": "code",
   "execution_count": 26,
   "metadata": {},
   "outputs": [
    {
     "name": "stdout",
     "output_type": "stream",
     "text": [
      "[<strong class=\"title\">3천만원대 전기차 SUV, 토레스 EVX 실차 공개</strong>, <strong class=\"title\">와, 이게 불법이 아니라고?!</strong>, <strong class=\"title\">르노 더 뉴 QM6 퀘스트 2.0 LPe LE 시승기(2024 Renault Koleos Test Drive) - 2023.04.04</strong>]\n"
     ]
    }
   ],
   "source": [
    "sample_list = sample.find_all('strong')\n",
    "print(sample_list)"
   ]
  },
  {
   "cell_type": "code",
   "execution_count": 28,
   "metadata": {},
   "outputs": [
    {
     "data": {
      "text/plain": [
       "<bound method PageElement.get_text of <strong class=\"title\">3천만원대 전기차 SUV, 토레스 EVX 실차 공개</strong>>"
      ]
     },
     "execution_count": 28,
     "metadata": {},
     "output_type": "execute_result"
    }
   ],
   "source": [
    "sample_list[0].get_text"
   ]
  },
  {
   "cell_type": "code",
   "execution_count": 29,
   "metadata": {},
   "outputs": [
    {
     "name": "stdout",
     "output_type": "stream",
     "text": [
      "['3천만원대 전기차 SUV, 토레스 EVX 실차 공개', '와, 이게 불법이 아니라고?!', '르노 더 뉴 QM6 퀘스트 2.0 LPe LE 시승기(2024 Renault Koleos Test Drive) - 2023.04.04']\n"
     ]
    }
   ],
   "source": [
    "result = []\n",
    "\n",
    "for i in sample_list:\n",
    "    result.append(i.get_text())\n",
    "\n",
    "print(result)"
   ]
  },
  {
   "cell_type": "code",
   "execution_count": 30,
   "metadata": {},
   "outputs": [],
   "source": [
    "url = 'https://finance.naver.com/'\n",
    "\n",
    "html_data = requests.get(url).text"
   ]
  },
  {
   "cell_type": "code",
   "execution_count": 31,
   "metadata": {},
   "outputs": [],
   "source": [
    "soup = bs(html_data, 'html.parser')"
   ]
  },
  {
   "cell_type": "code",
   "execution_count": 42,
   "metadata": {},
   "outputs": [],
   "source": [
    "data = soup.find('table', attrs={\n",
    "    'class' : 'tbl_home'\n",
    "})"
   ]
  },
  {
   "cell_type": "code",
   "execution_count": 44,
   "metadata": {},
   "outputs": [],
   "source": [
    "data2 = data.find('tbody')"
   ]
  },
  {
   "cell_type": "code",
   "execution_count": 46,
   "metadata": {},
   "outputs": [],
   "source": [
    "_list = data2.find_all('th')"
   ]
  },
  {
   "cell_type": "code",
   "execution_count": 47,
   "metadata": {},
   "outputs": [
    {
     "name": "stdout",
     "output_type": "stream",
     "text": [
      "['DB', '이트론', 'KODEX 200선물인버스2X', '크리스탈신소재', 'KODEX 코스닥150선물인버스', '엘컴텍', '이아이디', '동국산업', '유니온머티리얼', '엔에스엔', '포스코 ICT', '이스트아시아홀딩스', '디젠스', '제이스코홀딩스', '넥스턴바이오']\n"
     ]
    }
   ],
   "source": [
    "result = []\n",
    "\n",
    "for i in _list:\n",
    "    result.append(i.get_text())\n",
    "\n",
    "print(result)"
   ]
  },
  {
   "cell_type": "code",
   "execution_count": 50,
   "metadata": {},
   "outputs": [],
   "source": [
    "data3 = data2.find_all('tr', attrs={\n",
    "    'class' : 'up'\n",
    "})"
   ]
  },
  {
   "cell_type": "code",
   "execution_count": 52,
   "metadata": {},
   "outputs": [
    {
     "data": {
      "text/plain": [
       "[['DB', '2,840', '상승 280', '  +10.94%  '],\n",
       " ['이트론', '264', '상승 16', '  +6.45%  '],\n",
       " ['크리스탈신소재', '1,615', '상승 329', '  +25.58%  '],\n",
       " ['엘컴텍', '2,155', '상승 159', '  +7.97%  '],\n",
       " ['이아이디', '2,185', '상승 463', '  +26.89%  '],\n",
       " ['동국산업', '7,830', '상승 1,310', '  +20.09%  '],\n",
       " ['유니온머티리얼', '3,640', '상승 330', '  +9.97%  '],\n",
       " ['엔에스엔', '904', '상승 193', '  +27.14%  '],\n",
       " ['포스코 ICT', '10,770', '상승 430', '  +4.16%  '],\n",
       " ['이스트아시아홀딩스', '169', '상승 3', '  +1.81%  '],\n",
       " ['디젠스', '1,280', '상승 117', '  +10.06%  '],\n",
       " ['제이스코홀딩스', '4,700', '상승 600', '  +14.63%  '],\n",
       " ['넥스턴바이오', '2,180', '상승 207', '  +10.49%  ']]"
      ]
     },
     "execution_count": 52,
     "metadata": {},
     "output_type": "execute_result"
    }
   ],
   "source": [
    "# td 리스트\n",
    "_list3 = []\n",
    "\n",
    "for i in data3:\n",
    "    _sample_list = []\n",
    "    _sample_list.append(i.find('th').get_text())\n",
    "    _list4 = i.find_all('td')\n",
    "    for j in _list4:\n",
    "        _sample_list.append(j.get_text())\n",
    "    _list3.append(_sample_list)\n",
    "\n",
    "_list3"
   ]
  },
  {
   "cell_type": "code",
   "execution_count": null,
   "metadata": {},
   "outputs": [],
   "source": []
  }
 ],
 "metadata": {
  "kernelspec": {
   "display_name": "Python 3",
   "language": "python",
   "name": "python3"
  },
  "language_info": {
   "codemirror_mode": {
    "name": "ipython",
    "version": 3
   },
   "file_extension": ".py",
   "mimetype": "text/x-python",
   "name": "python",
   "nbconvert_exporter": "python",
   "pygments_lexer": "ipython3",
   "version": "3.11.2"
  },
  "orig_nbformat": 4
 },
 "nbformat": 4,
 "nbformat_minor": 2
}
