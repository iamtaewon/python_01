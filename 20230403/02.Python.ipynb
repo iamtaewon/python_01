{
 "cells": [
  {
   "attachments": {},
   "cell_type": "markdown",
   "metadata": {},
   "source": [
    "# 함수"
   ]
  },
  {
   "cell_type": "code",
   "execution_count": 1,
   "metadata": {},
   "outputs": [
    {
     "name": "stdout",
     "output_type": "stream",
     "text": [
      "Hello\n"
     ]
    }
   ],
   "source": [
    "a = \"Hello\"\n",
    "print(a)"
   ]
  },
  {
   "cell_type": "code",
   "execution_count": 2,
   "metadata": {},
   "outputs": [
    {
     "name": "stdout",
     "output_type": "stream",
     "text": [
      "5\n"
     ]
    }
   ],
   "source": [
    "# 문자의 길이를 출력해주는 함수\n",
    "print(len(a))"
   ]
  },
  {
   "cell_type": "code",
   "execution_count": 3,
   "metadata": {},
   "outputs": [
    {
     "name": "stdout",
     "output_type": "stream",
     "text": [
      "HELLO\n",
      "hello\n"
     ]
    }
   ],
   "source": [
    "# 문자를 대문자나 소문자로 변경하는 함수\n",
    "\n",
    "# 문자를 모두 대문자로 변경\n",
    "print(a.upper())\n",
    "# 문자를 모두 소문자로 변경\n",
    "print(a.lower())"
   ]
  },
  {
   "cell_type": "code",
   "execution_count": 4,
   "metadata": {},
   "outputs": [
    {
     "name": "stdout",
     "output_type": "stream",
     "text": [
      "Hello World\n"
     ]
    }
   ],
   "source": [
    "b = \"hello world\"\n",
    "# 단어의 첫글자만 대문자로 변경하는 함수\n",
    "print(b.title())"
   ]
  },
  {
   "cell_type": "code",
   "execution_count": 6,
   "metadata": {},
   "outputs": [
    {
     "data": {
      "text/plain": [
       "'   Hello World   '"
      ]
     },
     "execution_count": 6,
     "metadata": {},
     "output_type": "execute_result"
    }
   ],
   "source": [
    "# 좌우의 공백을 제거하는 함수\n",
    "# strip()\n",
    "a = \"   Hello World   \"\n",
    "a"
   ]
  },
  {
   "cell_type": "code",
   "execution_count": 13,
   "metadata": {},
   "outputs": [
    {
     "data": {
      "text/plain": [
       "'Hello World'"
      ]
     },
     "execution_count": 13,
     "metadata": {},
     "output_type": "execute_result"
    }
   ],
   "source": [
    "# 좌우 모두 공백을 제거\n",
    "a.strip()"
   ]
  },
  {
   "cell_type": "code",
   "execution_count": 12,
   "metadata": {},
   "outputs": [
    {
     "data": {
      "text/plain": [
       "'Hello World   '"
      ]
     },
     "execution_count": 12,
     "metadata": {},
     "output_type": "execute_result"
    }
   ],
   "source": [
    "# 좌측 공백만 제거\n",
    "a.lstrip()"
   ]
  },
  {
   "cell_type": "code",
   "execution_count": 14,
   "metadata": {},
   "outputs": [
    {
     "data": {
      "text/plain": [
       "'   Hello World'"
      ]
     },
     "execution_count": 14,
     "metadata": {},
     "output_type": "execute_result"
    }
   ],
   "source": [
    "# 우측 공백만 제거\n",
    "a.rstrip()"
   ]
  },
  {
   "cell_type": "code",
   "execution_count": 45,
   "metadata": {},
   "outputs": [],
   "source": [
    "b = \"$2.$11$\""
   ]
  },
  {
   "cell_type": "code",
   "execution_count": 38,
   "metadata": {},
   "outputs": [
    {
     "data": {
      "text/plain": [
       "'2.$11$'"
      ]
     },
     "execution_count": 38,
     "metadata": {},
     "output_type": "execute_result"
    }
   ],
   "source": [
    "# b라는 변수 좌측에 있는 '$' 표시를 제거\n",
    "b.lstrip('$')"
   ]
  },
  {
   "cell_type": "code",
   "execution_count": 39,
   "metadata": {},
   "outputs": [
    {
     "data": {
      "text/plain": [
       "'$2.$11'"
      ]
     },
     "execution_count": 39,
     "metadata": {},
     "output_type": "execute_result"
    }
   ],
   "source": [
    "# b라는 변수 우측에 있는 '$' 표시를 제거\n",
    "b.rstrip('$')"
   ]
  },
  {
   "cell_type": "code",
   "execution_count": 43,
   "metadata": {},
   "outputs": [
    {
     "data": {
      "text/plain": [
       "'2.$11'"
      ]
     },
     "execution_count": 43,
     "metadata": {},
     "output_type": "execute_result"
    }
   ],
   "source": [
    "# b라는 변수에 있는 '$' 표시를 모두 제거\n",
    "b.strip('$')"
   ]
  },
  {
   "cell_type": "code",
   "execution_count": 41,
   "metadata": {},
   "outputs": [
    {
     "data": {
      "text/plain": [
       "'-2.-11-'"
      ]
     },
     "execution_count": 41,
     "metadata": {},
     "output_type": "execute_result"
    }
   ],
   "source": [
    "# 특정한 단어를 대체하는 함수\n",
    "# replace(기준 단어, 대체할 단어)\n",
    "\n",
    "# b 변수의 '$' 표기를 '-'로 변경\n",
    "b.replace('$','-')"
   ]
  },
  {
   "cell_type": "code",
   "execution_count": 49,
   "metadata": {},
   "outputs": [
    {
     "data": {
      "text/plain": [
       "'2.11'"
      ]
     },
     "execution_count": 49,
     "metadata": {},
     "output_type": "execute_result"
    }
   ],
   "source": [
    "# b 변수의 '$' 표기를 삭제하려면?\n",
    "b.replace('$', '')"
   ]
  },
  {
   "cell_type": "code",
   "execution_count": 50,
   "metadata": {},
   "outputs": [
    {
     "data": {
      "text/plain": [
       "'HelloWorld'"
      ]
     },
     "execution_count": 50,
     "metadata": {},
     "output_type": "execute_result"
    }
   ],
   "source": [
    "# a 변수의 공백을 모두 삭제하려면?\n",
    "a.replace(\" \", \"\")"
   ]
  },
  {
   "cell_type": "code",
   "execution_count": 54,
   "metadata": {},
   "outputs": [
    {
     "name": "stdout",
     "output_type": "stream",
     "text": [
      "['1', '2', '3', '4', '5']\n"
     ]
    }
   ],
   "source": [
    "# 문자열을 특정한 값을 기준으로 나눠주는 함수\n",
    "# split(특정한 값) -> 인자 값을 아무것도 넣지 않으면 \" \"을 기준으로 나눠준다.\n",
    "\n",
    "a = \"1,2,3,4,5\"\n",
    "b = \"1 2 3 4 5\"\n",
    "\n",
    "print(a.split(','))\n",
    "# 기존의 , 는 사라지고 개별적인 값으로 나눠짐"
   ]
  },
  {
   "cell_type": "code",
   "execution_count": 55,
   "metadata": {},
   "outputs": [
    {
     "name": "stdout",
     "output_type": "stream",
     "text": [
      "['1', '2', '3', '4', '5']\n"
     ]
    }
   ],
   "source": [
    "print(b.split())"
   ]
  },
  {
   "cell_type": "code",
   "execution_count": 57,
   "metadata": {},
   "outputs": [
    {
     "name": "stdout",
     "output_type": "stream",
     "text": [
      "3\n"
     ]
    }
   ],
   "source": [
    "print(a.split(\",\")[2])"
   ]
  },
  {
   "cell_type": "code",
   "execution_count": 60,
   "metadata": {},
   "outputs": [
    {
     "name": "stdout",
     "output_type": "stream",
     "text": [
      "6\n",
      "1\n"
     ]
    }
   ],
   "source": [
    "# max() -> 인자값들 중에 가장 큰 숫자를 출력\n",
    "# min() -> 인자값들 중에 가장 작은 숫자를 출력\n",
    "\n",
    "print(max(1,6,3,4))\n",
    "print(min(1,6,3,4))"
   ]
  },
  {
   "cell_type": "code",
   "execution_count": 63,
   "metadata": {},
   "outputs": [
    {
     "name": "stdout",
     "output_type": "stream",
     "text": [
      "Hello\n"
     ]
    }
   ],
   "source": [
    "# 일반함수\n",
    "\n",
    "# 매개변수가 존재하지 않는 경우\n",
    "# 함수 선언, 생성\n",
    "def func_1():\n",
    "    return \"Hello\"\n",
    "\n",
    "# 함수를 호출\n",
    "print(func_1())"
   ]
  },
  {
   "cell_type": "code",
   "execution_count": 64,
   "metadata": {},
   "outputs": [
    {
     "name": "stdout",
     "output_type": "stream",
     "text": [
      "9\n",
      "3\n",
      "Helloworld\n"
     ]
    }
   ],
   "source": [
    "# 매개변수가 존재하는 경우\n",
    "def func_2(a,b):\n",
    "    c = a + b\n",
    "    return c\n",
    "\n",
    "print(func_2(3,6)) # 9 출력\n",
    "print(func_2(1,2)) # 3 출력\n",
    "print(func_2('Hello', 'world')) # 'Helloworld' 출력"
   ]
  },
  {
   "cell_type": "code",
   "execution_count": 66,
   "metadata": {},
   "outputs": [
    {
     "ename": "TypeError",
     "evalue": "func_2() missing 1 required positional argument: 'b'",
     "output_type": "error",
     "traceback": [
      "\u001b[0;31m---------------------------------------------------------------------------\u001b[0m",
      "\u001b[0;31mTypeError\u001b[0m                                 Traceback (most recent call last)",
      "Cell \u001b[0;32mIn[66], line 2\u001b[0m\n\u001b[1;32m      1\u001b[0m \u001b[39m# 함수의 매개변수의 개수와 호출할 때 인자의 개수가 다르면?\u001b[39;00m\n\u001b[0;32m----> 2\u001b[0m func_2(\u001b[39m3\u001b[39;49m)\n",
      "\u001b[0;31mTypeError\u001b[0m: func_2() missing 1 required positional argument: 'b'"
     ]
    }
   ],
   "source": [
    "# 함수의 매개변수의 개수와 호출할 때 인자의 개수가 다르면?\n",
    "func_2(3)"
   ]
  },
  {
   "cell_type": "code",
   "execution_count": 67,
   "metadata": {},
   "outputs": [
    {
     "ename": "TypeError",
     "evalue": "func_2() takes 2 positional arguments but 3 were given",
     "output_type": "error",
     "traceback": [
      "\u001b[0;31m---------------------------------------------------------------------------\u001b[0m",
      "\u001b[0;31mTypeError\u001b[0m                                 Traceback (most recent call last)",
      "Cell \u001b[0;32mIn[67], line 1\u001b[0m\n\u001b[0;32m----> 1\u001b[0m func_2(\u001b[39m1\u001b[39;49m,\u001b[39m2\u001b[39;49m,\u001b[39m3\u001b[39;49m)\n",
      "\u001b[0;31mTypeError\u001b[0m: func_2() takes 2 positional arguments but 3 were given"
     ]
    }
   ],
   "source": [
    "func_2(1,2,3)"
   ]
  },
  {
   "cell_type": "code",
   "execution_count": 156,
   "metadata": {},
   "outputs": [
    {
     "name": "stdout",
     "output_type": "stream",
     "text": [
      "-2\n"
     ]
    },
    {
     "ename": "NameError",
     "evalue": "name 'c' is not defined",
     "output_type": "error",
     "traceback": [
      "\u001b[0;31m---------------------------------------------------------------------------\u001b[0m",
      "\u001b[0;31mNameError\u001b[0m                                 Traceback (most recent call last)",
      "Cell \u001b[0;32mIn[156], line 7\u001b[0m\n\u001b[1;32m      4\u001b[0m     \u001b[39mreturn\u001b[39;00m result\n\u001b[1;32m      6\u001b[0m \u001b[39mprint\u001b[39m(func_3(\u001b[39m3\u001b[39m, \u001b[39m5\u001b[39m))\n\u001b[0;32m----> 7\u001b[0m \u001b[39mprint\u001b[39m(c)\n\u001b[1;32m      8\u001b[0m \u001b[39m# 'c'는 함수값 안에 있는 변수이므로 함수 밖에서는 출력 불가 --> 오류발생\u001b[39;00m\n",
      "\u001b[0;31mNameError\u001b[0m: name 'c' is not defined"
     ]
    }
   ],
   "source": [
    "def func_3(a, b):\n",
    "    c = 10\n",
    "    result = a + b - c\n",
    "    return result\n",
    "\n",
    "print(func_3(3, 5))\n",
    "print(c)\n",
    "# 'c'는 함수값 안에 있는 변수이므로 함수 밖에서는 출력 불가 --> 오류발생"
   ]
  },
  {
   "attachments": {},
   "cell_type": "markdown",
   "metadata": {},
   "source": [
    "- 전역 변수\n",
    "    1. 어디서든 사용이 가능한 변수\n",
    "    2. 들여쓰기를 하지 않은 공간에서 생성한 변수\n",
    "- 지역 변수\n",
    "    1. 특정한 구간에서만 사용이 가능한 변수\n",
    "    2. 들여쓰기가 된 공간에서 생성한 변수\n",
    "    3. 함수 안에서 만들어진 변수, 클래스 안에서 만들어진 변수"
   ]
  },
  {
   "cell_type": "code",
   "execution_count": 79,
   "metadata": {},
   "outputs": [
    {
     "name": "stdout",
     "output_type": "stream",
     "text": [
      "15\n"
     ]
    }
   ],
   "source": [
    "x = 3\n",
    "\n",
    "def func_4(a):\n",
    "    result = a * x\n",
    "    return result\n",
    "\n",
    "print(func_4(5))\n",
    "\n",
    "# x는 전역변수\n",
    "# a는 매개변수(지역변수)"
   ]
  },
  {
   "cell_type": "code",
   "execution_count": 92,
   "metadata": {},
   "outputs": [
    {
     "name": "stdout",
     "output_type": "stream",
     "text": [
      "6/7\n",
      "-1\n"
     ]
    }
   ],
   "source": [
    "# 매개변수에 기본값 설정\n",
    "def func_5(a, b, c = 2):\n",
    "    result = a + b - c\n",
    "    return result\n",
    "\n",
    "print(func_5(5, 4, 3), end=\"/\")\n",
    "print(func_5(5, 4,))\n",
    "print(func_5(c = 5, a = 3, b = 1))"
   ]
  },
  {
   "cell_type": "code",
   "execution_count": 98,
   "metadata": {},
   "outputs": [
    {
     "name": "stdout",
     "output_type": "stream",
     "text": [
      "8\n",
      "2\n",
      "c의 값이 잘못되었습니다\n"
     ]
    }
   ],
   "source": [
    "# c의 값이 1이면 a와 b의 합계 return\n",
    "# c의 값이 2이면 a와 b이 차이 return\n",
    "# c의 값이 그 외의 데이터면 'c의 값이 잘못되었습니다' return\n",
    "def func_6(a, b, c):\n",
    "    # c가 1인 경우\n",
    "    if c == 1:\n",
    "        # a와 b의 합계를 return\n",
    "        #return a + b\n",
    "        result = a + b\n",
    "    # c가 1이 아니고 2인 경우\n",
    "    elif c == 2:\n",
    "        # a와 b의 차이를 return\n",
    "        # return a - b\n",
    "        result = a - b\n",
    "    # c가 그 외의 데이터이면\n",
    "    else:\n",
    "        #return 'c의 값이 잘못되었습니다'\n",
    "        result = 'c의 값이 잘못되었습니다'\n",
    "\n",
    "    return result \n",
    "    \n",
    "print(func_6(5,3,1))\n",
    "print(func_6(5,3,2))\n",
    "print(func_6(5,3,3))"
   ]
  },
  {
   "cell_type": "code",
   "execution_count": 99,
   "metadata": {},
   "outputs": [
    {
     "name": "stdout",
     "output_type": "stream",
     "text": [
      "1\n",
      "2\n",
      "3\n",
      "4\n",
      "5\n",
      "6\n",
      "7\n",
      "8\n",
      "9\n",
      "10\n"
     ]
    }
   ],
   "source": [
    "# 반복문\n",
    "for i in range(1, 11, 1):\n",
    "    print(i)"
   ]
  },
  {
   "cell_type": "code",
   "execution_count": 100,
   "metadata": {},
   "outputs": [
    {
     "name": "stdout",
     "output_type": "stream",
     "text": [
      "10\n",
      "20\n",
      "30\n",
      "40\n"
     ]
    }
   ],
   "source": [
    "_list  = [10,20,30,40]\n",
    "for i in _list:\n",
    "    print(i)"
   ]
  },
  {
   "cell_type": "code",
   "execution_count": 107,
   "metadata": {},
   "outputs": [
    {
     "name": "stdout",
     "output_type": "stream",
     "text": [
      "10\n",
      "20\n",
      "30\n",
      "40\n"
     ]
    }
   ],
   "source": [
    "for i in range(0, len(_list), 1):\n",
    "    print(_list[i])"
   ]
  },
  {
   "attachments": {},
   "cell_type": "markdown",
   "metadata": {},
   "source": [
    "### 예제 문제\n",
    "1. 함수 생성 (매개변수 2개 : _min, _max)\n",
    "2. _min부터 _max까지의 합계를 출력하는 함수\n",
    "    1. 함수 생성 매개변수 2개를 넣어서 생성\n",
    "    2. 매개변수 2개가 print() 함수를 이용해서 출력\n",
    "    3. 함수 안에 반복문을 생성 _min 부터 _max까지 반복해서 i값을 출력\n",
    "    4. 합계라는 변수를 하나 생성 0 대입\n",
    "    5. 반복문에서 i값을 합계라는 변수에 플러스\n",
    "    6. 합계리턴"
   ]
  },
  {
   "cell_type": "code",
   "execution_count": 150,
   "metadata": {},
   "outputs": [],
   "source": [
    "def func_7(_min, _max):\n",
    "    # print(_min)\n",
    "    # print(_max)\n",
    "    result = 0\n",
    "    # _max가 _min보다 큰 경우\n",
    "    if _min < _max :\n",
    "        for i in range(_min, _max + 1):\n",
    "            # print(i)\n",
    "            result += i\n",
    "    # _min이 _max보다 크거나 같을 경우\n",
    "    else:\n",
    "        for i in range(_max, _min+1):\n",
    "            result += i\n",
    "    return result"
   ]
  },
  {
   "cell_type": "code",
   "execution_count": 154,
   "metadata": {},
   "outputs": [
    {
     "name": "stdout",
     "output_type": "stream",
     "text": [
      "52\n",
      "52\n"
     ]
    }
   ],
   "source": [
    "print(func_7(3,10))\n",
    "print(func_7(10,3))"
   ]
  },
  {
   "cell_type": "code",
   "execution_count": 152,
   "metadata": {},
   "outputs": [],
   "source": [
    "# 요약\n",
    "def func_8(_min,_max):\n",
    "    result = 0\n",
    "    if _min < _max :\n",
    "        for i in range(_min, _max+1):\n",
    "            result += i\n",
    "    else:\n",
    "        for i in range(_max, _min+1):\n",
    "            result += i\n",
    "    return result"
   ]
  },
  {
   "cell_type": "code",
   "execution_count": 155,
   "metadata": {},
   "outputs": [
    {
     "name": "stdout",
     "output_type": "stream",
     "text": [
      "52\n",
      "52\n"
     ]
    }
   ],
   "source": [
    "print(func_8(3,10))\n",
    "print(func_8(10,3))"
   ]
  },
  {
   "cell_type": "code",
   "execution_count": 165,
   "metadata": {},
   "outputs": [],
   "source": [
    "# 함수를 이중으로 사용하어 코드 간소화\n",
    "def func_9(_min, _max):\n",
    "    result = 0\n",
    "    for i in range(min(_min,_max), max(_min, _max) + 1):\n",
    "        result += i\n",
    "    return result"
   ]
  },
  {
   "cell_type": "code",
   "execution_count": 178,
   "metadata": {},
   "outputs": [
    {
     "name": "stdout",
     "output_type": "stream",
     "text": [
      "55\n",
      "55\n"
     ]
    }
   ],
   "source": [
    "print(func_9(1,10))\n",
    "print(func_9(10,1))"
   ]
  },
  {
   "cell_type": "code",
   "execution_count": 182,
   "metadata": {},
   "outputs": [
    {
     "name": "stdout",
     "output_type": "stream",
     "text": [
      "4\n",
      "None\n"
     ]
    }
   ],
   "source": [
    "def func_10(a, b) :\n",
    "    result = a + b\n",
    "    print(result)\n",
    "\n",
    "x = func_10(1,3)\n",
    "print(x)"
   ]
  },
  {
   "cell_type": "code",
   "execution_count": 185,
   "metadata": {},
   "outputs": [
    {
     "name": "stdout",
     "output_type": "stream",
     "text": [
      "4\n"
     ]
    }
   ],
   "source": [
    "def func_11(a, b) :\n",
    "    result = a + b\n",
    "    return result\n",
    "\n",
    "x = func_11(1,3)\n",
    "print(x)"
   ]
  },
  {
   "cell_type": "code",
   "execution_count": 183,
   "metadata": {},
   "outputs": [],
   "source": [
    "# return의 유무\n",
    "# 둘의 값은 차이가 없지만\n",
    "# 파이썬의 환경에서는 print() 외에는 실제로 출력되지 않음"
   ]
  },
  {
   "cell_type": "code",
   "execution_count": null,
   "metadata": {},
   "outputs": [],
   "source": []
  },
  {
   "cell_type": "code",
   "execution_count": 184,
   "metadata": {},
   "outputs": [],
   "source": [
    "# 함수 생성  -> 인자의 개수가 가변인 경우\n",
    "def func_12(*_list):\n",
    "    print(_list)"
   ]
  },
  {
   "cell_type": "code",
   "execution_count": 186,
   "metadata": {},
   "outputs": [
    {
     "name": "stdout",
     "output_type": "stream",
     "text": [
      "(1, 2, 3, 4, 5)\n",
      "(1, 2, 3)\n",
      "(1, 2, 3, 4, 5, 6, 7, 8, 9, 10)\n"
     ]
    }
   ],
   "source": [
    "func_12(1,2,3,4,5,)\n",
    "func_12(1,2,3)\n",
    "func_12(1,2,3,4,5,6,7,8,9,10)"
   ]
  },
  {
   "attachments": {},
   "cell_type": "markdown",
   "metadata": {},
   "source": [
    "- max(), min() 함수를 생성\n",
    "    1. 인자의 개수가 가변이다. -> *매개변수\n",
    "    2. 각각의 항목들을 비교해서 가장 큰 숫자를 출력 -> return int형태\n",
    "    3. 예를 들어 4개의 항목의 데이터가 대입\n",
    "        1. 첫번째 항목과 두번쨰 항목을 비교해서 큰 값을 새로운 변수에 대입\n",
    "        2. 1번 과정에서 나온 값과 세번째 항목을 비교해서 큰 값을 다시 변수에 대입\n",
    "        3. 2번 과정에서 나온 값과 마지막 항목을 비교해서 큰 값을 다시 변수에 대입\n",
    "        4. 최종 변수의 값을 return"
   ]
  },
  {
   "cell_type": "code",
   "execution_count": 190,
   "metadata": {},
   "outputs": [],
   "source": [
    "def custom_max(*_list):\n",
    "    result = _list[0]\n",
    "    # 첫번째 원소를 출력\n",
    "    # 첫번째 원소와 두번째 원소의 값을 비교하여 큰 값을 result에 대입\n",
    "    # if result > _list[1]:\n",
    "    #       result = _list[0]\n",
    "    # else:\n",
    "    #       result = _list[1]\n",
    "    # if result < _list[1]:\n",
    "    #     result = _list[1]\n",
    "\n",
    "    # # result와 세번째 원소를 비교\n",
    "    # # if result > _list[2]:\n",
    "    # #     result = result\n",
    "    # # else:\n",
    "    # #     result = _list[2]\n",
    "    # if result < _list[2]:\n",
    "    #     result = _list[2]\n",
    "\n",
    "    # # result와 네번째 원소를 비교\n",
    "    # # if result > _list[3]:\n",
    "    # #     result = result\n",
    "    # # else:\n",
    "    # #    result = _list[3]\n",
    "    # if result < _list[3]:\n",
    "    #     result = _list[3]\n",
    "\n",
    "    # 간소화 1\n",
    "    # for i in range(1,len(_list), 1):\n",
    "    #     if result < _list[i]:\n",
    "    #         result = _list[i]\n",
    "    # return result\n",
    "\n",
    "    # 간소화 2\n",
    "    for i in _list:\n",
    "        if result < i:\n",
    "            result = i\n",
    "    return result\n",
    "        "
   ]
  },
  {
   "cell_type": "code",
   "execution_count": 191,
   "metadata": {},
   "outputs": [
    {
     "name": "stdout",
     "output_type": "stream",
     "text": [
      "8\n",
      "50\n"
     ]
    }
   ],
   "source": [
    "print(custom_max(1, 6, 4, 8, 2))\n",
    "print(custom_max(1, 6, 4, 9, 11, 50, -100))"
   ]
  },
  {
   "attachments": {},
   "cell_type": "markdown",
   "metadata": {},
   "source": [
    "- 평균을 출력해주는 함수 생성\n",
    "    1. 인자의 개수가 가변\n",
    "    2. 받아온 인자 값들을 원소 하나씩 출력\n",
    "    3. 각 원소들의 합계\n",
    "        1. 합계라는 변수 생성 0을 대입\n",
    "        2. 각 원소들의 값들을 합계에 추가\n",
    "    4. (합계) / (인자의 개수) --> 평균이라는 변수에 대입\n",
    "    5. 평균 값을 리턴"
   ]
  },
  {
   "cell_type": "code",
   "execution_count": 224,
   "metadata": {},
   "outputs": [],
   "source": [
    "def custom_mean(*_number):\n",
    "    # while문\n",
    "    # 초기값 지정\n",
    "    i = 0\n",
    "    # 합계 변수 생성 0을 대입\n",
    "    sum = 0\n",
    "    while i < len(_number):\n",
    "        # print(_number[i])\n",
    "        sum += _number[i]\n",
    "        # i값을 증가\n",
    "        i += 1\n",
    "    # print(sum)\n",
    "    result = sum / len(_number)\n",
    "    return result"
   ]
  },
  {
   "cell_type": "code",
   "execution_count": 225,
   "metadata": {},
   "outputs": [
    {
     "name": "stdout",
     "output_type": "stream",
     "text": [
      "3.0\n",
      "5.5\n"
     ]
    }
   ],
   "source": [
    "print(custom_mean(1,2,3,4,5))\n",
    "print(custom_mean(1,2,3,4,5,6,7,8,9,10))"
   ]
  },
  {
   "cell_type": "code",
   "execution_count": 222,
   "metadata": {},
   "outputs": [],
   "source": [
    "# 맨 처음 숫자가 계산에 포함되지 않음\n",
    "# 오류 수정 연습\n",
    "# 아직 해결 못함\n",
    "\n",
    "def custom_mean(*_number):\n",
    "    i = 0\n",
    "    sum = 0\n",
    "    for i in _number:\n",
    "        if i < len(_number):\n",
    "            sum += i\n",
    "            i += 1\n",
    "    result = sum / len(_number)\n",
    "    return result"
   ]
  },
  {
   "cell_type": "code",
   "execution_count": 223,
   "metadata": {},
   "outputs": [
    {
     "name": "stdout",
     "output_type": "stream",
     "text": [
      "2.0\n",
      "4.5\n"
     ]
    }
   ],
   "source": [
    "print(custom_mean(1,2,3,4,5))\n",
    "print(custom_mean(1,2,3,4,5,6,7,8,9,10))"
   ]
  },
  {
   "cell_type": "code",
   "execution_count": 226,
   "metadata": {},
   "outputs": [],
   "source": [
    "# 외부의 모듈을 로드\n",
    "import mod1"
   ]
  },
  {
   "cell_type": "code",
   "execution_count": 230,
   "metadata": {},
   "outputs": [
    {
     "data": {
      "text/plain": [
       "5"
      ]
     },
     "execution_count": 230,
     "metadata": {},
     "output_type": "execute_result"
    }
   ],
   "source": [
    "mod1.custom_max(1,2,3,4,5)"
   ]
  },
  {
   "cell_type": "code",
   "execution_count": 232,
   "metadata": {},
   "outputs": [
    {
     "data": {
      "text/plain": [
       "3.0"
      ]
     },
     "execution_count": 232,
     "metadata": {},
     "output_type": "execute_result"
    }
   ],
   "source": [
    "mod1.custom_mean(1,2,3,4,5)"
   ]
  },
  {
   "attachments": {},
   "cell_type": "markdown",
   "metadata": {},
   "source": [
    "# Class\n",
    "- 속성 : 클래스가 가지는 변수\n",
    "- 매서드 : 클래스가 가지는 동작"
   ]
  },
  {
   "cell_type": "code",
   "execution_count": null,
   "metadata": {},
   "outputs": [],
   "source": []
  }
 ],
 "metadata": {
  "kernelspec": {
   "display_name": "Python 3",
   "language": "python",
   "name": "python3"
  },
  "language_info": {
   "codemirror_mode": {
    "name": "ipython",
    "version": 3
   },
   "file_extension": ".py",
   "mimetype": "text/x-python",
   "name": "python",
   "nbconvert_exporter": "python",
   "pygments_lexer": "ipython3",
   "version": "3.11.2"
  },
  "orig_nbformat": 4
 },
 "nbformat": 4,
 "nbformat_minor": 2
}
