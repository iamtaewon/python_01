{
 "cells": [
  {
   "cell_type": "code",
   "execution_count": null,
   "metadata": {},
   "outputs": [
    {
     "ename": "",
     "evalue": "",
     "output_type": "error",
     "traceback": [
      "\u001b[1;31m커널을 시작하지 못했습니다. \n",
      "\u001b[1;31m'jupyter' 및 'notebook 패키지를 Python 환경 ' Python 3.9.6 64-bit (/usr/bin/python3)'에서 찾을 수 없으므로 'Jupyter 서버를 시작하지 못했습니다. \n",
      "\u001b[1;31m자세한 내용은 Jupyter <a href='command:jupyter.viewOutput'>로그</a>를 참조하세요."
     ]
    }
   ],
   "source": [
    "import mod_sql\n",
    "import pandas as pd"
   ]
  },
  {
   "cell_type": "code",
   "execution_count": null,
   "metadata": {},
   "outputs": [
    {
     "ename": "",
     "evalue": "",
     "output_type": "error",
     "traceback": [
      "\u001b[1;31m커널을 시작하지 못했습니다. \n",
      "\u001b[1;31m'jupyter' 및 'notebook 패키지를 Python 환경 ' Python 3.9.6 64-bit (/usr/bin/python3)'에서 찾을 수 없으므로 'Jupyter 서버를 시작하지 못했습니다. \n",
      "\u001b[1;31m자세한 내용은 Jupyter <a href='command:jupyter.viewOutput'>로그</a>를 참조하세요."
     ]
    }
   ],
   "source": [
    "# mods_sql을 통해서 Database 클래스를 생성\n",
    "db = mod_sql.Database(\"localhost\", \"root\", \"ubion7\", 3306)"
   ]
  },
  {
   "cell_type": "code",
   "execution_count": null,
   "metadata": {},
   "outputs": [
    {
     "ename": "",
     "evalue": "",
     "output_type": "error",
     "traceback": [
      "\u001b[1;31m커널을 시작하지 못했습니다. \n",
      "\u001b[1;31m'jupyter' 및 'notebook 패키지를 Python 환경 ' Python 3.9.6 64-bit (/usr/bin/python3)'에서 찾을 수 없으므로 'Jupyter 서버를 시작하지 못했습니다. \n",
      "\u001b[1;31m자세한 내용은 Jupyter <a href='command:jupyter.viewOutput'>로그</a>를 참조하세요."
     ]
    }
   ],
   "source": [
    "sql = \"\"\"\n",
    "    select \n",
    "    `Country` as '국가', \n",
    "    `Units Sold` as '판매개수', \n",
    "    `Unit Price` as '가격', \n",
    "    `Unit Cost` as '원가', \n",
    "    (`Units Sold` * `Unit Price`) as '총수익', \n",
    "    (`Units Sold` * `Unit Cost`) as '총비용', \n",
    "    (`Units Sold` * `Unit Price` - `Units Sold` * `Unit Cost`) as '총이윤'\n",
    "    from \n",
    "    `Sales Records`\n",
    "\"\"\"\n",
    "db.sql_query(sql)"
   ]
  },
  {
   "cell_type": "code",
   "execution_count": null,
   "metadata": {},
   "outputs": [
    {
     "ename": "",
     "evalue": "",
     "output_type": "error",
     "traceback": [
      "\u001b[1;31m커널을 시작하지 못했습니다. \n",
      "\u001b[1;31m'jupyter' 및 'notebook 패키지를 Python 환경 ' Python 3.9.6 64-bit (/usr/bin/python3)'에서 찾을 수 없으므로 'Jupyter 서버를 시작하지 못했습니다. \n",
      "\u001b[1;31m자세한 내용은 Jupyter <a href='command:jupyter.viewOutput'>로그</a>를 참조하세요."
     ]
    }
   ],
   "source": [
    "df = pd.read_csv('../csv/Sales Records.csv')"
   ]
  },
  {
   "cell_type": "code",
   "execution_count": null,
   "metadata": {},
   "outputs": [
    {
     "ename": "",
     "evalue": "",
     "output_type": "error",
     "traceback": [
      "\u001b[1;31m커널을 시작하지 못했습니다. \n",
      "\u001b[1;31m'jupyter' 및 'notebook 패키지를 Python 환경 ' Python 3.9.6 64-bit (/usr/bin/python3)'에서 찾을 수 없으므로 'Jupyter 서버를 시작하지 못했습니다. \n",
      "\u001b[1;31m자세한 내용은 Jupyter <a href='command:jupyter.viewOutput'>로그</a>를 참조하세요."
     ]
    }
   ],
   "source": [
    "df.drop(['Region', 'Item Type', 'Sales Channel', 'Order Priority', 'Order Date', 'Order ID', 'Ship Date'], axis = 1, inplace = True)\n",
    "#df = df[['Country', 'Units Sold', 'Unit Price', 'Unit Cost']]"
   ]
  },
  {
   "cell_type": "code",
   "execution_count": null,
   "metadata": {},
   "outputs": [
    {
     "ename": "",
     "evalue": "",
     "output_type": "error",
     "traceback": [
      "\u001b[1;31m커널을 시작하지 못했습니다. \n",
      "\u001b[1;31m'jupyter' 및 'notebook 패키지를 Python 환경 ' Python 3.9.6 64-bit (/usr/bin/python3)'에서 찾을 수 없으므로 'Jupyter 서버를 시작하지 못했습니다. \n",
      "\u001b[1;31m자세한 내용은 Jupyter <a href='command:jupyter.viewOutput'>로그</a>를 참조하세요."
     ]
    }
   ],
   "source": [
    "df.columns = ['국가', '판매개수', '가격', '원가', '총수익', '총비용', '총이윤']\n",
    "df"
   ]
  },
  {
   "cell_type": "code",
   "execution_count": null,
   "metadata": {},
   "outputs": [
    {
     "ename": "",
     "evalue": "",
     "output_type": "error",
     "traceback": [
      "\u001b[1;31m커널을 시작하지 못했습니다. \n",
      "\u001b[1;31m'jupyter' 및 'notebook 패키지를 Python 환경 ' Python 3.9.6 64-bit (/usr/bin/python3)'에서 찾을 수 없으므로 'Jupyter 서버를 시작하지 못했습니다. \n",
      "\u001b[1;31m자세한 내용은 Jupyter <a href='command:jupyter.viewOutput'>로그</a>를 참조하세요."
     ]
    }
   ],
   "source": [
    "df.drop(['총수익', '총비용', '총이윤'], axis = 1, inplace=True)"
   ]
  },
  {
   "cell_type": "code",
   "execution_count": null,
   "metadata": {},
   "outputs": [
    {
     "ename": "",
     "evalue": "",
     "output_type": "error",
     "traceback": [
      "\u001b[1;31m커널을 시작하지 못했습니다. \n",
      "\u001b[1;31m'jupyter' 및 'notebook 패키지를 Python 환경 ' Python 3.9.6 64-bit (/usr/bin/python3)'에서 찾을 수 없으므로 'Jupyter 서버를 시작하지 못했습니다. \n",
      "\u001b[1;31m자세한 내용은 Jupyter <a href='command:jupyter.viewOutput'>로그</a>를 참조하세요."
     ]
    }
   ],
   "source": [
    "df['총수익'] = df['판매개수'] * df['가격']\n",
    "df['총비용'] = df['판매개수'] * df['원가']\n",
    "df['총이윤'] = (df['판매개수'] * df['가격']) - (df['판매개수'] * df['원가'])\n",
    "#df['총이윤'] = df['총수익'] - df['총비용']\n",
    "df"
   ]
  },
  {
   "attachments": {},
   "cell_type": "markdown",
   "metadata": {},
   "source": [
    "### sql에서 반올림"
   ]
  },
  {
   "cell_type": "code",
   "execution_count": null,
   "metadata": {},
   "outputs": [
    {
     "ename": "",
     "evalue": "",
     "output_type": "error",
     "traceback": [
      "\u001b[1;31m커널을 시작하지 못했습니다. \n",
      "\u001b[1;31m'jupyter' 및 'notebook 패키지를 Python 환경 ' Python 3.9.6 64-bit (/usr/bin/python3)'에서 찾을 수 없으므로 'Jupyter 서버를 시작하지 못했습니다. \n",
      "\u001b[1;31m자세한 내용은 Jupyter <a href='command:jupyter.viewOutput'>로그</a>를 참조하세요."
     ]
    }
   ],
   "source": [
    "sql = \"\"\"\n",
    "    select\n",
    "    `Total Cost`,\n",
    "    round(`Total Cost`, 1)\n",
    "    from\n",
    "    `Sales Records`\n",
    "\"\"\"\n",
    "\n",
    "db.sql_query(sql)"
   ]
  },
  {
   "attachments": {},
   "cell_type": "markdown",
   "metadata": {},
   "source": [
    "## sql 그룹화\n",
    "1. Country, Item Type을 기준으로 그룹화\n",
    "2. unit sold의 평균 합계 생성\n",
    "3. Country를 기준으로 오름차순 정렬"
   ]
  },
  {
   "cell_type": "code",
   "execution_count": null,
   "metadata": {},
   "outputs": [
    {
     "ename": "",
     "evalue": "",
     "output_type": "error",
     "traceback": [
      "\u001b[1;31m커널을 시작하지 못했습니다. \n",
      "\u001b[1;31m'jupyter' 및 'notebook 패키지를 Python 환경 ' Python 3.9.6 64-bit (/usr/bin/python3)'에서 찾을 수 없으므로 'Jupyter 서버를 시작하지 못했습니다. \n",
      "\u001b[1;31m자세한 내용은 Jupyter <a href='command:jupyter.viewOutput'>로그</a>를 참조하세요."
     ]
    }
   ],
   "source": [
    "sql = \"\"\"\n",
    "    select\n",
    "    `Country`,\n",
    "    `Item Type`,\n",
    "    AVG(`Units Sold`) as AVG,\n",
    "    SUM(`Units Sold`) as SUM\n",
    "    from\n",
    "    `Sales Records`\n",
    "    group by\n",
    "    `Country`,\n",
    "    `Item Type`\n",
    "    order by\n",
    "    `Country`\n",
    "    ASC\n",
    "\"\"\"\n",
    "\n",
    "db.sql_query(sql)"
   ]
  },
  {
   "cell_type": "code",
   "execution_count": null,
   "metadata": {},
   "outputs": [
    {
     "ename": "",
     "evalue": "",
     "output_type": "error",
     "traceback": [
      "\u001b[1;31m커널을 시작하지 못했습니다. \n",
      "\u001b[1;31m'jupyter' 및 'notebook 패키지를 Python 환경 ' Python 3.9.6 64-bit (/usr/bin/python3)'에서 찾을 수 없으므로 'Jupyter 서버를 시작하지 못했습니다. \n",
      "\u001b[1;31m자세한 내용은 Jupyter <a href='command:jupyter.viewOutput'>로그</a>를 참조하세요."
     ]
    }
   ],
   "source": [
    "df = pd.read_csv('../csv/Sales Records.csv')"
   ]
  },
  {
   "cell_type": "code",
   "execution_count": null,
   "metadata": {},
   "outputs": [
    {
     "ename": "",
     "evalue": "",
     "output_type": "error",
     "traceback": [
      "\u001b[1;31m커널을 시작하지 못했습니다. \n",
      "\u001b[1;31m'jupyter' 및 'notebook 패키지를 Python 환경 ' Python 3.9.6 64-bit (/usr/bin/python3)'에서 찾을 수 없으므로 'Jupyter 서버를 시작하지 못했습니다. \n",
      "\u001b[1;31m자세한 내용은 Jupyter <a href='command:jupyter.viewOutput'>로그</a>를 참조하세요."
     ]
    }
   ],
   "source": [
    "df.groupby(['Country', 'Item Type']).agg(['mean', 'sum'])['Units Sold'].reset_index()"
   ]
  },
  {
   "attachments": {},
   "cell_type": "markdown",
   "metadata": {},
   "source": [
    "### dept table에서 부서의 이름(dname)이 sales인 소속 사원의 정보 출력\n",
    "1. dept 테이블에서 부서이름이 sales인 deptno를 출력\n",
    "2. emp 테이블에서 1번 과정에서 나온 deptno를 기준으로 사원 출력"
   ]
  },
  {
   "cell_type": "code",
   "execution_count": null,
   "metadata": {},
   "outputs": [
    {
     "ename": "",
     "evalue": "",
     "output_type": "error",
     "traceback": [
      "\u001b[1;31m커널을 시작하지 못했습니다. \n",
      "\u001b[1;31m'jupyter' 및 'notebook 패키지를 Python 환경 ' Python 3.9.6 64-bit (/usr/bin/python3)'에서 찾을 수 없으므로 'Jupyter 서버를 시작하지 못했습니다. \n",
      "\u001b[1;31m자세한 내용은 Jupyter <a href='command:jupyter.viewOutput'>로그</a>를 참조하세요."
     ]
    }
   ],
   "source": [
    "sql = \"\"\"\n",
    "    select\n",
    "    `deptno`\n",
    "    from\n",
    "    `dept`\n",
    "    where\n",
    "    `dname` = 'sales'\n",
    "\"\"\"\n",
    "\n",
    "db.sql_query(sql)"
   ]
  },
  {
   "cell_type": "code",
   "execution_count": null,
   "metadata": {},
   "outputs": [
    {
     "ename": "",
     "evalue": "",
     "output_type": "error",
     "traceback": [
      "\u001b[1;31m커널을 시작하지 못했습니다. \n",
      "\u001b[1;31m'jupyter' 및 'notebook 패키지를 Python 환경 ' Python 3.9.6 64-bit (/usr/bin/python3)'에서 찾을 수 없으므로 'Jupyter 서버를 시작하지 못했습니다. \n",
      "\u001b[1;31m자세한 내용은 Jupyter <a href='command:jupyter.viewOutput'>로그</a>를 참조하세요."
     ]
    }
   ],
   "source": [
    "sql = \"\"\"\n",
    "    select\n",
    "    *\n",
    "    from\n",
    "    `emp`\n",
    "    where\n",
    "    `deptno` = 30\n",
    "\"\"\"\n",
    "db.sql_query(sql)"
   ]
  },
  {
   "cell_type": "code",
   "execution_count": null,
   "metadata": {},
   "outputs": [
    {
     "ename": "",
     "evalue": "",
     "output_type": "error",
     "traceback": [
      "\u001b[1;31m커널을 시작하지 못했습니다. \n",
      "\u001b[1;31m'jupyter' 및 'notebook 패키지를 Python 환경 ' Python 3.9.6 64-bit (/usr/bin/python3)'에서 찾을 수 없으므로 'Jupyter 서버를 시작하지 못했습니다. \n",
      "\u001b[1;31m자세한 내용은 Jupyter <a href='command:jupyter.viewOutput'>로그</a>를 참조하세요."
     ]
    }
   ],
   "source": [
    "sql = \"\"\"\n",
    "    select\n",
    "    *\n",
    "    from\n",
    "    `emp`\n",
    "    where\n",
    "    `deptno` = (\n",
    "    select\n",
    "    `deptno`\n",
    "    from\n",
    "    `dept`\n",
    "    where\n",
    "    `dname` = 'sales'\n",
    "    )\n",
    "\"\"\"\n",
    "db.sql_query(sql)"
   ]
  },
  {
   "cell_type": "code",
   "execution_count": null,
   "metadata": {},
   "outputs": [
    {
     "ename": "",
     "evalue": "",
     "output_type": "error",
     "traceback": [
      "\u001b[1;31m커널을 시작하지 못했습니다. \n",
      "\u001b[1;31m'jupyter' 및 'notebook 패키지를 Python 환경 ' Python 3.9.6 64-bit (/usr/bin/python3)'에서 찾을 수 없으므로 'Jupyter 서버를 시작하지 못했습니다. \n",
      "\u001b[1;31m자세한 내용은 Jupyter <a href='command:jupyter.viewOutput'>로그</a>를 참조하세요."
     ]
    }
   ],
   "source": [
    "sql = \"\"\"\n",
    "    select\n",
    "    *\n",
    "    from\n",
    "    `emp`\n",
    "    where\n",
    "    `deptno` = (\n",
    "        select\n",
    "        `deptno`\n",
    "        from\n",
    "        `dept`\n",
    "        where\n",
    "        `dname` = 'research'\n",
    "    )\n",
    "\"\"\"\n",
    "db.sql_query(sql)"
   ]
  },
  {
   "cell_type": "code",
   "execution_count": null,
   "metadata": {},
   "outputs": [
    {
     "ename": "",
     "evalue": "",
     "output_type": "error",
     "traceback": [
      "\u001b[1;31m커널을 시작하지 못했습니다. \n",
      "\u001b[1;31m'jupyter' 및 'notebook 패키지를 Python 환경 ' Python 3.9.6 64-bit (/usr/bin/python3)'에서 찾을 수 없으므로 'Jupyter 서버를 시작하지 못했습니다. \n",
      "\u001b[1;31m자세한 내용은 Jupyter <a href='command:jupyter.viewOutput'>로그</a>를 참조하세요."
     ]
    }
   ],
   "source": [
    "sql = \"\"\"\n",
    "    select\n",
    "    `deptno`\n",
    "    from\n",
    "    `dept`\n",
    "    where\n",
    "    `dname` in ('sales', 'research')\n",
    "\"\"\"\n",
    "\n",
    "db.sql_query(sql)"
   ]
  },
  {
   "cell_type": "code",
   "execution_count": null,
   "metadata": {},
   "outputs": [
    {
     "ename": "",
     "evalue": "",
     "output_type": "error",
     "traceback": [
      "\u001b[1;31m커널을 시작하지 못했습니다. \n",
      "\u001b[1;31m'jupyter' 및 'notebook 패키지를 Python 환경 ' Python 3.9.6 64-bit (/usr/bin/python3)'에서 찾을 수 없으므로 'Jupyter 서버를 시작하지 못했습니다. \n",
      "\u001b[1;31m자세한 내용은 Jupyter <a href='command:jupyter.viewOutput'>로그</a>를 참조하세요."
     ]
    }
   ],
   "source": [
    "sql = \"\"\"\n",
    "    select\n",
    "    *\n",
    "    from\n",
    "    `emp`\n",
    "    where\n",
    "    `deptno` in (\n",
    "    select\n",
    "    `deptno`\n",
    "    from\n",
    "    `dept`\n",
    "    where\n",
    "    `dname`\n",
    "    in ('sales', 'research'))\n",
    "\"\"\"\n",
    "\n",
    "db.sql_query(sql)"
   ]
  },
  {
   "cell_type": "code",
   "execution_count": null,
   "metadata": {},
   "outputs": [
    {
     "ename": "",
     "evalue": "",
     "output_type": "error",
     "traceback": [
      "\u001b[1;31m커널을 시작하지 못했습니다. \n",
      "\u001b[1;31m'jupyter' 및 'notebook 패키지를 Python 환경 ' Python 3.9.6 64-bit (/usr/bin/python3)'에서 찾을 수 없으므로 'Jupyter 서버를 시작하지 못했습니다. \n",
      "\u001b[1;31m자세한 내용은 Jupyter <a href='command:jupyter.viewOutput'>로그</a>를 참조하세요."
     ]
    }
   ],
   "source": [
    "emp = pd.read_csv('../csv/emp.csv')\n",
    "dept = pd.read_csv('../csv/dept.csv')"
   ]
  },
  {
   "cell_type": "code",
   "execution_count": null,
   "metadata": {},
   "outputs": [
    {
     "ename": "",
     "evalue": "",
     "output_type": "error",
     "traceback": [
      "\u001b[1;31m커널을 시작하지 못했습니다. \n",
      "\u001b[1;31m'jupyter' 및 'notebook 패키지를 Python 환경 ' Python 3.9.6 64-bit (/usr/bin/python3)'에서 찾을 수 없으므로 'Jupyter 서버를 시작하지 못했습니다. \n",
      "\u001b[1;31m자세한 내용은 Jupyter <a href='command:jupyter.viewOutput'>로그</a>를 참조하세요."
     ]
    }
   ],
   "source": [
    "flag = dept.loc[(dept['DNAME'].isin(['RESEARCH', 'SALES'])), 'DEPTNO'].tolist()"
   ]
  },
  {
   "cell_type": "code",
   "execution_count": null,
   "metadata": {},
   "outputs": [
    {
     "ename": "",
     "evalue": "",
     "output_type": "error",
     "traceback": [
      "\u001b[1;31m커널을 시작하지 못했습니다. \n",
      "\u001b[1;31m'jupyter' 및 'notebook 패키지를 Python 환경 ' Python 3.9.6 64-bit (/usr/bin/python3)'에서 찾을 수 없으므로 'Jupyter 서버를 시작하지 못했습니다. \n",
      "\u001b[1;31m자세한 내용은 Jupyter <a href='command:jupyter.viewOutput'>로그</a>를 참조하세요."
     ]
    }
   ],
   "source": [
    "emp.loc[emp['DEPTNO'].isin(flag)].reset_index(drop=True)"
   ]
  },
  {
   "attachments": {},
   "cell_type": "markdown",
   "metadata": {},
   "source": [
    "1. emp 데이터프레임에서 JOB 컬럼의 데이터를 확인하여 새로운 파생변수 생성\n",
    "2. job_code SALESMAN이면 1, MANAGER면 2, 나머지는 3으로 하여 새로운 파생변수에 대입"
   ]
  },
  {
   "cell_type": "code",
   "execution_count": null,
   "metadata": {},
   "outputs": [
    {
     "ename": "",
     "evalue": "",
     "output_type": "error",
     "traceback": [
      "\u001b[1;31m커널을 시작하지 못했습니다. \n",
      "\u001b[1;31m'jupyter' 및 'notebook 패키지를 Python 환경 ' Python 3.9.6 64-bit (/usr/bin/python3)'에서 찾을 수 없으므로 'Jupyter 서버를 시작하지 못했습니다. \n",
      "\u001b[1;31m자세한 내용은 Jupyter <a href='command:jupyter.viewOutput'>로그</a>를 참조하세요."
     ]
    }
   ],
   "source": [
    "emp['JOB']"
   ]
  },
  {
   "cell_type": "code",
   "execution_count": null,
   "metadata": {},
   "outputs": [
    {
     "ename": "",
     "evalue": "",
     "output_type": "error",
     "traceback": [
      "\u001b[1;31m커널을 시작하지 못했습니다. \n",
      "\u001b[1;31m'jupyter' 및 'notebook 패키지를 Python 환경 ' Python 3.9.6 64-bit (/usr/bin/python3)'에서 찾을 수 없으므로 'Jupyter 서버를 시작하지 못했습니다. \n",
      "\u001b[1;31m자세한 내용은 Jupyter <a href='command:jupyter.viewOutput'>로그</a>를 참조하세요."
     ]
    }
   ],
   "source": [
    "emp['job_code'] = emp['JOB'].apply(lambda x : 1 if (x == 'SALESMAN') else (2 if (x == 'MANAGER') else 3))\n",
    "emp"
   ]
  },
  {
   "cell_type": "code",
   "execution_count": null,
   "metadata": {},
   "outputs": [
    {
     "ename": "",
     "evalue": "",
     "output_type": "error",
     "traceback": [
      "\u001b[1;31m커널을 시작하지 못했습니다. \n",
      "\u001b[1;31m'jupyter' 및 'notebook 패키지를 Python 환경 ' Python 3.9.6 64-bit (/usr/bin/python3)'에서 찾을 수 없으므로 'Jupyter 서버를 시작하지 못했습니다. \n",
      "\u001b[1;31m자세한 내용은 Jupyter <a href='command:jupyter.viewOutput'>로그</a>를 참조하세요."
     ]
    }
   ],
   "source": [
    "for i in emp.index:\n",
    "    if emp.loc[i, 'JOB'] == 'SALESMAN':\n",
    "        emp.loc[i, 'job_code'] = 1\n",
    "    elif emp.loc[i, 'JOB'] == 'MANAGER':\n",
    "        emp.loc[i, 'job_code'] = 2\n",
    "    else:\n",
    "        emp.loc[i, 'job_code'] = 3\n",
    "emp"
   ]
  },
  {
   "cell_type": "code",
   "execution_count": null,
   "metadata": {},
   "outputs": [
    {
     "ename": "",
     "evalue": "",
     "output_type": "error",
     "traceback": [
      "\u001b[1;31m커널을 시작하지 못했습니다. \n",
      "\u001b[1;31m'jupyter' 및 'notebook 패키지를 Python 환경 ' Python 3.9.6 64-bit (/usr/bin/python3)'에서 찾을 수 없으므로 'Jupyter 서버를 시작하지 못했습니다. \n",
      "\u001b[1;31m자세한 내용은 Jupyter <a href='command:jupyter.viewOutput'>로그</a>를 참조하세요."
     ]
    }
   ],
   "source": [
    "def change (x):\n",
    "    if x == 'SALESMAN':\n",
    "        result = 1\n",
    "    elif x == 'MANAGER':\n",
    "        result = 2\n",
    "    else:\n",
    "        result = 3\n",
    "    return result\n",
    "\n",
    "emp['job_code'] = emp['JOB'].apply(change)\n",
    "emp"
   ]
  },
  {
   "cell_type": "code",
   "execution_count": null,
   "metadata": {},
   "outputs": [
    {
     "ename": "",
     "evalue": "",
     "output_type": "error",
     "traceback": [
      "\u001b[1;31m커널을 시작하지 못했습니다. \n",
      "\u001b[1;31m'jupyter' 및 'notebook 패키지를 Python 환경 ' Python 3.9.6 64-bit (/usr/bin/python3)'에서 찾을 수 없으므로 'Jupyter 서버를 시작하지 못했습니다. \n",
      "\u001b[1;31m자세한 내용은 Jupyter <a href='command:jupyter.viewOutput'>로그</a>를 참조하세요."
     ]
    }
   ],
   "source": [
    "sql = \"\"\"\n",
    "    select\n",
    "    `EMPNO`,\n",
    "    `ENAME`,\n",
    "    `JOB`,\n",
    "    CASE\n",
    "        WHEN `JOB` = 'SALESMAN'\n",
    "        THEN 1\n",
    "        WHEN `JOB` = 'MANAGER'\n",
    "        THEN 2\n",
    "        ELSE 3\n",
    "    END as 'job_code'\n",
    "    from\n",
    "    emp\n",
    "\"\"\"\n",
    "\n",
    "db.sql_query(sql)"
   ]
  },
  {
   "cell_type": "code",
   "execution_count": null,
   "metadata": {},
   "outputs": [
    {
     "ename": "",
     "evalue": "",
     "output_type": "error",
     "traceback": [
      "\u001b[1;31m커널을 시작하지 못했습니다. \n",
      "\u001b[1;31m'jupyter' 및 'notebook 패키지를 Python 환경 ' Python 3.9.6 64-bit (/usr/bin/python3)'에서 찾을 수 없으므로 'Jupyter 서버를 시작하지 못했습니다. \n",
      "\u001b[1;31m자세한 내용은 Jupyter <a href='command:jupyter.viewOutput'>로그</a>를 참조하세요."
     ]
    }
   ],
   "source": [
    "sql = \"\"\"\n",
    "    select\n",
    "    `EMPNO`,\n",
    "    `ENAME`,\n",
    "    `JOB`,\n",
    "    if(\n",
    "        `JOB` = 'SALESMAN',\n",
    "        1,\n",
    "        if(`JOB` - 'MANAGER',\n",
    "            2,\n",
    "            3\n",
    "        )\n",
    "    )as `job_code`\n",
    "    from\n",
    "    emp \n",
    "\"\"\"\n",
    "db.sql_query(sql)"
   ]
  },
  {
   "attachments": {},
   "cell_type": "markdown",
   "metadata": {},
   "source": [
    "1. emp 데이터에서 파생변수 H/L 생성\n",
    "2. SAL이 2000 이상이면 High, 아니면 Low 데이터를 삽입"
   ]
  },
  {
   "cell_type": "code",
   "execution_count": null,
   "metadata": {},
   "outputs": [
    {
     "ename": "",
     "evalue": "",
     "output_type": "error",
     "traceback": [
      "\u001b[1;31m커널을 시작하지 못했습니다. \n",
      "\u001b[1;31m'jupyter' 및 'notebook 패키지를 Python 환경 ' Python 3.9.6 64-bit (/usr/bin/python3)'에서 찾을 수 없으므로 'Jupyter 서버를 시작하지 못했습니다. \n",
      "\u001b[1;31m자세한 내용은 Jupyter <a href='command:jupyter.viewOutput'>로그</a>를 참조하세요."
     ]
    }
   ],
   "source": [
    "for i in emp.index:\n",
    "    if emp.loc[i, 'SAL'] >= 2000 :\n",
    "        emp.loc[i, 'H/L'] = 'High'\n",
    "    else:\n",
    "        emp.loc[i, 'H/L'] = 'Low'"
   ]
  },
  {
   "cell_type": "code",
   "execution_count": null,
   "metadata": {},
   "outputs": [
    {
     "ename": "",
     "evalue": "",
     "output_type": "error",
     "traceback": [
      "\u001b[1;31m커널을 시작하지 못했습니다. \n",
      "\u001b[1;31m'jupyter' 및 'notebook 패키지를 Python 환경 ' Python 3.9.6 64-bit (/usr/bin/python3)'에서 찾을 수 없으므로 'Jupyter 서버를 시작하지 못했습니다. \n",
      "\u001b[1;31m자세한 내용은 Jupyter <a href='command:jupyter.viewOutput'>로그</a>를 참조하세요."
     ]
    }
   ],
   "source": [
    "emp['H/L'] = emp['SAL'].apply(lambda x : 'High' if (x >= 2000) else 'Low')"
   ]
  },
  {
   "cell_type": "code",
   "execution_count": null,
   "metadata": {},
   "outputs": [
    {
     "ename": "",
     "evalue": "",
     "output_type": "error",
     "traceback": [
      "\u001b[1;31m커널을 시작하지 못했습니다. \n",
      "\u001b[1;31m'jupyter' 및 'notebook 패키지를 Python 환경 ' Python 3.9.6 64-bit (/usr/bin/python3)'에서 찾을 수 없으므로 'Jupyter 서버를 시작하지 못했습니다. \n",
      "\u001b[1;31m자세한 내용은 Jupyter <a href='command:jupyter.viewOutput'>로그</a>를 참조하세요."
     ]
    }
   ],
   "source": [
    "def change (x):\n",
    "    if x >= 2000:\n",
    "        result = 'High'\n",
    "    else:\n",
    "        result = 'Low'\n",
    "    return result\n",
    "\n",
    "emp['H/L'] = emp['SAL'].apply(change)\n",
    "emp"
   ]
  },
  {
   "cell_type": "code",
   "execution_count": null,
   "metadata": {},
   "outputs": [
    {
     "ename": "",
     "evalue": "",
     "output_type": "error",
     "traceback": [
      "\u001b[1;31m커널을 시작하지 못했습니다. \n",
      "\u001b[1;31m'jupyter' 및 'notebook 패키지를 Python 환경 ' Python 3.9.6 64-bit (/usr/bin/python3)'에서 찾을 수 없으므로 'Jupyter 서버를 시작하지 못했습니다. \n",
      "\u001b[1;31m자세한 내용은 Jupyter <a href='command:jupyter.viewOutput'>로그</a>를 참조하세요."
     ]
    }
   ],
   "source": [
    "sql = \"\"\"\n",
    "    select\n",
    "    `EMPNO`,\n",
    "    `ENAME`,\n",
    "    `SAL`,\n",
    "    CASE\n",
    "        WHEN `SAL` >= 2000\n",
    "        THEN 'High'\n",
    "        ELSE 'Low'\n",
    "    END as 'H/L'\n",
    "    from\n",
    "    emp\n",
    "\"\"\"\n",
    "\n",
    "db.sql_query(sql)"
   ]
  },
  {
   "cell_type": "code",
   "execution_count": null,
   "metadata": {},
   "outputs": [
    {
     "ename": "",
     "evalue": "",
     "output_type": "error",
     "traceback": [
      "\u001b[1;31m커널을 시작하지 못했습니다. \n",
      "\u001b[1;31m'jupyter' 및 'notebook 패키지를 Python 환경 ' Python 3.9.6 64-bit (/usr/bin/python3)'에서 찾을 수 없으므로 'Jupyter 서버를 시작하지 못했습니다. \n",
      "\u001b[1;31m자세한 내용은 Jupyter <a href='command:jupyter.viewOutput'>로그</a>를 참조하세요."
     ]
    }
   ],
   "source": [
    "sql = \"\"\"\n",
    "    select\n",
    "    `EMPNO`,\n",
    "    `ENAME`,\n",
    "    `SAL`,\n",
    "    if(\n",
    "        `SAL` >= 2000,\n",
    "        'High',\n",
    "        'Low'\n",
    "    )as 'H/L'\n",
    "    from\n",
    "    emp \n",
    "\"\"\"\n",
    "db.sql_query(sql)"
   ]
  },
  {
   "attachments": {},
   "cell_type": "markdown",
   "metadata": {},
   "source": [
    "### join\n",
    "1. emp 와 dept 테이블 결합"
   ]
  },
  {
   "cell_type": "code",
   "execution_count": null,
   "metadata": {},
   "outputs": [
    {
     "ename": "",
     "evalue": "",
     "output_type": "error",
     "traceback": [
      "\u001b[1;31m커널을 시작하지 못했습니다. \n",
      "\u001b[1;31m'jupyter' 및 'notebook 패키지를 Python 환경 ' Python 3.9.6 64-bit (/usr/bin/python3)'에서 찾을 수 없으므로 'Jupyter 서버를 시작하지 못했습니다. \n",
      "\u001b[1;31m자세한 내용은 Jupyter <a href='command:jupyter.viewOutput'>로그</a>를 참조하세요."
     ]
    }
   ],
   "source": [
    "sql = \"\"\"\n",
    "    select\n",
    "    *\n",
    "    from\n",
    "    emp\n",
    "    left join\n",
    "    dept\n",
    "    on\n",
    "    emp.DEPTNO = dept.DEPTNO\n",
    "\"\"\"\n",
    "\n",
    "db.sql_query(sql)"
   ]
  },
  {
   "cell_type": "code",
   "execution_count": null,
   "metadata": {},
   "outputs": [
    {
     "ename": "",
     "evalue": "",
     "output_type": "error",
     "traceback": [
      "\u001b[1;31m커널을 시작하지 못했습니다. \n",
      "\u001b[1;31m'jupyter' 및 'notebook 패키지를 Python 환경 ' Python 3.9.6 64-bit (/usr/bin/python3)'에서 찾을 수 없으므로 'Jupyter 서버를 시작하지 못했습니다. \n",
      "\u001b[1;31m자세한 내용은 Jupyter <a href='command:jupyter.viewOutput'>로그</a>를 참조하세요."
     ]
    }
   ],
   "source": [
    "sql = \"\"\"\n",
    "    select\n",
    "    emp.EMPNO,\n",
    "    emp.ENAME,\n",
    "    emp.DEPTNO,\n",
    "    dept.DNAME,\n",
    "    dept.LOC\n",
    "    from\n",
    "    emp\n",
    "    left join\n",
    "    dept\n",
    "    on\n",
    "    emp.DEPTNO = dept.DEPTNO\n",
    "\"\"\"\n",
    "\n",
    "db.sql_query(sql)"
   ]
  },
  {
   "cell_type": "code",
   "execution_count": null,
   "metadata": {},
   "outputs": [
    {
     "ename": "",
     "evalue": "",
     "output_type": "error",
     "traceback": [
      "\u001b[1;31m커널을 시작하지 못했습니다. \n",
      "\u001b[1;31m'jupyter' 및 'notebook 패키지를 Python 환경 ' Python 3.9.6 64-bit (/usr/bin/python3)'에서 찾을 수 없으므로 'Jupyter 서버를 시작하지 못했습니다. \n",
      "\u001b[1;31m자세한 내용은 Jupyter <a href='command:jupyter.viewOutput'>로그</a>를 참조하세요."
     ]
    }
   ],
   "source": [
    "pd.merge(emp, dept, on='DEPTNO', how='left')\n"
   ]
  },
  {
   "cell_type": "code",
   "execution_count": null,
   "metadata": {},
   "outputs": [
    {
     "ename": "",
     "evalue": "",
     "output_type": "error",
     "traceback": [
      "\u001b[1;31m커널을 시작하지 못했습니다. \n",
      "\u001b[1;31m'jupyter' 및 'notebook 패키지를 Python 환경 ' Python 3.9.6 64-bit (/usr/bin/python3)'에서 찾을 수 없으므로 'Jupyter 서버를 시작하지 못했습니다. \n",
      "\u001b[1;31m자세한 내용은 Jupyter <a href='command:jupyter.viewOutput'>로그</a>를 참조하세요."
     ]
    }
   ],
   "source": [
    "pd.merge(emp, dept, on='DEPTNO', how='right')"
   ]
  },
  {
   "attachments": {},
   "cell_type": "markdown",
   "metadata": {},
   "source": [
    "### 문제\n",
    "- 부서의 위치가 'NEW YORK', 'DALLAS'가 아닌 소속 사원의 정보를 출력"
   ]
  },
  {
   "cell_type": "code",
   "execution_count": null,
   "metadata": {},
   "outputs": [
    {
     "ename": "",
     "evalue": "",
     "output_type": "error",
     "traceback": [
      "\u001b[1;31m커널을 시작하지 못했습니다. \n",
      "\u001b[1;31m'jupyter' 및 'notebook 패키지를 Python 환경 ' Python 3.9.6 64-bit (/usr/bin/python3)'에서 찾을 수 없으므로 'Jupyter 서버를 시작하지 못했습니다. \n",
      "\u001b[1;31m자세한 내용은 Jupyter <a href='command:jupyter.viewOutput'>로그</a>를 참조하세요."
     ]
    }
   ],
   "source": [
    "sql = \"\"\"\n",
    "    select\n",
    "    *\n",
    "    from\n",
    "    dept\n",
    "    where\n",
    "    `LOC` not in ('NEW YORK', 'DALLAS')\n",
    "\"\"\"\n",
    "\n",
    "db.sql_query(sql)"
   ]
  },
  {
   "cell_type": "code",
   "execution_count": null,
   "metadata": {},
   "outputs": [
    {
     "ename": "",
     "evalue": "",
     "output_type": "error",
     "traceback": [
      "\u001b[1;31m커널을 시작하지 못했습니다. \n",
      "\u001b[1;31m'jupyter' 및 'notebook 패키지를 Python 환경 ' Python 3.9.6 64-bit (/usr/bin/python3)'에서 찾을 수 없으므로 'Jupyter 서버를 시작하지 못했습니다. \n",
      "\u001b[1;31m자세한 내용은 Jupyter <a href='command:jupyter.viewOutput'>로그</a>를 참조하세요."
     ]
    }
   ],
   "source": [
    "sql = \"\"\"\n",
    "    select\n",
    "    *\n",
    "    from\n",
    "    dept\n",
    "    where\n",
    "    LOC != 'DALLAS' AND LOC != 'NEW YORK'\n",
    "\"\"\"\n",
    "db.sql_query(sql)"
   ]
  },
  {
   "cell_type": "code",
   "execution_count": null,
   "metadata": {},
   "outputs": [
    {
     "ename": "",
     "evalue": "",
     "output_type": "error",
     "traceback": [
      "\u001b[1;31m커널을 시작하지 못했습니다. \n",
      "\u001b[1;31m'jupyter' 및 'notebook 패키지를 Python 환경 ' Python 3.9.6 64-bit (/usr/bin/python3)'에서 찾을 수 없으므로 'Jupyter 서버를 시작하지 못했습니다. \n",
      "\u001b[1;31m자세한 내용은 Jupyter <a href='command:jupyter.viewOutput'>로그</a>를 참조하세요."
     ]
    }
   ],
   "source": [
    "sql = \"\"\"\n",
    "    select\n",
    "    *\n",
    "    from\n",
    "    emp\n",
    "    where\n",
    "    DEPTNO = 30\n",
    "    OR\n",
    "    DEPTNO = 40\n",
    "\"\"\"\n",
    "\n",
    "db.sql_query(sql)"
   ]
  },
  {
   "cell_type": "code",
   "execution_count": null,
   "metadata": {},
   "outputs": [
    {
     "ename": "",
     "evalue": "",
     "output_type": "error",
     "traceback": [
      "\u001b[1;31m커널을 시작하지 못했습니다. \n",
      "\u001b[1;31m'jupyter' 및 'notebook 패키지를 Python 환경 ' Python 3.9.6 64-bit (/usr/bin/python3)'에서 찾을 수 없으므로 'Jupyter 서버를 시작하지 못했습니다. \n",
      "\u001b[1;31m자세한 내용은 Jupyter <a href='command:jupyter.viewOutput'>로그</a>를 참조하세요."
     ]
    }
   ],
   "source": [
    "sql = \"\"\"\n",
    "    select\n",
    "    *\n",
    "    from\n",
    "    emp\n",
    "    where\n",
    "    DEPTNO in (30, 40)\n",
    "\"\"\"\n",
    "\n",
    "db.sql_query(sql)"
   ]
  },
  {
   "cell_type": "code",
   "execution_count": null,
   "metadata": {},
   "outputs": [
    {
     "ename": "",
     "evalue": "",
     "output_type": "error",
     "traceback": [
      "\u001b[1;31m커널을 시작하지 못했습니다. \n",
      "\u001b[1;31m'jupyter' 및 'notebook 패키지를 Python 환경 ' Python 3.9.6 64-bit (/usr/bin/python3)'에서 찾을 수 없으므로 'Jupyter 서버를 시작하지 못했습니다. \n",
      "\u001b[1;31m자세한 내용은 Jupyter <a href='command:jupyter.viewOutput'>로그</a>를 참조하세요."
     ]
    }
   ],
   "source": [
    "sql = \"\"\"\n",
    "    select\n",
    "    *\n",
    "    from\n",
    "    emp\n",
    "    where\n",
    "    DEPTNO in (\n",
    "        select\n",
    "        DEPTNO\n",
    "        from\n",
    "        dept\n",
    "        where\n",
    "        LOC not in ('NEW YORK', 'DALLAS')\n",
    ")\"\"\"\n",
    "\n",
    "db.sql_query(sql)"
   ]
  },
  {
   "cell_type": "code",
   "execution_count": null,
   "metadata": {},
   "outputs": [
    {
     "ename": "",
     "evalue": "",
     "output_type": "error",
     "traceback": [
      "\u001b[1;31m커널을 시작하지 못했습니다. \n",
      "\u001b[1;31m'jupyter' 및 'notebook 패키지를 Python 환경 ' Python 3.9.6 64-bit (/usr/bin/python3)'에서 찾을 수 없으므로 'Jupyter 서버를 시작하지 못했습니다. \n",
      "\u001b[1;31m자세한 내용은 Jupyter <a href='command:jupyter.viewOutput'>로그</a>를 참조하세요."
     ]
    }
   ],
   "source": [
    "sql = \"\"\"\n",
    "    select\n",
    "    *\n",
    "    from\n",
    "    emp\n",
    "    left join\n",
    "    dept on\n",
    "    emp.DEPTNO = dept.DEPTNO\n",
    "    where\n",
    "    LOC not in('NEW YORK', 'DALLAS'\n",
    ")\"\"\"\n",
    "\n",
    "db.sql_query(sql)"
   ]
  },
  {
   "attachments": {},
   "cell_type": "markdown",
   "metadata": {},
   "source": [
    "### 테이블의 결합\n",
    "1. 유니언 결합(단순하게 행을 결합)\n",
    "2. 조인 결합"
   ]
  },
  {
   "cell_type": "code",
   "execution_count": null,
   "metadata": {},
   "outputs": [
    {
     "ename": "",
     "evalue": "",
     "output_type": "error",
     "traceback": [
      "\u001b[1;31m커널을 시작하지 못했습니다. \n",
      "\u001b[1;31m'jupyter' 및 'notebook 패키지를 Python 환경 ' Python 3.9.6 64-bit (/usr/bin/python3)'에서 찾을 수 없으므로 'Jupyter 서버를 시작하지 못했습니다. \n",
      "\u001b[1;31m자세한 내용은 Jupyter <a href='command:jupyter.viewOutput'>로그</a>를 참조하세요."
     ]
    }
   ],
   "source": [
    "sql = \"\"\"\n",
    "    select\n",
    "    *\n",
    "    from\n",
    "    tran_1\n",
    "\"\"\"\n",
    "db.sql_query(sql)"
   ]
  },
  {
   "cell_type": "code",
   "execution_count": null,
   "metadata": {},
   "outputs": [
    {
     "ename": "",
     "evalue": "",
     "output_type": "error",
     "traceback": [
      "\u001b[1;31m커널을 시작하지 못했습니다. \n",
      "\u001b[1;31m'jupyter' 및 'notebook 패키지를 Python 환경 ' Python 3.9.6 64-bit (/usr/bin/python3)'에서 찾을 수 없으므로 'Jupyter 서버를 시작하지 못했습니다. \n",
      "\u001b[1;31m자세한 내용은 Jupyter <a href='command:jupyter.viewOutput'>로그</a>를 참조하세요."
     ]
    }
   ],
   "source": [
    "sql = \"\"\"\n",
    "    select\n",
    "    *\n",
    "    from\n",
    "    tran_2\n",
    "\"\"\"\n",
    "db.sql_query(sql)"
   ]
  },
  {
   "cell_type": "code",
   "execution_count": null,
   "metadata": {},
   "outputs": [
    {
     "ename": "",
     "evalue": "",
     "output_type": "error",
     "traceback": [
      "\u001b[1;31m커널을 시작하지 못했습니다. \n",
      "\u001b[1;31m'jupyter' 및 'notebook 패키지를 Python 환경 ' Python 3.9.6 64-bit (/usr/bin/python3)'에서 찾을 수 없으므로 'Jupyter 서버를 시작하지 못했습니다. \n",
      "\u001b[1;31m자세한 내용은 Jupyter <a href='command:jupyter.viewOutput'>로그</a>를 참조하세요."
     ]
    }
   ],
   "source": [
    "sql = \"\"\"\n",
    "    select\n",
    "    *\n",
    "    from\n",
    "    tran_1\n",
    "    union\n",
    "    select\n",
    "    *\n",
    "    from\n",
    "    tran_2\n",
    "\"\"\"\n",
    "db.sql_query(sql)"
   ]
  },
  {
   "cell_type": "code",
   "execution_count": null,
   "metadata": {},
   "outputs": [
    {
     "ename": "",
     "evalue": "",
     "output_type": "error",
     "traceback": [
      "\u001b[1;31m커널을 시작하지 못했습니다. \n",
      "\u001b[1;31m'jupyter' 및 'notebook 패키지를 Python 환경 ' Python 3.9.6 64-bit (/usr/bin/python3)'에서 찾을 수 없으므로 'Jupyter 서버를 시작하지 못했습니다. \n",
      "\u001b[1;31m자세한 내용은 Jupyter <a href='command:jupyter.viewOutput'>로그</a>를 참조하세요."
     ]
    }
   ],
   "source": [
    "sql = \"\"\"\n",
    "    select\n",
    "    *\n",
    "    from\n",
    "    tran_d_1\n",
    "    union\n",
    "    select\n",
    "    *\n",
    "    from\n",
    "    tran_d_2\n",
    "\"\"\"\n",
    "db.sql_query(sql)"
   ]
  },
  {
   "cell_type": "code",
   "execution_count": null,
   "metadata": {},
   "outputs": [
    {
     "ename": "",
     "evalue": "",
     "output_type": "error",
     "traceback": [
      "\u001b[1;31m커널을 시작하지 못했습니다. \n",
      "\u001b[1;31m'jupyter' 및 'notebook 패키지를 Python 환경 ' Python 3.9.6 64-bit (/usr/bin/python3)'에서 찾을 수 없으므로 'Jupyter 서버를 시작하지 못했습니다. \n",
      "\u001b[1;31m자세한 내용은 Jupyter <a href='command:jupyter.viewOutput'>로그</a>를 참조하세요."
     ]
    }
   ],
   "source": [
    "sql = \"\"\"\n",
    "    select\n",
    "    *\n",
    "    from\n",
    "    tran_1\n",
    "    left join\n",
    "    tran_d_1\n",
    "    on tran_1.transaction_id = tran_d_1.transaction_id\n",
    "\"\"\"\n",
    "db.sql_query(sql)"
   ]
  },
  {
   "cell_type": "code",
   "execution_count": null,
   "metadata": {},
   "outputs": [
    {
     "ename": "",
     "evalue": "",
     "output_type": "error",
     "traceback": [
      "\u001b[1;31m커널을 시작하지 못했습니다. \n",
      "\u001b[1;31m'jupyter' 및 'notebook 패키지를 Python 환경 ' Python 3.9.6 64-bit (/usr/bin/python3)'에서 찾을 수 없으므로 'Jupyter 서버를 시작하지 못했습니다. \n",
      "\u001b[1;31m자세한 내용은 Jupyter <a href='command:jupyter.viewOutput'>로그</a>를 참조하세요."
     ]
    }
   ],
   "source": [
    "sql = \"\"\"\n",
    "    select * from\n",
    "    (select * from tran_1\n",
    "    union\n",
    "    select * from tran_2) as tran\n",
    "    left join\n",
    "    (select * from tran_d_1\n",
    "    union\n",
    "    select * from tran_d_2) as tran_d\n",
    "    on tran.transaction_id = tran_d.transaction_id\n",
    "\"\"\"\n",
    "\n",
    "db.sql_query(sql)"
   ]
  },
  {
   "cell_type": "code",
   "execution_count": null,
   "metadata": {},
   "outputs": [
    {
     "ename": "",
     "evalue": "",
     "output_type": "error",
     "traceback": [
      "\u001b[1;31m커널을 시작하지 못했습니다. \n",
      "\u001b[1;31m'jupyter' 및 'notebook 패키지를 Python 환경 ' Python 3.9.6 64-bit (/usr/bin/python3)'에서 찾을 수 없으므로 'Jupyter 서버를 시작하지 못했습니다. \n",
      "\u001b[1;31m자세한 내용은 Jupyter <a href='command:jupyter.viewOutput'>로그</a>를 참조하세요."
     ]
    }
   ],
   "source": [
    "tran1 = pd.read_csv('../csv/tran_1.csv')\n",
    "tran2 = pd.read_csv('../csv/tran_2.csv')\n",
    "tran_d1 = pd.read_csv('../csv/tran_d_1.csv')\n",
    "tran_d2 = pd.read_csv('../csv/tran_d_2.csv')"
   ]
  },
  {
   "cell_type": "code",
   "execution_count": null,
   "metadata": {},
   "outputs": [
    {
     "ename": "",
     "evalue": "",
     "output_type": "error",
     "traceback": [
      "\u001b[1;31m커널을 시작하지 못했습니다. \n",
      "\u001b[1;31m'jupyter' 및 'notebook 패키지를 Python 환경 ' Python 3.9.6 64-bit (/usr/bin/python3)'에서 찾을 수 없으므로 'Jupyter 서버를 시작하지 못했습니다. \n",
      "\u001b[1;31m자세한 내용은 Jupyter <a href='command:jupyter.viewOutput'>로그</a>를 참조하세요."
     ]
    }
   ],
   "source": [
    "df = pd.concat([tran1, tran2], axis=0)"
   ]
  },
  {
   "cell_type": "code",
   "execution_count": null,
   "metadata": {},
   "outputs": [
    {
     "ename": "",
     "evalue": "",
     "output_type": "error",
     "traceback": [
      "\u001b[1;31m커널을 시작하지 못했습니다. \n",
      "\u001b[1;31m'jupyter' 및 'notebook 패키지를 Python 환경 ' Python 3.9.6 64-bit (/usr/bin/python3)'에서 찾을 수 없으므로 'Jupyter 서버를 시작하지 못했습니다. \n",
      "\u001b[1;31m자세한 내용은 Jupyter <a href='command:jupyter.viewOutput'>로그</a>를 참조하세요."
     ]
    }
   ],
   "source": [
    "df2 = pd.concat([tran_d1, tran_d2], axis=0)"
   ]
  },
  {
   "cell_type": "code",
   "execution_count": null,
   "metadata": {},
   "outputs": [
    {
     "ename": "",
     "evalue": "",
     "output_type": "error",
     "traceback": [
      "\u001b[1;31m커널을 시작하지 못했습니다. \n",
      "\u001b[1;31m'jupyter' 및 'notebook 패키지를 Python 환경 ' Python 3.9.6 64-bit (/usr/bin/python3)'에서 찾을 수 없으므로 'Jupyter 서버를 시작하지 못했습니다. \n",
      "\u001b[1;31m자세한 내용은 Jupyter <a href='command:jupyter.viewOutput'>로그</a>를 참조하세요."
     ]
    }
   ],
   "source": [
    "df3 = pd.merge(df, df2, left_on = 'transaction_id', right_on = 'transaction_id', how = 'left')"
   ]
  },
  {
   "cell_type": "code",
   "execution_count": null,
   "metadata": {},
   "outputs": [
    {
     "ename": "",
     "evalue": "",
     "output_type": "error",
     "traceback": [
      "\u001b[1;31m커널을 시작하지 못했습니다. \n",
      "\u001b[1;31m'jupyter' 및 'notebook 패키지를 Python 환경 ' Python 3.9.6 64-bit (/usr/bin/python3)'에서 찾을 수 없으므로 'Jupyter 서버를 시작하지 못했습니다. \n",
      "\u001b[1;31m자세한 내용은 Jupyter <a href='command:jupyter.viewOutput'>로그</a>를 참조하세요."
     ]
    }
   ],
   "source": [
    "df3"
   ]
  },
  {
   "attachments": {},
   "cell_type": "markdown",
   "metadata": {},
   "source": [
    "### 문자열이 포함되어 있는 경우 출력"
   ]
  },
  {
   "cell_type": "code",
   "execution_count": null,
   "metadata": {},
   "outputs": [
    {
     "ename": "",
     "evalue": "",
     "output_type": "error",
     "traceback": [
      "\u001b[1;31m커널을 시작하지 못했습니다. \n",
      "\u001b[1;31m'jupyter' 및 'notebook 패키지를 Python 환경 ' Python 3.9.6 64-bit (/usr/bin/python3)'에서 찾을 수 없으므로 'Jupyter 서버를 시작하지 못했습니다. \n",
      "\u001b[1;31m자세한 내용은 Jupyter <a href='command:jupyter.viewOutput'>로그</a>를 참조하세요."
     ]
    }
   ],
   "source": [
    "sql = \"\"\"\n",
    "    select\n",
    "    *\n",
    "    from\n",
    "    emp\n",
    "    where\n",
    "    ENAME like '%%S%%'\n",
    "\"\"\"\n",
    "\n",
    "db.sql_query(sql)"
   ]
  },
  {
   "attachments": {},
   "cell_type": "markdown",
   "metadata": {},
   "source": [
    "1. pandas 이용하여 emp.csv에서 ENAME이 S로 시작하는 데이터를 출력\n",
    "2. s로 끝나는 데이터를 출력\n",
    "3. s가 포함되어 있는 데이터를 출력"
   ]
  },
  {
   "cell_type": "code",
   "execution_count": null,
   "metadata": {},
   "outputs": [
    {
     "ename": "",
     "evalue": "",
     "output_type": "error",
     "traceback": [
      "\u001b[1;31m커널을 시작하지 못했습니다. \n",
      "\u001b[1;31m'jupyter' 및 'notebook 패키지를 Python 환경 ' Python 3.9.6 64-bit (/usr/bin/python3)'에서 찾을 수 없으므로 'Jupyter 서버를 시작하지 못했습니다. \n",
      "\u001b[1;31m자세한 내용은 Jupyter <a href='command:jupyter.viewOutput'>로그</a>를 참조하세요."
     ]
    }
   ],
   "source": [
    "# case1\n",
    "emp[emp['ENAME'].str.startswith('S')]"
   ]
  },
  {
   "cell_type": "code",
   "execution_count": null,
   "metadata": {},
   "outputs": [
    {
     "ename": "",
     "evalue": "",
     "output_type": "error",
     "traceback": [
      "\u001b[1;31m커널을 시작하지 못했습니다. \n",
      "\u001b[1;31m'jupyter' 및 'notebook 패키지를 Python 환경 ' Python 3.9.6 64-bit (/usr/bin/python3)'에서 찾을 수 없으므로 'Jupyter 서버를 시작하지 못했습니다. \n",
      "\u001b[1;31m자세한 내용은 Jupyter <a href='command:jupyter.viewOutput'>로그</a>를 참조하세요."
     ]
    }
   ],
   "source": [
    "# case2\n",
    "data = pd.DataFrame()\n",
    "for i in emp.index:\n",
    "    if emp.loc[i, 'ENAME'].startswith('S'):\n",
    "        data = pd.concat([data, emp.loc[[i]]])\n",
    "\n",
    "data"
   ]
  },
  {
   "cell_type": "code",
   "execution_count": null,
   "metadata": {},
   "outputs": [
    {
     "ename": "",
     "evalue": "",
     "output_type": "error",
     "traceback": [
      "\u001b[1;31m커널을 시작하지 못했습니다. \n",
      "\u001b[1;31m'jupyter' 및 'notebook 패키지를 Python 환경 ' Python 3.9.6 64-bit (/usr/bin/python3)'에서 찾을 수 없으므로 'Jupyter 서버를 시작하지 못했습니다. \n",
      "\u001b[1;31m자세한 내용은 Jupyter <a href='command:jupyter.viewOutput'>로그</a>를 참조하세요."
     ]
    }
   ],
   "source": [
    "#case3\n",
    "_list = []\n",
    "for i in emp.index:\n",
    "    if emp.loc[i, 'ENAME'].startswith('S'):\n",
    "        _list.append(i)\n",
    "\n",
    "emp.loc[_list]"
   ]
  },
  {
   "cell_type": "code",
   "execution_count": null,
   "metadata": {},
   "outputs": [
    {
     "ename": "",
     "evalue": "",
     "output_type": "error",
     "traceback": [
      "\u001b[1;31m커널을 시작하지 못했습니다. \n",
      "\u001b[1;31m'jupyter' 및 'notebook 패키지를 Python 환경 ' Python 3.9.6 64-bit (/usr/bin/python3)'에서 찾을 수 없으므로 'Jupyter 서버를 시작하지 못했습니다. \n",
      "\u001b[1;31m자세한 내용은 Jupyter <a href='command:jupyter.viewOutput'>로그</a>를 참조하세요."
     ]
    }
   ],
   "source": [
    "emp[emp['ENAME'].str.endswith('S')]"
   ]
  },
  {
   "cell_type": "code",
   "execution_count": null,
   "metadata": {},
   "outputs": [
    {
     "ename": "",
     "evalue": "",
     "output_type": "error",
     "traceback": [
      "\u001b[1;31m커널을 시작하지 못했습니다. \n",
      "\u001b[1;31m'jupyter' 및 'notebook 패키지를 Python 환경 ' Python 3.9.6 64-bit (/usr/bin/python3)'에서 찾을 수 없으므로 'Jupyter 서버를 시작하지 못했습니다. \n",
      "\u001b[1;31m자세한 내용은 Jupyter <a href='command:jupyter.viewOutput'>로그</a>를 참조하세요."
     ]
    }
   ],
   "source": [
    "emp.loc[emp['ENAME'].apply(lambda x : x.find('S') == len(x)-1)]"
   ]
  },
  {
   "cell_type": "code",
   "execution_count": null,
   "metadata": {},
   "outputs": [
    {
     "ename": "",
     "evalue": "",
     "output_type": "error",
     "traceback": [
      "\u001b[1;31m커널을 시작하지 못했습니다. \n",
      "\u001b[1;31m'jupyter' 및 'notebook 패키지를 Python 환경 ' Python 3.9.6 64-bit (/usr/bin/python3)'에서 찾을 수 없으므로 'Jupyter 서버를 시작하지 못했습니다. \n",
      "\u001b[1;31m자세한 내용은 Jupyter <a href='command:jupyter.viewOutput'>로그</a>를 참조하세요."
     ]
    }
   ],
   "source": [
    "emp[emp['ENAME'].str.contains('S')]"
   ]
  },
  {
   "cell_type": "code",
   "execution_count": null,
   "metadata": {},
   "outputs": [
    {
     "ename": "",
     "evalue": "",
     "output_type": "error",
     "traceback": [
      "\u001b[1;31m커널을 시작하지 못했습니다. \n",
      "\u001b[1;31m'jupyter' 및 'notebook 패키지를 Python 환경 ' Python 3.9.6 64-bit (/usr/bin/python3)'에서 찾을 수 없으므로 'Jupyter 서버를 시작하지 못했습니다. \n",
      "\u001b[1;31m자세한 내용은 Jupyter <a href='command:jupyter.viewOutput'>로그</a>를 참조하세요."
     ]
    }
   ],
   "source": [
    "emp.loc[emp['ENAME'].apply(lambda x : x.find('S') != -1)]"
   ]
  },
  {
   "cell_type": "code",
   "execution_count": null,
   "metadata": {},
   "outputs": [
    {
     "ename": "",
     "evalue": "",
     "output_type": "error",
     "traceback": [
      "\u001b[1;31m커널을 시작하지 못했습니다. \n",
      "\u001b[1;31m'jupyter' 및 'notebook 패키지를 Python 환경 ' Python 3.9.6 64-bit (/usr/bin/python3)'에서 찾을 수 없으므로 'Jupyter 서버를 시작하지 못했습니다. \n",
      "\u001b[1;31m자세한 내용은 Jupyter <a href='command:jupyter.viewOutput'>로그</a>를 참조하세요."
     ]
    }
   ],
   "source": [
    "emp.loc[emp['ENAME'].apply(lambda x: ('S' in x))]"
   ]
  },
  {
   "cell_type": "code",
   "execution_count": null,
   "metadata": {},
   "outputs": [
    {
     "ename": "",
     "evalue": "",
     "output_type": "error",
     "traceback": [
      "\u001b[1;31m커널을 시작하지 못했습니다. \n",
      "\u001b[1;31m'jupyter' 및 'notebook 패키지를 Python 환경 ' Python 3.9.6 64-bit (/usr/bin/python3)'에서 찾을 수 없으므로 'Jupyter 서버를 시작하지 못했습니다. \n",
      "\u001b[1;31m자세한 내용은 Jupyter <a href='command:jupyter.viewOutput'>로그</a>를 참조하세요."
     ]
    }
   ],
   "source": []
  }
 ],
 "metadata": {
  "kernelspec": {
   "display_name": "Python 3",
   "language": "python",
   "name": "python3"
  },
  "language_info": {
   "codemirror_mode": {
    "name": "ipython",
    "version": 3
   },
   "file_extension": ".py",
   "mimetype": "text/x-python",
   "name": "python",
   "nbconvert_exporter": "python",
   "pygments_lexer": "ipython3",
   "version": "3.9.6"
  },
  "orig_nbformat": 4
 },
 "nbformat": 4,
 "nbformat_minor": 2
}
