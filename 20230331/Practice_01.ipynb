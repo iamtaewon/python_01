{
 "cells": [
  {
   "attachments": {},
   "cell_type": "markdown",
   "metadata": {},
   "source": [
    "### 문제\n",
    "- 1부터 1000까지의 합을 구하는데 합계가 900이 넘어가는 최초의 숫자는 무엇인가?\n",
    "    1. 합계라는 변수를 하나 지정 0을 대입\n",
    "    2. for, while문을 사용하여 1부터 1000까지의 합계를 구하는 반복문 생성\n",
    "    3. 합계가 900이 넘어가는 순간 break\n",
    "    4. break 당시의 i 값을 출력"
   ]
  },
  {
   "cell_type": "code",
   "execution_count": 2,
   "metadata": {},
   "outputs": [
    {
     "name": "stdout",
     "output_type": "stream",
     "text": [
      "42\n",
      "903\n"
     ]
    }
   ],
   "source": [
    "sum_1 = 0\n",
    "for i in range(1,1001,1):\n",
    "    sum_1 += i\n",
    "    if sum_1 > 900:\n",
    "        break\n",
    "\n",
    "print(i)\n",
    "print(sum_1)"
   ]
  },
  {
   "cell_type": "code",
   "execution_count": 3,
   "metadata": {},
   "outputs": [
    {
     "name": "stdout",
     "output_type": "stream",
     "text": [
      "1414\n",
      "1000405\n"
     ]
    }
   ],
   "source": [
    "sum_2 = 0\n",
    "for i in range(1,100001,1):\n",
    "    sum_2 += i\n",
    "    if sum_2 > 1000000:\n",
    "        break\n",
    "\n",
    "print(i)\n",
    "print(sum_2)"
   ]
  },
  {
   "cell_type": "markdown",
   "metadata": {},
   "source": [
    "- 1부터 70까지 숫자들 중에 3의 배수를 리스트의 형태로 만들어서 출력\n",
    "    1. 비어있는 리스트를 하나 생성\n",
    "    2. 1부터 70까지 반복을 하는 반복문 생성\n",
    "    3. 1부터 70까지 항목들을 비어있는 리스트에 추가\n",
    "    4. 3의 배수인 값들만 리스트에 추가"
   ]
  },
  {
   "cell_type": "code",
   "execution_count": 4,
   "metadata": {},
   "outputs": [
    {
     "name": "stdout",
     "output_type": "stream",
     "text": [
      "[3, 6, 9, 12, 15, 18, 21, 24, 27, 30, 33, 36, 39, 42, 45, 48, 51, 54, 57, 60, 63, 66, 69]\n"
     ]
    }
   ],
   "source": [
    "_list = []\n",
    "for i in range(1,71,1):\n",
    "    if i % 3 == 0:\n",
    "        _list.append(i)\n",
    "\n",
    "print(_list)"
   ]
  },
  {
   "cell_type": "code",
   "execution_count": 5,
   "metadata": {},
   "outputs": [
    {
     "name": "stdout",
     "output_type": "stream",
     "text": [
      "[5, 10, 15, 20, 25, 30, 35, 40, 45, 50, 55, 60, 65, 70, 75, 80, 85, 90, 95, 100, 105, 110, 115, 120, 125, 130, 135, 140, 145, 150, 155, 160, 165, 170, 175, 180, 185, 190, 195, 200, 205, 210, 215, 220, 225, 230, 235, 240, 245, 250, 255, 260, 265, 270, 275, 280, 285, 290, 295, 300, 305, 310, 315, 320, 325, 330, 335, 340, 345, 350, 355, 360, 365, 370, 375, 380, 385, 390, 395, 400, 405, 410, 415, 420, 425, 430, 435, 440, 445, 450, 455, 460, 465, 470, 475, 480, 485, 490, 495, 500, 505, 510, 515, 520, 525, 530, 535, 540, 545, 550, 555, 560, 565, 570, 575, 580, 585, 590, 595, 600, 605, 610, 615, 620, 625, 630, 635, 640, 645, 650, 655, 660, 665, 670, 675, 680, 685, 690, 695, 700, 705, 710, 715, 720, 725, 730, 735, 740, 745, 750, 755, 760, 765, 770, 775, 780, 785, 790, 795, 800, 805, 810, 815, 820, 825, 830, 835, 840, 845, 850, 855, 860, 865, 870, 875, 880, 885, 890, 895, 900, 905, 910, 915, 920, 925, 930, 935, 940, 945, 950, 955, 960, 965, 970, 975, 980, 985, 990, 995, 1000]\n"
     ]
    }
   ],
   "source": [
    "_list00 = []\n",
    "for i in range(1,1001,1):\n",
    "    if i % 5 == 0:\n",
    "        _list00.append(i)\n",
    "\n",
    "print(_list00)"
   ]
  },
  {
   "attachments": {},
   "cell_type": "markdown",
   "metadata": {},
   "source": [
    "- test_data에서 연령대가 20대인 사람의 이름을 리스트로 출력하시오.\n",
    "    1. 비어있는 리스트를 생성\n",
    "    2. test_data의 항목들을 반복문을 이용하여 출력\n",
    "    3. 각 항목들의 나이를 출력\n",
    "    4. 조건을 생성하여 연령대가 20대인 항목을 출력\n",
    "    5. 20대인 항목에서 이름의 값만 출력\n",
    "    6. 해당하는 이름들을 리스트에 추가"
   ]
  },
  {
   "cell_type": "code",
   "execution_count": 6,
   "metadata": {},
   "outputs": [],
   "source": [
    "# DB와 Python을 연동하여 데이터를 받으면\n",
    "# 데이터의 형태 [{}, {}]\n",
    "\n",
    "# 테스트 데이터 생성\n",
    "test_data = [\n",
    "    {\n",
    "        \"name\" : \"박태원\",\n",
    "        \"age\" : 27,\n",
    "        \"area\" : \"Seoul\"\n",
    "    },\n",
    "    {\n",
    "        \"name\" : \"김정표\",\n",
    "        \"age\" : 25,\n",
    "        \"area\" : \"Seoul\"\n",
    "    },\n",
    "    {\n",
    "        \"name\" : \"정지영\",\n",
    "        \"age\" : 32,\n",
    "        \"area\" : \"Jeju\"\n",
    "    },\n",
    "    {\n",
    "        \"name\" : \"임예찬\",\n",
    "        \"age\" : 37,\n",
    "        \"area\" : \"Busan\"\n",
    "    },\n",
    "    {\n",
    "        \"name\" : \"류성열\",\n",
    "        \"age\" : 33,\n",
    "        \"area\" : \"Jeju\"\n",
    "    },\n",
    "    {\n",
    "        \"name\" : \"김치완\",\n",
    "        \"age\" : 22,\n",
    "        \"area\" : \"Seoul\"\n",
    "    },\n",
    "    {\n",
    "        \"name\" : \"장준호\",\n",
    "        \"age\" : 26,\n",
    "        \"area\" : \"Jeju\"\n",
    "    },\n",
    "    {\n",
    "        \"name\" : \"김현하\",\n",
    "        \"age\" : 24,\n",
    "        \"area\" : \"Busan\"\n",
    "    }\n",
    "]"
   ]
  },
  {
   "cell_type": "code",
   "execution_count": 7,
   "metadata": {},
   "outputs": [
    {
     "name": "stdout",
     "output_type": "stream",
     "text": [
      "['박태원', '김정표', '김치완', '장준호', '김현하']\n"
     ]
    }
   ],
   "source": [
    "freind = []\n",
    "\n",
    "for i in range(0, len(test_data), 1):\n",
    "    if test_data[i]['age'] >= 20 and test_data[i]['age'] < 30:\n",
    "        freind.append(test_data[i]['name'])\n",
    "\n",
    "print(freind)"
   ]
  },
  {
   "cell_type": "code",
   "execution_count": 8,
   "metadata": {},
   "outputs": [
    {
     "name": "stdout",
     "output_type": "stream",
     "text": [
      "['박태원', '김정표', '김치완', '장준호', '김현하']\n"
     ]
    }
   ],
   "source": [
    "_list01 = []\n",
    "\n",
    "for i in test_data:\n",
    "    if i['age'] >= 20 and i['age'] < 30:\n",
    "        _list01.append(i['name'])\n",
    "\n",
    "print(_list01)"
   ]
  },
  {
   "cell_type": "code",
   "execution_count": 9,
   "metadata": {},
   "outputs": [
    {
     "name": "stdout",
     "output_type": "stream",
     "text": [
      "['박태원', '김정표', '김치완']\n"
     ]
    }
   ],
   "source": [
    "_list02 = []\n",
    "for i in test_data:\n",
    "    if i['area'] == \"Seoul\":\n",
    "        _list02.append(i['name'])\n",
    "\n",
    "print(_list02)"
   ]
  },
  {
   "cell_type": "code",
   "execution_count": 10,
   "metadata": {},
   "outputs": [
    {
     "name": "stdout",
     "output_type": "stream",
     "text": [
      "['정지영', '임예찬', '류성열']\n"
     ]
    }
   ],
   "source": [
    "_list03 = []\n",
    "for i in test_data:\n",
    "    if i['age'] >= 30 and i['age'] < 40:\n",
    "        _list03.append(i['name'])\n",
    "\n",
    "print(_list03)"
   ]
  },
  {
   "cell_type": "code",
   "execution_count": 11,
   "metadata": {},
   "outputs": [
    {
     "name": "stdout",
     "output_type": "stream",
     "text": [
      "['정지영', '류성열', '장준호']\n"
     ]
    }
   ],
   "source": [
    "_list04 = []\n",
    "for i in test_data:\n",
    "    if i['area'] == \"Jeju\":\n",
    "        _list04.append(i['name'])\n",
    "\n",
    "print(_list04)"
   ]
  },
  {
   "cell_type": "code",
   "execution_count": 12,
   "metadata": {},
   "outputs": [
    {
     "name": "stdout",
     "output_type": "stream",
     "text": [
      "['임예찬', '김현하']\n"
     ]
    }
   ],
   "source": [
    "_list05 = []\n",
    "for i in test_data:\n",
    "    if i['area'] == \"Busan\":\n",
    "        _list05.append(i['name'])\n",
    "\n",
    "print(_list05)"
   ]
  },
  {
   "cell_type": "code",
   "execution_count": 13,
   "metadata": {},
   "outputs": [
    {
     "name": "stdout",
     "output_type": "stream",
     "text": [
      "['장준호']\n"
     ]
    }
   ],
   "source": [
    "_list06 = []\n",
    "for i in test_data:\n",
    "    if i['age'] >= 20 and i['age'] < 30 and i['area'] == \"Jeju\":\n",
    "        _list06.append(i['name'])\n",
    "\n",
    "print(_list06)"
   ]
  },
  {
   "cell_type": "code",
   "execution_count": 14,
   "metadata": {},
   "outputs": [
    {
     "name": "stdout",
     "output_type": "stream",
     "text": [
      "['정지영', '류성열']\n"
     ]
    }
   ],
   "source": [
    "_list07 = []\n",
    "for i in test_data:\n",
    "    if i['age'] >= 30 and i['age'] < 40 and i['area'] == \"Jeju\":\n",
    "        _list07.append(i['name'])\n",
    "\n",
    "print(_list07)"
   ]
  },
  {
   "cell_type": "code",
   "execution_count": 15,
   "metadata": {},
   "outputs": [
    {
     "name": "stdout",
     "output_type": "stream",
     "text": [
      "[{'name': '박태원', 'age': 27, 'area': 'Seoul'}]\n"
     ]
    }
   ],
   "source": [
    "_list08 = []\n",
    "\n",
    "for i in test_data:\n",
    "    if i['area'] == \"Seoul\" and i['age'] == 27:\n",
    "        _list08.append(i)\n",
    "\n",
    "print(_list08)"
   ]
  },
  {
   "cell_type": "code",
   "execution_count": 16,
   "metadata": {},
   "outputs": [
    {
     "name": "stdout",
     "output_type": "stream",
     "text": [
      "['박태원', '김정표', '정지영', '임예찬', '류성열', '김치완', '장준호', '김현하']\n"
     ]
    }
   ],
   "source": [
    "_list09 = []\n",
    "for i in test_data:\n",
    "    if i['age'] > 10 and i['age'] < 40:\n",
    "        _list09.append(i['name'])\n",
    "\n",
    "print(_list09)"
   ]
  },
  {
   "cell_type": "code",
   "execution_count": 18,
   "metadata": {},
   "outputs": [
    {
     "name": "stdout",
     "output_type": "stream",
     "text": [
      "['박태원', '김정표', '김치완']\n"
     ]
    }
   ],
   "source": [
    "_list10 = []\n",
    "for i in test_data:\n",
    "    if i['age'] >= 20 and i['age'] < 40 and i['area'] == \"Seoul\":\n",
    "        _list10.append(i['name'])\n",
    "    \n",
    "print(_list10)"
   ]
  },
  {
   "cell_type": "code",
   "execution_count": 19,
   "metadata": {},
   "outputs": [
    {
     "name": "stdout",
     "output_type": "stream",
     "text": [
      "['정지영', '류성열', '장준호']\n"
     ]
    }
   ],
   "source": [
    "_list11 = []\n",
    "for i in test_data:\n",
    "    if i['area'] == \"Jeju\":\n",
    "        _list11.append(i['name'])\n",
    "\n",
    "print(_list11)"
   ]
  },
  {
   "cell_type": "code",
   "execution_count": 21,
   "metadata": {},
   "outputs": [
    {
     "name": "stdout",
     "output_type": "stream",
     "text": [
      "['박태원', '김정표', '정지영', '임예찬', '류성열', '김치완', '장준호', '김현하']\n"
     ]
    }
   ],
   "source": [
    "_list12 = []\n",
    "for i in test_data:\n",
    "    if i['area'] == \"Seoul\" or i['area'] == \"Jeju\" or i['area'] == \"Busan\":\n",
    "        _list12.append(i['name'])\n",
    "\n",
    "print(_list12)"
   ]
  },
  {
   "cell_type": "code",
   "execution_count": null,
   "metadata": {},
   "outputs": [],
   "source": []
  }
 ],
 "metadata": {
  "kernelspec": {
   "display_name": "Python 3",
   "language": "python",
   "name": "python3"
  },
  "language_info": {
   "codemirror_mode": {
    "name": "ipython",
    "version": 3
   },
   "file_extension": ".py",
   "mimetype": "text/x-python",
   "name": "python",
   "nbconvert_exporter": "python",
   "pygments_lexer": "ipython3",
   "version": "3.11.2"
  },
  "orig_nbformat": 4
 },
 "nbformat": 4,
 "nbformat_minor": 2
}
