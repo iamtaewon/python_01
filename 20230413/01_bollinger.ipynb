{
 "cells": [
  {
   "attachments": {},
   "cell_type": "markdown",
   "metadata": {},
   "source": [
    "# 볼린저 밴드 함수화\n",
    "1. 첫번쨰 함수를 생성(매개변수 데이터프레임 하나)\n",
    "    1. 결측치와 이상치를 제거한다.\n",
    "    2. 컬럼을 종가만 남기고 모두 삭제\n",
    "    3. 이동평균선, 상단밴드, 하단밴드 파생변수 생성\n",
    "2. 두번쨰 함수를 생성(매개변수 데이터프레임 하나)\n",
    "    1. 거래 내역이라는 파생변수 생성 값은 ''\n",
    "    2. 볼린저 밴드의 거래 내역을 추가\n",
    "3. 세번째 함수를 생성(매개변수 데이터프레임 하나)\n",
    "    1. 수익율 파생변수 생성 값은 '1'\n",
    "    2. 판매를 한 날의 수익률 변경\n",
    "    3. 누적 수익율을 계산하여 새로운 파생변수를 생성\n",
    "    4. 최종 누적 수익율을 출력(print)"
   ]
  },
  {
   "cell_type": "code",
   "execution_count": 101,
   "metadata": {},
   "outputs": [],
   "source": [
    "import pandas as pd\n",
    "import numpy as np\n",
    "from datetime import datetime"
   ]
  },
  {
   "cell_type": "code",
   "execution_count": 115,
   "metadata": {},
   "outputs": [],
   "source": [
    "# 1번 함수 생성\n",
    "# 매개 변수 추가 \n",
    "def create_band(df, col, start, end):\n",
    "    # 인덱스를 시계열로 변경\n",
    "    df.index = pd.to_datetime(df.index)\n",
    "    # start, end를 시계열로 변경\n",
    "    start = datetime.strptime(start, '%Y%m%d').isoformat()\n",
    "    end = datetime.strptime(end, '%Y%m%d').isoformat()\n",
    "    # 데이터를 시작시간부터 종료 시간까지 필터\n",
    "    df = df.loc[start:end]\n",
    "    # 결측치와 이상치를 제거 \n",
    "    df = df.loc[~df.isin([np.nan, np.inf, -np.inf]).any(axis='columns'), [col]]\n",
    "    # 수정 종가 컬럼을 제외한 데이터프레임 생성\n",
    "    # df = df[[col]]\n",
    "    # 이동 평균선 생성\n",
    "    df['center'] = df.rolling(20).mean()\n",
    "    # 상단 밴드 생성\n",
    "    df['ub'] = df['center'] + ( 2 * df[col].rolling(20).std() )\n",
    "    # 하단 밴드 생성\n",
    "    df['lb'] = df['center'] - ( 2 * df[col].rolling(20).std() )\n",
    "    # 결과를 리턴\n",
    "    return df"
   ]
  },
  {
   "cell_type": "code",
   "execution_count": 116,
   "metadata": {},
   "outputs": [],
   "source": [
    "load_data = pd.read_csv(\"../csv/GM.csv\", index_col='Date')"
   ]
  },
  {
   "cell_type": "code",
   "execution_count": 114,
   "metadata": {},
   "outputs": [],
   "source": [
    "data = create_band(load_data, 'Close', '20110101', '20150101')"
   ]
  },
  {
   "cell_type": "code",
   "execution_count": 129,
   "metadata": {},
   "outputs": [
    {
     "data": {
      "text/html": [
       "<div>\n",
       "<style scoped>\n",
       "    .dataframe tbody tr th:only-of-type {\n",
       "        vertical-align: middle;\n",
       "    }\n",
       "\n",
       "    .dataframe tbody tr th {\n",
       "        vertical-align: top;\n",
       "    }\n",
       "\n",
       "    .dataframe thead th {\n",
       "        text-align: right;\n",
       "    }\n",
       "</style>\n",
       "<table border=\"1\" class=\"dataframe\">\n",
       "  <thead>\n",
       "    <tr style=\"text-align: right;\">\n",
       "      <th></th>\n",
       "      <th>Close</th>\n",
       "      <th>center</th>\n",
       "      <th>ub</th>\n",
       "      <th>lb</th>\n",
       "      <th>trade</th>\n",
       "      <th>return</th>\n",
       "      <th>acc_rtn</th>\n",
       "    </tr>\n",
       "    <tr>\n",
       "      <th>Date</th>\n",
       "      <th></th>\n",
       "      <th></th>\n",
       "      <th></th>\n",
       "      <th></th>\n",
       "      <th></th>\n",
       "      <th></th>\n",
       "      <th></th>\n",
       "    </tr>\n",
       "  </thead>\n",
       "  <tbody>\n",
       "    <tr>\n",
       "      <th>2011-01-03</th>\n",
       "      <td>37.060001</td>\n",
       "      <td>NaN</td>\n",
       "      <td>NaN</td>\n",
       "      <td>NaN</td>\n",
       "      <td></td>\n",
       "      <td>1.0</td>\n",
       "      <td>1.0</td>\n",
       "    </tr>\n",
       "  </tbody>\n",
       "</table>\n",
       "</div>"
      ],
      "text/plain": [
       "                Close  center  ub  lb trade  return  acc_rtn\n",
       "Date                                                        \n",
       "2011-01-03  37.060001     NaN NaN NaN           1.0      1.0"
      ]
     },
     "execution_count": 129,
     "metadata": {},
     "output_type": "execute_result"
    }
   ],
   "source": [
    "data.head(1)"
   ]
  },
  {
   "cell_type": "code",
   "execution_count": 118,
   "metadata": {},
   "outputs": [],
   "source": [
    "# 2번 함수 생성\n",
    "def add_trade (df, col):\n",
    "    col = df.columns[0]\n",
    "    # 기준이 되는 컬럼은 무엇인가?\n",
    "    # 기준이 되는 컬럼은 컬럼 중에 첫번째이기 때문에 df.columns[0]\n",
    "    # trade 파생변수 생성\n",
    "    df['trade'] = ''\n",
    "    # 거래 내역을 추가\n",
    "    for i in df.index:\n",
    "    # 상단 밴드보다 종가가 높은 경우\n",
    "        if df.loc[i, col] > df.loc[i, 'ub']:\n",
    "            # 현재 구매 상태이면\n",
    "            if df.shift(1).loc[i, 'trade'] == 'buy':\n",
    "                # 매도\n",
    "                df.loc[i, 'trade'] = ''\n",
    "            else:\n",
    "                df.loc[i, 'trade'] = ''\n",
    "        # 하단 밴드보다 종가가 낮은 경우\n",
    "        elif df.loc[i, col] < df.loc[i, 'lb']:\n",
    "            # 현재 구매 상태이면\n",
    "            if df.shift(1).loc[i, 'trade'] == 'buy':\n",
    "                # 구매 상태를 유지\n",
    "                df.loc[i, 'trade'] = 'buy'\n",
    "            else:\n",
    "                # 매수\n",
    "                df.loc[i, 'trade'] = 'buy' \n",
    "        else:\n",
    "            # 현재 구매 상태이면\n",
    "            if df.shift(1).loc[i, 'trade'] == 'buy':\n",
    "                # 구매 상태를 유지\n",
    "                df.loc[i, 'trade'] = 'buy'\n",
    "            else:\n",
    "                df.loc[i, 'trade'] = ''\n",
    "    return df"
   ]
  },
  {
   "cell_type": "code",
   "execution_count": 133,
   "metadata": {},
   "outputs": [
    {
     "data": {
      "text/plain": [
       "buy    559\n",
       "       447\n",
       "Name: trade, dtype: int64"
      ]
     },
     "execution_count": 133,
     "metadata": {},
     "output_type": "execute_result"
    }
   ],
   "source": [
    "add_trade(data, 'close')['trade'].value_counts()"
   ]
  },
  {
   "cell_type": "code",
   "execution_count": 134,
   "metadata": {},
   "outputs": [],
   "source": [
    "data = add_trade(data, 'Close')"
   ]
  },
  {
   "cell_type": "code",
   "execution_count": 142,
   "metadata": {},
   "outputs": [],
   "source": [
    "# 3번째 함수 생성\n",
    "def add_rtn(df):\n",
    "    col = df.columns[0]\n",
    "    # 수익율 파생변수 생성\n",
    "    df['return'] = 1\n",
    "    # 판매한 날의 수익율 대입\n",
    "    rtn = 1.0\n",
    "    buy = 0.0\n",
    "    sell = 0.0\n",
    "\n",
    "    for i in df.index:\n",
    "        # 구매가를 출력\n",
    "        if (df.shift(1).loc[i, 'trade'] == '') and \\\n",
    "            (df.loc[i, 'trade'] == 'buy'):\n",
    "            buy = df.loc[i, col]\n",
    "            print('진입일 :', i, '구매 가격 :', buy)\n",
    "        # 판매가를 출력\n",
    "        elif (df.shift(1).loc[i, 'trade'] == 'buy') and \\\n",
    "            (df.loc[i, 'trade'] == ''):\n",
    "            sell = df.loc[i, col]\n",
    "            rtn = (sell - buy) / buy + 1\n",
    "            df.loc[i, 'return'] = rtn\n",
    "            print('판매일 :', i, '판매 가격 :', sell, '수익율 :', rtn)\n",
    "\n",
    "        # 구매가, 판매가를 초기화\n",
    "        if df.loc[i, 'trade'] == '':\n",
    "            buy = 0.0\n",
    "            sell = 0.0\n",
    "    \n",
    "    # 누적 수익율 계산하여 파생변수에 대입\n",
    "    acc_rtn = 1.0\n",
    "\n",
    "    for i in df.index:\n",
    "        rtn = df.loc[i, 'return']\n",
    "        acc_rtn *= rtn\n",
    "        df.loc[i, 'acc_rtn'] = acc_rtn\n",
    "\n",
    "    print('누적 수익율 :', acc_rtn)\n",
    "\n",
    "    return df"
   ]
  },
  {
   "cell_type": "code",
   "execution_count": 143,
   "metadata": {},
   "outputs": [
    {
     "name": "stdout",
     "output_type": "stream",
     "text": [
      "진입일 : 2011-02-02 00:00:00 구매 가격 : 35.68\n",
      "판매일 : 2011-04-05 00:00:00 판매 가격 : 32.869999 수익율 : 0.9212443665919282\n",
      "진입일 : 2011-06-02 00:00:00 구매 가격 : 29.6\n",
      "판매일 : 2011-07-07 00:00:00 판매 가격 : 31.799999 수익율 : 1.0743242905405406\n",
      "진입일 : 2011-07-27 00:00:00 구매 가격 : 28.139999\n",
      "판매일 : 2012-01-05 00:00:00 판매 가격 : 22.17 수익율 : 0.7878465098737211\n",
      "진입일 : 2012-03-06 00:00:00 구매 가격 : 24.58\n",
      "판매일 : 2012-04-02 00:00:00 판매 가격 : 26.76 수익율 : 1.0886899918633037\n",
      "진입일 : 2012-04-09 00:00:00 구매 가격 : 24.200001\n",
      "판매일 : 2012-08-07 00:00:00 판매 가격 : 20.42 수익율 : 0.8438016180247265\n",
      "진입일 : 2013-02-20 00:00:00 구매 가격 : 27.1\n",
      "판매일 : 2013-03-20 00:00:00 판매 가격 : 29.200001 수익율 : 1.0774908118081181\n",
      "진입일 : 2013-06-20 00:00:00 구매 가격 : 32.560001\n",
      "판매일 : 2013-09-10 00:00:00 판매 가격 : 37.0 수익율 : 1.1363636014630343\n",
      "진입일 : 2013-10-03 00:00:00 구매 가격 : 35.290001\n",
      "판매일 : 2013-10-30 00:00:00 판매 가격 : 37.23 수익율 : 1.0549730502982984\n",
      "진입일 : 2014-01-16 00:00:00 구매 가격 : 39.0\n",
      "판매일 : 2014-03-05 00:00:00 판매 가격 : 37.52 수익율 : 0.9620512820512821\n",
      "진입일 : 2014-03-13 00:00:00 구매 가격 : 34.09\n",
      "판매일 : 2014-06-04 00:00:00 판매 가격 : 36.52 수익율 : 1.0712819008506893\n",
      "진입일 : 2014-07-24 00:00:00 구매 가격 : 35.740002\n",
      "판매일 : 2014-11-17 00:00:00 판매 가격 : 32.310001 수익율 : 0.9040290764393355\n",
      "진입일 : 2014-12-15 00:00:00 구매 가격 : 31.0\n",
      "누적 수익율 : 0.86209094812149\n"
     ]
    },
    {
     "data": {
      "text/html": [
       "<div>\n",
       "<style scoped>\n",
       "    .dataframe tbody tr th:only-of-type {\n",
       "        vertical-align: middle;\n",
       "    }\n",
       "\n",
       "    .dataframe tbody tr th {\n",
       "        vertical-align: top;\n",
       "    }\n",
       "\n",
       "    .dataframe thead th {\n",
       "        text-align: right;\n",
       "    }\n",
       "</style>\n",
       "<table border=\"1\" class=\"dataframe\">\n",
       "  <thead>\n",
       "    <tr style=\"text-align: right;\">\n",
       "      <th></th>\n",
       "      <th>Close</th>\n",
       "      <th>center</th>\n",
       "      <th>ub</th>\n",
       "      <th>lb</th>\n",
       "      <th>trade</th>\n",
       "      <th>return</th>\n",
       "      <th>acc_rtn</th>\n",
       "    </tr>\n",
       "    <tr>\n",
       "      <th>Date</th>\n",
       "      <th></th>\n",
       "      <th></th>\n",
       "      <th></th>\n",
       "      <th></th>\n",
       "      <th></th>\n",
       "      <th></th>\n",
       "      <th></th>\n",
       "    </tr>\n",
       "  </thead>\n",
       "  <tbody>\n",
       "    <tr>\n",
       "      <th>2011-01-03</th>\n",
       "      <td>37.060001</td>\n",
       "      <td>NaN</td>\n",
       "      <td>NaN</td>\n",
       "      <td>NaN</td>\n",
       "      <td></td>\n",
       "      <td>1.0</td>\n",
       "      <td>1.000000</td>\n",
       "    </tr>\n",
       "    <tr>\n",
       "      <th>2011-01-04</th>\n",
       "      <td>37.900002</td>\n",
       "      <td>NaN</td>\n",
       "      <td>NaN</td>\n",
       "      <td>NaN</td>\n",
       "      <td></td>\n",
       "      <td>1.0</td>\n",
       "      <td>1.000000</td>\n",
       "    </tr>\n",
       "    <tr>\n",
       "      <th>2011-01-05</th>\n",
       "      <td>38.070000</td>\n",
       "      <td>NaN</td>\n",
       "      <td>NaN</td>\n",
       "      <td>NaN</td>\n",
       "      <td></td>\n",
       "      <td>1.0</td>\n",
       "      <td>1.000000</td>\n",
       "    </tr>\n",
       "    <tr>\n",
       "      <th>2011-01-06</th>\n",
       "      <td>38.900002</td>\n",
       "      <td>NaN</td>\n",
       "      <td>NaN</td>\n",
       "      <td>NaN</td>\n",
       "      <td></td>\n",
       "      <td>1.0</td>\n",
       "      <td>1.000000</td>\n",
       "    </tr>\n",
       "    <tr>\n",
       "      <th>2011-01-07</th>\n",
       "      <td>38.980000</td>\n",
       "      <td>NaN</td>\n",
       "      <td>NaN</td>\n",
       "      <td>NaN</td>\n",
       "      <td></td>\n",
       "      <td>1.0</td>\n",
       "      <td>1.000000</td>\n",
       "    </tr>\n",
       "    <tr>\n",
       "      <th>...</th>\n",
       "      <td>...</td>\n",
       "      <td>...</td>\n",
       "      <td>...</td>\n",
       "      <td>...</td>\n",
       "      <td>...</td>\n",
       "      <td>...</td>\n",
       "      <td>...</td>\n",
       "    </tr>\n",
       "    <tr>\n",
       "      <th>2014-12-24</th>\n",
       "      <td>33.430000</td>\n",
       "      <td>32.5620</td>\n",
       "      <td>34.464492</td>\n",
       "      <td>30.659507</td>\n",
       "      <td>buy</td>\n",
       "      <td>1.0</td>\n",
       "      <td>0.862091</td>\n",
       "    </tr>\n",
       "    <tr>\n",
       "      <th>2014-12-26</th>\n",
       "      <td>33.730000</td>\n",
       "      <td>32.6450</td>\n",
       "      <td>34.601199</td>\n",
       "      <td>30.688801</td>\n",
       "      <td>buy</td>\n",
       "      <td>1.0</td>\n",
       "      <td>0.862091</td>\n",
       "    </tr>\n",
       "    <tr>\n",
       "      <th>2014-12-29</th>\n",
       "      <td>34.599998</td>\n",
       "      <td>32.7035</td>\n",
       "      <td>34.821803</td>\n",
       "      <td>30.585196</td>\n",
       "      <td>buy</td>\n",
       "      <td>1.0</td>\n",
       "      <td>0.862091</td>\n",
       "    </tr>\n",
       "    <tr>\n",
       "      <th>2014-12-30</th>\n",
       "      <td>35.090000</td>\n",
       "      <td>32.8110</td>\n",
       "      <td>35.182878</td>\n",
       "      <td>30.439122</td>\n",
       "      <td>buy</td>\n",
       "      <td>1.0</td>\n",
       "      <td>0.862091</td>\n",
       "    </tr>\n",
       "    <tr>\n",
       "      <th>2014-12-31</th>\n",
       "      <td>34.910000</td>\n",
       "      <td>32.8935</td>\n",
       "      <td>35.439525</td>\n",
       "      <td>30.347475</td>\n",
       "      <td>buy</td>\n",
       "      <td>1.0</td>\n",
       "      <td>0.862091</td>\n",
       "    </tr>\n",
       "  </tbody>\n",
       "</table>\n",
       "<p>1006 rows × 7 columns</p>\n",
       "</div>"
      ],
      "text/plain": [
       "                Close   center         ub         lb trade  return   acc_rtn\n",
       "Date                                                                        \n",
       "2011-01-03  37.060001      NaN        NaN        NaN           1.0  1.000000\n",
       "2011-01-04  37.900002      NaN        NaN        NaN           1.0  1.000000\n",
       "2011-01-05  38.070000      NaN        NaN        NaN           1.0  1.000000\n",
       "2011-01-06  38.900002      NaN        NaN        NaN           1.0  1.000000\n",
       "2011-01-07  38.980000      NaN        NaN        NaN           1.0  1.000000\n",
       "...               ...      ...        ...        ...   ...     ...       ...\n",
       "2014-12-24  33.430000  32.5620  34.464492  30.659507   buy     1.0  0.862091\n",
       "2014-12-26  33.730000  32.6450  34.601199  30.688801   buy     1.0  0.862091\n",
       "2014-12-29  34.599998  32.7035  34.821803  30.585196   buy     1.0  0.862091\n",
       "2014-12-30  35.090000  32.8110  35.182878  30.439122   buy     1.0  0.862091\n",
       "2014-12-31  34.910000  32.8935  35.439525  30.347475   buy     1.0  0.862091\n",
       "\n",
       "[1006 rows x 7 columns]"
      ]
     },
     "execution_count": 143,
     "metadata": {},
     "output_type": "execute_result"
    }
   ],
   "source": [
    "add_rtn(data)"
   ]
  },
  {
   "cell_type": "code",
   "execution_count": 167,
   "metadata": {},
   "outputs": [
    {
     "data": {
      "text/plain": [
       "<module 'bollinger' (<_frozen_importlib_external.NamespaceLoader object at 0x1187906d0>)>"
      ]
     },
     "execution_count": 167,
     "metadata": {},
     "output_type": "execute_result"
    }
   ],
   "source": [
    "import bollinger as bol\n",
    "import imp\n",
    "imp.reload(bol)"
   ]
  },
  {
   "cell_type": "code",
   "execution_count": 168,
   "metadata": {},
   "outputs": [],
   "source": [
    "# 클래스 생성\n",
    "data = pd.read_csv('../csv/AAPL.csv', index_col='Date')"
   ]
  },
  {
   "cell_type": "code",
   "execution_count": 169,
   "metadata": {},
   "outputs": [
    {
     "ename": "AttributeError",
     "evalue": "module 'bollinger' has no attribute 'Invest'",
     "output_type": "error",
     "traceback": [
      "\u001b[0;31m---------------------------------------------------------------------------\u001b[0m",
      "\u001b[0;31mAttributeError\u001b[0m                            Traceback (most recent call last)",
      "Cell \u001b[0;32mIn[169], line 1\u001b[0m\n\u001b[0;32m----> 1\u001b[0m class_a \u001b[39m=\u001b[39m bg\u001b[39m.\u001b[39;49mInvest(data, \u001b[39m'\u001b[39m\u001b[39mAdj Close\u001b[39m\u001b[39m'\u001b[39m)\n",
      "\u001b[0;31mAttributeError\u001b[0m: module 'bollinger' has no attribute 'Invest'"
     ]
    }
   ],
   "source": [
    "class_a = bg.Invest(data, 'Adj Close')"
   ]
  },
  {
   "cell_type": "code",
   "execution_count": null,
   "metadata": {},
   "outputs": [],
   "source": []
  },
  {
   "cell_type": "code",
   "execution_count": null,
   "metadata": {},
   "outputs": [],
   "source": []
  }
 ],
 "metadata": {
  "kernelspec": {
   "display_name": "Python 3",
   "language": "python",
   "name": "python3"
  },
  "language_info": {
   "codemirror_mode": {
    "name": "ipython",
    "version": 3
   },
   "file_extension": ".py",
   "mimetype": "text/x-python",
   "name": "python",
   "nbconvert_exporter": "python",
   "pygments_lexer": "ipython3",
   "version": "3.11.2"
  },
  "orig_nbformat": 4
 },
 "nbformat": 4,
 "nbformat_minor": 2
}
